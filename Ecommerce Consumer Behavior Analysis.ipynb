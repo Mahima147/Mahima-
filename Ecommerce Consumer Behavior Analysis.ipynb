{
 "cells": [
  {
   "cell_type": "code",
   "execution_count": 2,
   "metadata": {},
   "outputs": [],
   "source": [
    "import pandas as pd"
   ]
  },
  {
   "cell_type": "code",
   "execution_count": 3,
   "metadata": {},
   "outputs": [
    {
     "name": "stdout",
     "output_type": "stream",
     "text": [
      "     Customer_ID  Age  Gender Income_Level Marital_Status Education_Level  \\\n",
      "0    37-611-6911   22  Female       Middle        Married      Bachelor's   \n",
      "1    29-392-9296   49    Male         High        Married     High School   \n",
      "2    84-649-5117   24  Female       Middle         Single        Master's   \n",
      "3    48-980-6078   29  Female       Middle         Single        Master's   \n",
      "4    91-170-9072   33  Female       Middle        Widowed     High School   \n",
      "..           ...  ...     ...          ...            ...             ...   \n",
      "995  20-562-2569   44  Female         High       Divorced      Bachelor's   \n",
      "996  41-366-4205   50  Female         High         Single     High School   \n",
      "997  77-241-7621   26    Male         High        Married      Bachelor's   \n",
      "998  53-091-2176   21  Female         High        Widowed      Bachelor's   \n",
      "999  48-203-9118   21  Female       Middle         Single     High School   \n",
      "\n",
      "    Occupation    Location     Purchase_Category Purchase_Amount  ...  \\\n",
      "0       Middle        Évry  Gardening & Outdoors        $333.80   ...   \n",
      "1         High    Huocheng      Food & Beverages        $222.22   ...   \n",
      "2         High      Huzhen       Office Supplies        $426.22   ...   \n",
      "3       Middle      Wiwilí       Home Appliances        $101.31   ...   \n",
      "4       Middle        Nara             Furniture        $211.70   ...   \n",
      "..         ...         ...                   ...             ...  ...   \n",
      "995       High   Aramayuan    Mobile Accessories        $463.67   ...   \n",
      "996     Middle     Paquera  Gardening & Outdoors         $69.78   ...   \n",
      "997       High  Warudoyong      Food & Beverages        $453.37   ...   \n",
      "998     Middle     Béziers         Baby Products        $106.15   ...   \n",
      "999       High    Dongzhou           Health Care        $378.47   ...   \n",
      "\n",
      "     Customer_Satisfaction Engagement_with_Ads  Device_Used_for_Shopping  \\\n",
      "0                        7                 NaN                    Tablet   \n",
      "1                        5                High                    Tablet   \n",
      "2                        7                 Low                Smartphone   \n",
      "3                        1                 NaN                Smartphone   \n",
      "4                       10                 NaN                Smartphone   \n",
      "..                     ...                 ...                       ...   \n",
      "995                      4                 NaN                    Tablet   \n",
      "996                      6                 Low                    Tablet   \n",
      "997                      6                High                   Desktop   \n",
      "998                      5              Medium                   Desktop   \n",
      "999                     10                 Low                    Tablet   \n",
      "\n",
      "     Payment_Method  Time_of_Purchase Discount_Used  \\\n",
      "0       Credit Card          3/1/2024          True   \n",
      "1            PayPal         4/16/2024          True   \n",
      "2        Debit Card         3/15/2024          True   \n",
      "3             Other         10/4/2024          True   \n",
      "4        Debit Card         1/30/2024         False   \n",
      "..              ...               ...           ...   \n",
      "995          PayPal          7/7/2024          True   \n",
      "996            Cash         3/28/2024          True   \n",
      "997     Credit Card         3/11/2024          True   \n",
      "998            Cash         3/30/2024          True   \n",
      "999           Other         12/8/2024         False   \n",
      "\n",
      "    Customer_Loyalty_Program_Member  Purchase_Intent  Shipping_Preference  \\\n",
      "0                             False       Need-based        No Preference   \n",
      "1                             False      Wants-based             Standard   \n",
      "2                              True        Impulsive        No Preference   \n",
      "3                              True       Need-based              Express   \n",
      "4                             False      Wants-based        No Preference   \n",
      "..                              ...              ...                  ...   \n",
      "995                           False       Need-based             Standard   \n",
      "996                           False      Wants-based        No Preference   \n",
      "997                            True      Wants-based              Express   \n",
      "998                            True        Impulsive             Standard   \n",
      "999                           False          Planned              Express   \n",
      "\n",
      "    Time_to_Decision  \n",
      "0                  2  \n",
      "1                  6  \n",
      "2                  3  \n",
      "3                 10  \n",
      "4                  4  \n",
      "..               ...  \n",
      "995                5  \n",
      "996                9  \n",
      "997                9  \n",
      "998                8  \n",
      "999                2  \n",
      "\n",
      "[1000 rows x 28 columns]\n"
     ]
    }
   ],
   "source": [
    "df = pd.read_csv('Ecommerce_Consumer_Behavior_Analysis_Data.csv')\n",
    "print(df)"
   ]
  },
  {
   "cell_type": "code",
   "execution_count": 4,
   "metadata": {},
   "outputs": [
    {
     "data": {
      "text/html": [
       "<div>\n",
       "<style scoped>\n",
       "    .dataframe tbody tr th:only-of-type {\n",
       "        vertical-align: middle;\n",
       "    }\n",
       "\n",
       "    .dataframe tbody tr th {\n",
       "        vertical-align: top;\n",
       "    }\n",
       "\n",
       "    .dataframe thead th {\n",
       "        text-align: right;\n",
       "    }\n",
       "</style>\n",
       "<table border=\"1\" class=\"dataframe\">\n",
       "  <thead>\n",
       "    <tr style=\"text-align: right;\">\n",
       "      <th></th>\n",
       "      <th>Customer_ID</th>\n",
       "      <th>Age</th>\n",
       "      <th>Gender</th>\n",
       "      <th>Income_Level</th>\n",
       "      <th>Marital_Status</th>\n",
       "      <th>Education_Level</th>\n",
       "      <th>Occupation</th>\n",
       "      <th>Location</th>\n",
       "      <th>Purchase_Category</th>\n",
       "      <th>Purchase_Amount</th>\n",
       "      <th>...</th>\n",
       "      <th>Customer_Satisfaction</th>\n",
       "      <th>Engagement_with_Ads</th>\n",
       "      <th>Device_Used_for_Shopping</th>\n",
       "      <th>Payment_Method</th>\n",
       "      <th>Time_of_Purchase</th>\n",
       "      <th>Discount_Used</th>\n",
       "      <th>Customer_Loyalty_Program_Member</th>\n",
       "      <th>Purchase_Intent</th>\n",
       "      <th>Shipping_Preference</th>\n",
       "      <th>Time_to_Decision</th>\n",
       "    </tr>\n",
       "  </thead>\n",
       "  <tbody>\n",
       "    <tr>\n",
       "      <th>0</th>\n",
       "      <td>37-611-6911</td>\n",
       "      <td>22</td>\n",
       "      <td>Female</td>\n",
       "      <td>Middle</td>\n",
       "      <td>Married</td>\n",
       "      <td>Bachelor's</td>\n",
       "      <td>Middle</td>\n",
       "      <td>Évry</td>\n",
       "      <td>Gardening &amp; Outdoors</td>\n",
       "      <td>$333.80</td>\n",
       "      <td>...</td>\n",
       "      <td>7</td>\n",
       "      <td>NaN</td>\n",
       "      <td>Tablet</td>\n",
       "      <td>Credit Card</td>\n",
       "      <td>3/1/2024</td>\n",
       "      <td>True</td>\n",
       "      <td>False</td>\n",
       "      <td>Need-based</td>\n",
       "      <td>No Preference</td>\n",
       "      <td>2</td>\n",
       "    </tr>\n",
       "    <tr>\n",
       "      <th>1</th>\n",
       "      <td>29-392-9296</td>\n",
       "      <td>49</td>\n",
       "      <td>Male</td>\n",
       "      <td>High</td>\n",
       "      <td>Married</td>\n",
       "      <td>High School</td>\n",
       "      <td>High</td>\n",
       "      <td>Huocheng</td>\n",
       "      <td>Food &amp; Beverages</td>\n",
       "      <td>$222.22</td>\n",
       "      <td>...</td>\n",
       "      <td>5</td>\n",
       "      <td>High</td>\n",
       "      <td>Tablet</td>\n",
       "      <td>PayPal</td>\n",
       "      <td>4/16/2024</td>\n",
       "      <td>True</td>\n",
       "      <td>False</td>\n",
       "      <td>Wants-based</td>\n",
       "      <td>Standard</td>\n",
       "      <td>6</td>\n",
       "    </tr>\n",
       "    <tr>\n",
       "      <th>2</th>\n",
       "      <td>84-649-5117</td>\n",
       "      <td>24</td>\n",
       "      <td>Female</td>\n",
       "      <td>Middle</td>\n",
       "      <td>Single</td>\n",
       "      <td>Master's</td>\n",
       "      <td>High</td>\n",
       "      <td>Huzhen</td>\n",
       "      <td>Office Supplies</td>\n",
       "      <td>$426.22</td>\n",
       "      <td>...</td>\n",
       "      <td>7</td>\n",
       "      <td>Low</td>\n",
       "      <td>Smartphone</td>\n",
       "      <td>Debit Card</td>\n",
       "      <td>3/15/2024</td>\n",
       "      <td>True</td>\n",
       "      <td>True</td>\n",
       "      <td>Impulsive</td>\n",
       "      <td>No Preference</td>\n",
       "      <td>3</td>\n",
       "    </tr>\n",
       "    <tr>\n",
       "      <th>3</th>\n",
       "      <td>48-980-6078</td>\n",
       "      <td>29</td>\n",
       "      <td>Female</td>\n",
       "      <td>Middle</td>\n",
       "      <td>Single</td>\n",
       "      <td>Master's</td>\n",
       "      <td>Middle</td>\n",
       "      <td>Wiwilí</td>\n",
       "      <td>Home Appliances</td>\n",
       "      <td>$101.31</td>\n",
       "      <td>...</td>\n",
       "      <td>1</td>\n",
       "      <td>NaN</td>\n",
       "      <td>Smartphone</td>\n",
       "      <td>Other</td>\n",
       "      <td>10/4/2024</td>\n",
       "      <td>True</td>\n",
       "      <td>True</td>\n",
       "      <td>Need-based</td>\n",
       "      <td>Express</td>\n",
       "      <td>10</td>\n",
       "    </tr>\n",
       "    <tr>\n",
       "      <th>4</th>\n",
       "      <td>91-170-9072</td>\n",
       "      <td>33</td>\n",
       "      <td>Female</td>\n",
       "      <td>Middle</td>\n",
       "      <td>Widowed</td>\n",
       "      <td>High School</td>\n",
       "      <td>Middle</td>\n",
       "      <td>Nara</td>\n",
       "      <td>Furniture</td>\n",
       "      <td>$211.70</td>\n",
       "      <td>...</td>\n",
       "      <td>10</td>\n",
       "      <td>NaN</td>\n",
       "      <td>Smartphone</td>\n",
       "      <td>Debit Card</td>\n",
       "      <td>1/30/2024</td>\n",
       "      <td>False</td>\n",
       "      <td>False</td>\n",
       "      <td>Wants-based</td>\n",
       "      <td>No Preference</td>\n",
       "      <td>4</td>\n",
       "    </tr>\n",
       "  </tbody>\n",
       "</table>\n",
       "<p>5 rows × 28 columns</p>\n",
       "</div>"
      ],
      "text/plain": [
       "   Customer_ID  Age  Gender Income_Level Marital_Status Education_Level  \\\n",
       "0  37-611-6911   22  Female       Middle        Married      Bachelor's   \n",
       "1  29-392-9296   49    Male         High        Married     High School   \n",
       "2  84-649-5117   24  Female       Middle         Single        Master's   \n",
       "3  48-980-6078   29  Female       Middle         Single        Master's   \n",
       "4  91-170-9072   33  Female       Middle        Widowed     High School   \n",
       "\n",
       "  Occupation  Location     Purchase_Category Purchase_Amount  ...  \\\n",
       "0     Middle      Évry  Gardening & Outdoors        $333.80   ...   \n",
       "1       High  Huocheng      Food & Beverages        $222.22   ...   \n",
       "2       High    Huzhen       Office Supplies        $426.22   ...   \n",
       "3     Middle    Wiwilí       Home Appliances        $101.31   ...   \n",
       "4     Middle      Nara             Furniture        $211.70   ...   \n",
       "\n",
       "   Customer_Satisfaction Engagement_with_Ads  Device_Used_for_Shopping  \\\n",
       "0                      7                 NaN                    Tablet   \n",
       "1                      5                High                    Tablet   \n",
       "2                      7                 Low                Smartphone   \n",
       "3                      1                 NaN                Smartphone   \n",
       "4                     10                 NaN                Smartphone   \n",
       "\n",
       "   Payment_Method  Time_of_Purchase Discount_Used  \\\n",
       "0     Credit Card          3/1/2024          True   \n",
       "1          PayPal         4/16/2024          True   \n",
       "2      Debit Card         3/15/2024          True   \n",
       "3           Other         10/4/2024          True   \n",
       "4      Debit Card         1/30/2024         False   \n",
       "\n",
       "  Customer_Loyalty_Program_Member  Purchase_Intent  Shipping_Preference  \\\n",
       "0                           False       Need-based        No Preference   \n",
       "1                           False      Wants-based             Standard   \n",
       "2                            True        Impulsive        No Preference   \n",
       "3                            True       Need-based              Express   \n",
       "4                           False      Wants-based        No Preference   \n",
       "\n",
       "  Time_to_Decision  \n",
       "0                2  \n",
       "1                6  \n",
       "2                3  \n",
       "3               10  \n",
       "4                4  \n",
       "\n",
       "[5 rows x 28 columns]"
      ]
     },
     "execution_count": 4,
     "metadata": {},
     "output_type": "execute_result"
    }
   ],
   "source": [
    "df.head()"
   ]
  },
  {
   "cell_type": "code",
   "execution_count": 5,
   "metadata": {},
   "outputs": [
    {
     "data": {
      "text/html": [
       "<div>\n",
       "<style scoped>\n",
       "    .dataframe tbody tr th:only-of-type {\n",
       "        vertical-align: middle;\n",
       "    }\n",
       "\n",
       "    .dataframe tbody tr th {\n",
       "        vertical-align: top;\n",
       "    }\n",
       "\n",
       "    .dataframe thead th {\n",
       "        text-align: right;\n",
       "    }\n",
       "</style>\n",
       "<table border=\"1\" class=\"dataframe\">\n",
       "  <thead>\n",
       "    <tr style=\"text-align: right;\">\n",
       "      <th></th>\n",
       "      <th>Customer_ID</th>\n",
       "      <th>Age</th>\n",
       "      <th>Gender</th>\n",
       "      <th>Income_Level</th>\n",
       "      <th>Marital_Status</th>\n",
       "      <th>Education_Level</th>\n",
       "      <th>Occupation</th>\n",
       "      <th>Location</th>\n",
       "      <th>Purchase_Category</th>\n",
       "      <th>Purchase_Amount</th>\n",
       "      <th>...</th>\n",
       "      <th>Customer_Satisfaction</th>\n",
       "      <th>Engagement_with_Ads</th>\n",
       "      <th>Device_Used_for_Shopping</th>\n",
       "      <th>Payment_Method</th>\n",
       "      <th>Time_of_Purchase</th>\n",
       "      <th>Discount_Used</th>\n",
       "      <th>Customer_Loyalty_Program_Member</th>\n",
       "      <th>Purchase_Intent</th>\n",
       "      <th>Shipping_Preference</th>\n",
       "      <th>Time_to_Decision</th>\n",
       "    </tr>\n",
       "  </thead>\n",
       "  <tbody>\n",
       "    <tr>\n",
       "      <th>995</th>\n",
       "      <td>20-562-2569</td>\n",
       "      <td>44</td>\n",
       "      <td>Female</td>\n",
       "      <td>High</td>\n",
       "      <td>Divorced</td>\n",
       "      <td>Bachelor's</td>\n",
       "      <td>High</td>\n",
       "      <td>Aramayuan</td>\n",
       "      <td>Mobile Accessories</td>\n",
       "      <td>$463.67</td>\n",
       "      <td>...</td>\n",
       "      <td>4</td>\n",
       "      <td>NaN</td>\n",
       "      <td>Tablet</td>\n",
       "      <td>PayPal</td>\n",
       "      <td>7/7/2024</td>\n",
       "      <td>True</td>\n",
       "      <td>False</td>\n",
       "      <td>Need-based</td>\n",
       "      <td>Standard</td>\n",
       "      <td>5</td>\n",
       "    </tr>\n",
       "    <tr>\n",
       "      <th>996</th>\n",
       "      <td>41-366-4205</td>\n",
       "      <td>50</td>\n",
       "      <td>Female</td>\n",
       "      <td>High</td>\n",
       "      <td>Single</td>\n",
       "      <td>High School</td>\n",
       "      <td>Middle</td>\n",
       "      <td>Paquera</td>\n",
       "      <td>Gardening &amp; Outdoors</td>\n",
       "      <td>$69.78</td>\n",
       "      <td>...</td>\n",
       "      <td>6</td>\n",
       "      <td>Low</td>\n",
       "      <td>Tablet</td>\n",
       "      <td>Cash</td>\n",
       "      <td>3/28/2024</td>\n",
       "      <td>True</td>\n",
       "      <td>False</td>\n",
       "      <td>Wants-based</td>\n",
       "      <td>No Preference</td>\n",
       "      <td>9</td>\n",
       "    </tr>\n",
       "    <tr>\n",
       "      <th>997</th>\n",
       "      <td>77-241-7621</td>\n",
       "      <td>26</td>\n",
       "      <td>Male</td>\n",
       "      <td>High</td>\n",
       "      <td>Married</td>\n",
       "      <td>Bachelor's</td>\n",
       "      <td>High</td>\n",
       "      <td>Warudoyong</td>\n",
       "      <td>Food &amp; Beverages</td>\n",
       "      <td>$453.37</td>\n",
       "      <td>...</td>\n",
       "      <td>6</td>\n",
       "      <td>High</td>\n",
       "      <td>Desktop</td>\n",
       "      <td>Credit Card</td>\n",
       "      <td>3/11/2024</td>\n",
       "      <td>True</td>\n",
       "      <td>True</td>\n",
       "      <td>Wants-based</td>\n",
       "      <td>Express</td>\n",
       "      <td>9</td>\n",
       "    </tr>\n",
       "    <tr>\n",
       "      <th>998</th>\n",
       "      <td>53-091-2176</td>\n",
       "      <td>21</td>\n",
       "      <td>Female</td>\n",
       "      <td>High</td>\n",
       "      <td>Widowed</td>\n",
       "      <td>Bachelor's</td>\n",
       "      <td>Middle</td>\n",
       "      <td>Béziers</td>\n",
       "      <td>Baby Products</td>\n",
       "      <td>$106.15</td>\n",
       "      <td>...</td>\n",
       "      <td>5</td>\n",
       "      <td>Medium</td>\n",
       "      <td>Desktop</td>\n",
       "      <td>Cash</td>\n",
       "      <td>3/30/2024</td>\n",
       "      <td>True</td>\n",
       "      <td>True</td>\n",
       "      <td>Impulsive</td>\n",
       "      <td>Standard</td>\n",
       "      <td>8</td>\n",
       "    </tr>\n",
       "    <tr>\n",
       "      <th>999</th>\n",
       "      <td>48-203-9118</td>\n",
       "      <td>21</td>\n",
       "      <td>Female</td>\n",
       "      <td>Middle</td>\n",
       "      <td>Single</td>\n",
       "      <td>High School</td>\n",
       "      <td>High</td>\n",
       "      <td>Dongzhou</td>\n",
       "      <td>Health Care</td>\n",
       "      <td>$378.47</td>\n",
       "      <td>...</td>\n",
       "      <td>10</td>\n",
       "      <td>Low</td>\n",
       "      <td>Tablet</td>\n",
       "      <td>Other</td>\n",
       "      <td>12/8/2024</td>\n",
       "      <td>False</td>\n",
       "      <td>False</td>\n",
       "      <td>Planned</td>\n",
       "      <td>Express</td>\n",
       "      <td>2</td>\n",
       "    </tr>\n",
       "  </tbody>\n",
       "</table>\n",
       "<p>5 rows × 28 columns</p>\n",
       "</div>"
      ],
      "text/plain": [
       "     Customer_ID  Age  Gender Income_Level Marital_Status Education_Level  \\\n",
       "995  20-562-2569   44  Female         High       Divorced      Bachelor's   \n",
       "996  41-366-4205   50  Female         High         Single     High School   \n",
       "997  77-241-7621   26    Male         High        Married      Bachelor's   \n",
       "998  53-091-2176   21  Female         High        Widowed      Bachelor's   \n",
       "999  48-203-9118   21  Female       Middle         Single     High School   \n",
       "\n",
       "    Occupation    Location     Purchase_Category Purchase_Amount  ...  \\\n",
       "995       High   Aramayuan    Mobile Accessories        $463.67   ...   \n",
       "996     Middle     Paquera  Gardening & Outdoors         $69.78   ...   \n",
       "997       High  Warudoyong      Food & Beverages        $453.37   ...   \n",
       "998     Middle     Béziers         Baby Products        $106.15   ...   \n",
       "999       High    Dongzhou           Health Care        $378.47   ...   \n",
       "\n",
       "     Customer_Satisfaction Engagement_with_Ads  Device_Used_for_Shopping  \\\n",
       "995                      4                 NaN                    Tablet   \n",
       "996                      6                 Low                    Tablet   \n",
       "997                      6                High                   Desktop   \n",
       "998                      5              Medium                   Desktop   \n",
       "999                     10                 Low                    Tablet   \n",
       "\n",
       "     Payment_Method  Time_of_Purchase Discount_Used  \\\n",
       "995          PayPal          7/7/2024          True   \n",
       "996            Cash         3/28/2024          True   \n",
       "997     Credit Card         3/11/2024          True   \n",
       "998            Cash         3/30/2024          True   \n",
       "999           Other         12/8/2024         False   \n",
       "\n",
       "    Customer_Loyalty_Program_Member  Purchase_Intent  Shipping_Preference  \\\n",
       "995                           False       Need-based             Standard   \n",
       "996                           False      Wants-based        No Preference   \n",
       "997                            True      Wants-based              Express   \n",
       "998                            True        Impulsive             Standard   \n",
       "999                           False          Planned              Express   \n",
       "\n",
       "    Time_to_Decision  \n",
       "995                5  \n",
       "996                9  \n",
       "997                9  \n",
       "998                8  \n",
       "999                2  \n",
       "\n",
       "[5 rows x 28 columns]"
      ]
     },
     "execution_count": 5,
     "metadata": {},
     "output_type": "execute_result"
    }
   ],
   "source": [
    "df.tail()"
   ]
  },
  {
   "cell_type": "code",
   "execution_count": 6,
   "metadata": {},
   "outputs": [
    {
     "name": "stdout",
     "output_type": "stream",
     "text": [
      "(1000, 28)\n",
      "28000\n",
      "Index(['Customer_ID', 'Age', 'Gender', 'Income_Level', 'Marital_Status',\n",
      "       'Education_Level', 'Occupation', 'Location', 'Purchase_Category',\n",
      "       'Purchase_Amount', 'Frequency_of_Purchase', 'Purchase_Channel',\n",
      "       'Brand_Loyalty', 'Product_Rating',\n",
      "       'Time_Spent_on_Product_Research(hours)', 'Social_Media_Influence',\n",
      "       'Discount_Sensitivity', 'Return_Rate', 'Customer_Satisfaction',\n",
      "       'Engagement_with_Ads', 'Device_Used_for_Shopping', 'Payment_Method',\n",
      "       'Time_of_Purchase', 'Discount_Used', 'Customer_Loyalty_Program_Member',\n",
      "       'Purchase_Intent', 'Shipping_Preference', 'Time_to_Decision'],\n",
      "      dtype='object')\n",
      "2\n",
      "Customer_ID                               object\n",
      "Age                                        int64\n",
      "Gender                                    object\n",
      "Income_Level                              object\n",
      "Marital_Status                            object\n",
      "Education_Level                           object\n",
      "Occupation                                object\n",
      "Location                                  object\n",
      "Purchase_Category                         object\n",
      "Purchase_Amount                           object\n",
      "Frequency_of_Purchase                      int64\n",
      "Purchase_Channel                          object\n",
      "Brand_Loyalty                              int64\n",
      "Product_Rating                             int64\n",
      "Time_Spent_on_Product_Research(hours)    float64\n",
      "Social_Media_Influence                    object\n",
      "Discount_Sensitivity                      object\n",
      "Return_Rate                                int64\n",
      "Customer_Satisfaction                      int64\n",
      "Engagement_with_Ads                       object\n",
      "Device_Used_for_Shopping                  object\n",
      "Payment_Method                            object\n",
      "Time_of_Purchase                          object\n",
      "Discount_Used                               bool\n",
      "Customer_Loyalty_Program_Member             bool\n",
      "Purchase_Intent                           object\n",
      "Shipping_Preference                       object\n",
      "Time_to_Decision                           int64\n",
      "dtype: object\n",
      "<class 'pandas.core.frame.DataFrame'>\n"
     ]
    }
   ],
   "source": [
    "print(df.shape)\n",
    "print(df.size)\n",
    "print(df.columns)\n",
    "print(df.ndim)\n",
    "print(df.dtypes)\n",
    "print(type(df))"
   ]
  },
  {
   "cell_type": "code",
   "execution_count": 7,
   "metadata": {},
   "outputs": [
    {
     "data": {
      "text/html": [
       "<div>\n",
       "<style scoped>\n",
       "    .dataframe tbody tr th:only-of-type {\n",
       "        vertical-align: middle;\n",
       "    }\n",
       "\n",
       "    .dataframe tbody tr th {\n",
       "        vertical-align: top;\n",
       "    }\n",
       "\n",
       "    .dataframe thead th {\n",
       "        text-align: right;\n",
       "    }\n",
       "</style>\n",
       "<table border=\"1\" class=\"dataframe\">\n",
       "  <thead>\n",
       "    <tr style=\"text-align: right;\">\n",
       "      <th></th>\n",
       "      <th>Age</th>\n",
       "      <th>Frequency_of_Purchase</th>\n",
       "      <th>Brand_Loyalty</th>\n",
       "      <th>Product_Rating</th>\n",
       "      <th>Time_Spent_on_Product_Research(hours)</th>\n",
       "      <th>Return_Rate</th>\n",
       "      <th>Customer_Satisfaction</th>\n",
       "      <th>Time_to_Decision</th>\n",
       "    </tr>\n",
       "  </thead>\n",
       "  <tbody>\n",
       "    <tr>\n",
       "      <th>count</th>\n",
       "      <td>1000.000000</td>\n",
       "      <td>1000.000000</td>\n",
       "      <td>1000.000000</td>\n",
       "      <td>1000.000000</td>\n",
       "      <td>1000.000000</td>\n",
       "      <td>1000.000000</td>\n",
       "      <td>1000.000000</td>\n",
       "      <td>1000.000000</td>\n",
       "    </tr>\n",
       "    <tr>\n",
       "      <th>mean</th>\n",
       "      <td>34.304000</td>\n",
       "      <td>6.951000</td>\n",
       "      <td>3.026000</td>\n",
       "      <td>3.033000</td>\n",
       "      <td>1.013030</td>\n",
       "      <td>0.954000</td>\n",
       "      <td>5.399000</td>\n",
       "      <td>7.547000</td>\n",
       "    </tr>\n",
       "    <tr>\n",
       "      <th>std</th>\n",
       "      <td>9.353238</td>\n",
       "      <td>3.151274</td>\n",
       "      <td>1.416803</td>\n",
       "      <td>1.436654</td>\n",
       "      <td>0.791802</td>\n",
       "      <td>0.810272</td>\n",
       "      <td>2.868454</td>\n",
       "      <td>4.035849</td>\n",
       "    </tr>\n",
       "    <tr>\n",
       "      <th>min</th>\n",
       "      <td>18.000000</td>\n",
       "      <td>2.000000</td>\n",
       "      <td>1.000000</td>\n",
       "      <td>1.000000</td>\n",
       "      <td>0.000000</td>\n",
       "      <td>0.000000</td>\n",
       "      <td>1.000000</td>\n",
       "      <td>1.000000</td>\n",
       "    </tr>\n",
       "    <tr>\n",
       "      <th>25%</th>\n",
       "      <td>26.000000</td>\n",
       "      <td>4.000000</td>\n",
       "      <td>2.000000</td>\n",
       "      <td>2.000000</td>\n",
       "      <td>0.000000</td>\n",
       "      <td>0.000000</td>\n",
       "      <td>3.000000</td>\n",
       "      <td>4.000000</td>\n",
       "    </tr>\n",
       "    <tr>\n",
       "      <th>50%</th>\n",
       "      <td>34.500000</td>\n",
       "      <td>7.000000</td>\n",
       "      <td>3.000000</td>\n",
       "      <td>3.000000</td>\n",
       "      <td>1.000000</td>\n",
       "      <td>1.000000</td>\n",
       "      <td>5.000000</td>\n",
       "      <td>8.000000</td>\n",
       "    </tr>\n",
       "    <tr>\n",
       "      <th>75%</th>\n",
       "      <td>42.000000</td>\n",
       "      <td>10.000000</td>\n",
       "      <td>4.000000</td>\n",
       "      <td>4.000000</td>\n",
       "      <td>2.000000</td>\n",
       "      <td>2.000000</td>\n",
       "      <td>8.000000</td>\n",
       "      <td>11.000000</td>\n",
       "    </tr>\n",
       "    <tr>\n",
       "      <th>max</th>\n",
       "      <td>50.000000</td>\n",
       "      <td>12.000000</td>\n",
       "      <td>5.000000</td>\n",
       "      <td>5.000000</td>\n",
       "      <td>2.000000</td>\n",
       "      <td>2.000000</td>\n",
       "      <td>10.000000</td>\n",
       "      <td>14.000000</td>\n",
       "    </tr>\n",
       "  </tbody>\n",
       "</table>\n",
       "</div>"
      ],
      "text/plain": [
       "               Age  Frequency_of_Purchase  Brand_Loyalty  Product_Rating  \\\n",
       "count  1000.000000            1000.000000    1000.000000     1000.000000   \n",
       "mean     34.304000               6.951000       3.026000        3.033000   \n",
       "std       9.353238               3.151274       1.416803        1.436654   \n",
       "min      18.000000               2.000000       1.000000        1.000000   \n",
       "25%      26.000000               4.000000       2.000000        2.000000   \n",
       "50%      34.500000               7.000000       3.000000        3.000000   \n",
       "75%      42.000000              10.000000       4.000000        4.000000   \n",
       "max      50.000000              12.000000       5.000000        5.000000   \n",
       "\n",
       "       Time_Spent_on_Product_Research(hours)  Return_Rate  \\\n",
       "count                            1000.000000  1000.000000   \n",
       "mean                                1.013030     0.954000   \n",
       "std                                 0.791802     0.810272   \n",
       "min                                 0.000000     0.000000   \n",
       "25%                                 0.000000     0.000000   \n",
       "50%                                 1.000000     1.000000   \n",
       "75%                                 2.000000     2.000000   \n",
       "max                                 2.000000     2.000000   \n",
       "\n",
       "       Customer_Satisfaction  Time_to_Decision  \n",
       "count            1000.000000       1000.000000  \n",
       "mean                5.399000          7.547000  \n",
       "std                 2.868454          4.035849  \n",
       "min                 1.000000          1.000000  \n",
       "25%                 3.000000          4.000000  \n",
       "50%                 5.000000          8.000000  \n",
       "75%                 8.000000         11.000000  \n",
       "max                10.000000         14.000000  "
      ]
     },
     "execution_count": 7,
     "metadata": {},
     "output_type": "execute_result"
    }
   ],
   "source": [
    "df.describe()"
   ]
  },
  {
   "cell_type": "code",
   "execution_count": 8,
   "metadata": {},
   "outputs": [
    {
     "data": {
      "text/html": [
       "<div>\n",
       "<style scoped>\n",
       "    .dataframe tbody tr th:only-of-type {\n",
       "        vertical-align: middle;\n",
       "    }\n",
       "\n",
       "    .dataframe tbody tr th {\n",
       "        vertical-align: top;\n",
       "    }\n",
       "\n",
       "    .dataframe thead th {\n",
       "        text-align: right;\n",
       "    }\n",
       "</style>\n",
       "<table border=\"1\" class=\"dataframe\">\n",
       "  <thead>\n",
       "    <tr style=\"text-align: right;\">\n",
       "      <th></th>\n",
       "      <th>Customer_ID</th>\n",
       "      <th>Gender</th>\n",
       "      <th>Income_Level</th>\n",
       "      <th>Marital_Status</th>\n",
       "      <th>Education_Level</th>\n",
       "      <th>Occupation</th>\n",
       "      <th>Location</th>\n",
       "      <th>Purchase_Category</th>\n",
       "      <th>Purchase_Amount</th>\n",
       "      <th>Purchase_Channel</th>\n",
       "      <th>Social_Media_Influence</th>\n",
       "      <th>Discount_Sensitivity</th>\n",
       "      <th>Engagement_with_Ads</th>\n",
       "      <th>Device_Used_for_Shopping</th>\n",
       "      <th>Payment_Method</th>\n",
       "      <th>Time_of_Purchase</th>\n",
       "      <th>Purchase_Intent</th>\n",
       "      <th>Shipping_Preference</th>\n",
       "    </tr>\n",
       "  </thead>\n",
       "  <tbody>\n",
       "    <tr>\n",
       "      <th>count</th>\n",
       "      <td>1000</td>\n",
       "      <td>1000</td>\n",
       "      <td>1000</td>\n",
       "      <td>1000</td>\n",
       "      <td>1000</td>\n",
       "      <td>1000</td>\n",
       "      <td>1000</td>\n",
       "      <td>1000</td>\n",
       "      <td>1000</td>\n",
       "      <td>1000</td>\n",
       "      <td>753</td>\n",
       "      <td>1000</td>\n",
       "      <td>744</td>\n",
       "      <td>1000</td>\n",
       "      <td>1000</td>\n",
       "      <td>1000</td>\n",
       "      <td>1000</td>\n",
       "      <td>1000</td>\n",
       "    </tr>\n",
       "    <tr>\n",
       "      <th>unique</th>\n",
       "      <td>1000</td>\n",
       "      <td>8</td>\n",
       "      <td>2</td>\n",
       "      <td>4</td>\n",
       "      <td>3</td>\n",
       "      <td>2</td>\n",
       "      <td>969</td>\n",
       "      <td>24</td>\n",
       "      <td>989</td>\n",
       "      <td>3</td>\n",
       "      <td>3</td>\n",
       "      <td>3</td>\n",
       "      <td>3</td>\n",
       "      <td>3</td>\n",
       "      <td>5</td>\n",
       "      <td>344</td>\n",
       "      <td>4</td>\n",
       "      <td>3</td>\n",
       "    </tr>\n",
       "    <tr>\n",
       "      <th>top</th>\n",
       "      <td>48-203-9118</td>\n",
       "      <td>Female</td>\n",
       "      <td>High</td>\n",
       "      <td>Widowed</td>\n",
       "      <td>Bachelor's</td>\n",
       "      <td>High</td>\n",
       "      <td>Oslo</td>\n",
       "      <td>Electronics</td>\n",
       "      <td>$253.37</td>\n",
       "      <td>Mixed</td>\n",
       "      <td>High</td>\n",
       "      <td>Very Sensitive</td>\n",
       "      <td>High</td>\n",
       "      <td>Desktop</td>\n",
       "      <td>PayPal</td>\n",
       "      <td>3/3/2024</td>\n",
       "      <td>Need-based</td>\n",
       "      <td>No Preference</td>\n",
       "    </tr>\n",
       "    <tr>\n",
       "      <th>freq</th>\n",
       "      <td>1</td>\n",
       "      <td>452</td>\n",
       "      <td>515</td>\n",
       "      <td>260</td>\n",
       "      <td>341</td>\n",
       "      <td>517</td>\n",
       "      <td>4</td>\n",
       "      <td>54</td>\n",
       "      <td>2</td>\n",
       "      <td>340</td>\n",
       "      <td>268</td>\n",
       "      <td>350</td>\n",
       "      <td>270</td>\n",
       "      <td>350</td>\n",
       "      <td>219</td>\n",
       "      <td>8</td>\n",
       "      <td>256</td>\n",
       "      <td>372</td>\n",
       "    </tr>\n",
       "  </tbody>\n",
       "</table>\n",
       "</div>"
      ],
      "text/plain": [
       "        Customer_ID  Gender Income_Level Marital_Status Education_Level  \\\n",
       "count          1000    1000         1000           1000            1000   \n",
       "unique         1000       8            2              4               3   \n",
       "top     48-203-9118  Female         High        Widowed      Bachelor's   \n",
       "freq              1     452          515            260             341   \n",
       "\n",
       "       Occupation Location Purchase_Category Purchase_Amount Purchase_Channel  \\\n",
       "count        1000     1000              1000            1000             1000   \n",
       "unique          2      969                24             989                3   \n",
       "top          High     Oslo       Electronics        $253.37             Mixed   \n",
       "freq          517        4                54               2              340   \n",
       "\n",
       "       Social_Media_Influence Discount_Sensitivity Engagement_with_Ads  \\\n",
       "count                     753                 1000                 744   \n",
       "unique                      3                    3                   3   \n",
       "top                      High       Very Sensitive                High   \n",
       "freq                      268                  350                 270   \n",
       "\n",
       "       Device_Used_for_Shopping Payment_Method Time_of_Purchase  \\\n",
       "count                      1000           1000             1000   \n",
       "unique                        3              5              344   \n",
       "top                     Desktop         PayPal         3/3/2024   \n",
       "freq                        350            219                8   \n",
       "\n",
       "       Purchase_Intent Shipping_Preference  \n",
       "count             1000                1000  \n",
       "unique               4                   3  \n",
       "top         Need-based       No Preference  \n",
       "freq               256                 372  "
      ]
     },
     "execution_count": 8,
     "metadata": {},
     "output_type": "execute_result"
    }
   ],
   "source": [
    "df.describe(include='O')"
   ]
  },
  {
   "cell_type": "code",
   "execution_count": 9,
   "metadata": {},
   "outputs": [
    {
     "data": {
      "text/html": [
       "<div>\n",
       "<style scoped>\n",
       "    .dataframe tbody tr th:only-of-type {\n",
       "        vertical-align: middle;\n",
       "    }\n",
       "\n",
       "    .dataframe tbody tr th {\n",
       "        vertical-align: top;\n",
       "    }\n",
       "\n",
       "    .dataframe thead th {\n",
       "        text-align: right;\n",
       "    }\n",
       "</style>\n",
       "<table border=\"1\" class=\"dataframe\">\n",
       "  <thead>\n",
       "    <tr style=\"text-align: right;\">\n",
       "      <th></th>\n",
       "      <th>Customer_ID</th>\n",
       "      <th>Age</th>\n",
       "      <th>Gender</th>\n",
       "      <th>Income_Level</th>\n",
       "      <th>Marital_Status</th>\n",
       "      <th>Education_Level</th>\n",
       "      <th>Occupation</th>\n",
       "      <th>Location</th>\n",
       "      <th>Purchase_Category</th>\n",
       "      <th>Purchase_Amount</th>\n",
       "      <th>...</th>\n",
       "      <th>Customer_Satisfaction</th>\n",
       "      <th>Engagement_with_Ads</th>\n",
       "      <th>Device_Used_for_Shopping</th>\n",
       "      <th>Payment_Method</th>\n",
       "      <th>Time_of_Purchase</th>\n",
       "      <th>Discount_Used</th>\n",
       "      <th>Customer_Loyalty_Program_Member</th>\n",
       "      <th>Purchase_Intent</th>\n",
       "      <th>Shipping_Preference</th>\n",
       "      <th>Time_to_Decision</th>\n",
       "    </tr>\n",
       "  </thead>\n",
       "  <tbody>\n",
       "    <tr>\n",
       "      <th>count</th>\n",
       "      <td>1000</td>\n",
       "      <td>1000.000000</td>\n",
       "      <td>1000</td>\n",
       "      <td>1000</td>\n",
       "      <td>1000</td>\n",
       "      <td>1000</td>\n",
       "      <td>1000</td>\n",
       "      <td>1000</td>\n",
       "      <td>1000</td>\n",
       "      <td>1000</td>\n",
       "      <td>...</td>\n",
       "      <td>1000.000000</td>\n",
       "      <td>744</td>\n",
       "      <td>1000</td>\n",
       "      <td>1000</td>\n",
       "      <td>1000</td>\n",
       "      <td>1000</td>\n",
       "      <td>1000</td>\n",
       "      <td>1000</td>\n",
       "      <td>1000</td>\n",
       "      <td>1000.000000</td>\n",
       "    </tr>\n",
       "    <tr>\n",
       "      <th>unique</th>\n",
       "      <td>1000</td>\n",
       "      <td>NaN</td>\n",
       "      <td>8</td>\n",
       "      <td>2</td>\n",
       "      <td>4</td>\n",
       "      <td>3</td>\n",
       "      <td>2</td>\n",
       "      <td>969</td>\n",
       "      <td>24</td>\n",
       "      <td>989</td>\n",
       "      <td>...</td>\n",
       "      <td>NaN</td>\n",
       "      <td>3</td>\n",
       "      <td>3</td>\n",
       "      <td>5</td>\n",
       "      <td>344</td>\n",
       "      <td>2</td>\n",
       "      <td>2</td>\n",
       "      <td>4</td>\n",
       "      <td>3</td>\n",
       "      <td>NaN</td>\n",
       "    </tr>\n",
       "    <tr>\n",
       "      <th>top</th>\n",
       "      <td>48-203-9118</td>\n",
       "      <td>NaN</td>\n",
       "      <td>Female</td>\n",
       "      <td>High</td>\n",
       "      <td>Widowed</td>\n",
       "      <td>Bachelor's</td>\n",
       "      <td>High</td>\n",
       "      <td>Oslo</td>\n",
       "      <td>Electronics</td>\n",
       "      <td>$253.37</td>\n",
       "      <td>...</td>\n",
       "      <td>NaN</td>\n",
       "      <td>High</td>\n",
       "      <td>Desktop</td>\n",
       "      <td>PayPal</td>\n",
       "      <td>3/3/2024</td>\n",
       "      <td>True</td>\n",
       "      <td>False</td>\n",
       "      <td>Need-based</td>\n",
       "      <td>No Preference</td>\n",
       "      <td>NaN</td>\n",
       "    </tr>\n",
       "    <tr>\n",
       "      <th>freq</th>\n",
       "      <td>1</td>\n",
       "      <td>NaN</td>\n",
       "      <td>452</td>\n",
       "      <td>515</td>\n",
       "      <td>260</td>\n",
       "      <td>341</td>\n",
       "      <td>517</td>\n",
       "      <td>4</td>\n",
       "      <td>54</td>\n",
       "      <td>2</td>\n",
       "      <td>...</td>\n",
       "      <td>NaN</td>\n",
       "      <td>270</td>\n",
       "      <td>350</td>\n",
       "      <td>219</td>\n",
       "      <td>8</td>\n",
       "      <td>521</td>\n",
       "      <td>509</td>\n",
       "      <td>256</td>\n",
       "      <td>372</td>\n",
       "      <td>NaN</td>\n",
       "    </tr>\n",
       "    <tr>\n",
       "      <th>mean</th>\n",
       "      <td>NaN</td>\n",
       "      <td>34.304000</td>\n",
       "      <td>NaN</td>\n",
       "      <td>NaN</td>\n",
       "      <td>NaN</td>\n",
       "      <td>NaN</td>\n",
       "      <td>NaN</td>\n",
       "      <td>NaN</td>\n",
       "      <td>NaN</td>\n",
       "      <td>NaN</td>\n",
       "      <td>...</td>\n",
       "      <td>5.399000</td>\n",
       "      <td>NaN</td>\n",
       "      <td>NaN</td>\n",
       "      <td>NaN</td>\n",
       "      <td>NaN</td>\n",
       "      <td>NaN</td>\n",
       "      <td>NaN</td>\n",
       "      <td>NaN</td>\n",
       "      <td>NaN</td>\n",
       "      <td>7.547000</td>\n",
       "    </tr>\n",
       "    <tr>\n",
       "      <th>std</th>\n",
       "      <td>NaN</td>\n",
       "      <td>9.353238</td>\n",
       "      <td>NaN</td>\n",
       "      <td>NaN</td>\n",
       "      <td>NaN</td>\n",
       "      <td>NaN</td>\n",
       "      <td>NaN</td>\n",
       "      <td>NaN</td>\n",
       "      <td>NaN</td>\n",
       "      <td>NaN</td>\n",
       "      <td>...</td>\n",
       "      <td>2.868454</td>\n",
       "      <td>NaN</td>\n",
       "      <td>NaN</td>\n",
       "      <td>NaN</td>\n",
       "      <td>NaN</td>\n",
       "      <td>NaN</td>\n",
       "      <td>NaN</td>\n",
       "      <td>NaN</td>\n",
       "      <td>NaN</td>\n",
       "      <td>4.035849</td>\n",
       "    </tr>\n",
       "    <tr>\n",
       "      <th>min</th>\n",
       "      <td>NaN</td>\n",
       "      <td>18.000000</td>\n",
       "      <td>NaN</td>\n",
       "      <td>NaN</td>\n",
       "      <td>NaN</td>\n",
       "      <td>NaN</td>\n",
       "      <td>NaN</td>\n",
       "      <td>NaN</td>\n",
       "      <td>NaN</td>\n",
       "      <td>NaN</td>\n",
       "      <td>...</td>\n",
       "      <td>1.000000</td>\n",
       "      <td>NaN</td>\n",
       "      <td>NaN</td>\n",
       "      <td>NaN</td>\n",
       "      <td>NaN</td>\n",
       "      <td>NaN</td>\n",
       "      <td>NaN</td>\n",
       "      <td>NaN</td>\n",
       "      <td>NaN</td>\n",
       "      <td>1.000000</td>\n",
       "    </tr>\n",
       "    <tr>\n",
       "      <th>25%</th>\n",
       "      <td>NaN</td>\n",
       "      <td>26.000000</td>\n",
       "      <td>NaN</td>\n",
       "      <td>NaN</td>\n",
       "      <td>NaN</td>\n",
       "      <td>NaN</td>\n",
       "      <td>NaN</td>\n",
       "      <td>NaN</td>\n",
       "      <td>NaN</td>\n",
       "      <td>NaN</td>\n",
       "      <td>...</td>\n",
       "      <td>3.000000</td>\n",
       "      <td>NaN</td>\n",
       "      <td>NaN</td>\n",
       "      <td>NaN</td>\n",
       "      <td>NaN</td>\n",
       "      <td>NaN</td>\n",
       "      <td>NaN</td>\n",
       "      <td>NaN</td>\n",
       "      <td>NaN</td>\n",
       "      <td>4.000000</td>\n",
       "    </tr>\n",
       "    <tr>\n",
       "      <th>50%</th>\n",
       "      <td>NaN</td>\n",
       "      <td>34.500000</td>\n",
       "      <td>NaN</td>\n",
       "      <td>NaN</td>\n",
       "      <td>NaN</td>\n",
       "      <td>NaN</td>\n",
       "      <td>NaN</td>\n",
       "      <td>NaN</td>\n",
       "      <td>NaN</td>\n",
       "      <td>NaN</td>\n",
       "      <td>...</td>\n",
       "      <td>5.000000</td>\n",
       "      <td>NaN</td>\n",
       "      <td>NaN</td>\n",
       "      <td>NaN</td>\n",
       "      <td>NaN</td>\n",
       "      <td>NaN</td>\n",
       "      <td>NaN</td>\n",
       "      <td>NaN</td>\n",
       "      <td>NaN</td>\n",
       "      <td>8.000000</td>\n",
       "    </tr>\n",
       "    <tr>\n",
       "      <th>75%</th>\n",
       "      <td>NaN</td>\n",
       "      <td>42.000000</td>\n",
       "      <td>NaN</td>\n",
       "      <td>NaN</td>\n",
       "      <td>NaN</td>\n",
       "      <td>NaN</td>\n",
       "      <td>NaN</td>\n",
       "      <td>NaN</td>\n",
       "      <td>NaN</td>\n",
       "      <td>NaN</td>\n",
       "      <td>...</td>\n",
       "      <td>8.000000</td>\n",
       "      <td>NaN</td>\n",
       "      <td>NaN</td>\n",
       "      <td>NaN</td>\n",
       "      <td>NaN</td>\n",
       "      <td>NaN</td>\n",
       "      <td>NaN</td>\n",
       "      <td>NaN</td>\n",
       "      <td>NaN</td>\n",
       "      <td>11.000000</td>\n",
       "    </tr>\n",
       "    <tr>\n",
       "      <th>max</th>\n",
       "      <td>NaN</td>\n",
       "      <td>50.000000</td>\n",
       "      <td>NaN</td>\n",
       "      <td>NaN</td>\n",
       "      <td>NaN</td>\n",
       "      <td>NaN</td>\n",
       "      <td>NaN</td>\n",
       "      <td>NaN</td>\n",
       "      <td>NaN</td>\n",
       "      <td>NaN</td>\n",
       "      <td>...</td>\n",
       "      <td>10.000000</td>\n",
       "      <td>NaN</td>\n",
       "      <td>NaN</td>\n",
       "      <td>NaN</td>\n",
       "      <td>NaN</td>\n",
       "      <td>NaN</td>\n",
       "      <td>NaN</td>\n",
       "      <td>NaN</td>\n",
       "      <td>NaN</td>\n",
       "      <td>14.000000</td>\n",
       "    </tr>\n",
       "  </tbody>\n",
       "</table>\n",
       "<p>11 rows × 28 columns</p>\n",
       "</div>"
      ],
      "text/plain": [
       "        Customer_ID          Age  Gender Income_Level Marital_Status  \\\n",
       "count          1000  1000.000000    1000         1000           1000   \n",
       "unique         1000          NaN       8            2              4   \n",
       "top     48-203-9118          NaN  Female         High        Widowed   \n",
       "freq              1          NaN     452          515            260   \n",
       "mean            NaN    34.304000     NaN          NaN            NaN   \n",
       "std             NaN     9.353238     NaN          NaN            NaN   \n",
       "min             NaN    18.000000     NaN          NaN            NaN   \n",
       "25%             NaN    26.000000     NaN          NaN            NaN   \n",
       "50%             NaN    34.500000     NaN          NaN            NaN   \n",
       "75%             NaN    42.000000     NaN          NaN            NaN   \n",
       "max             NaN    50.000000     NaN          NaN            NaN   \n",
       "\n",
       "       Education_Level Occupation Location Purchase_Category Purchase_Amount  \\\n",
       "count             1000       1000     1000              1000            1000   \n",
       "unique               3          2      969                24             989   \n",
       "top         Bachelor's       High     Oslo       Electronics        $253.37    \n",
       "freq               341        517        4                54               2   \n",
       "mean               NaN        NaN      NaN               NaN             NaN   \n",
       "std                NaN        NaN      NaN               NaN             NaN   \n",
       "min                NaN        NaN      NaN               NaN             NaN   \n",
       "25%                NaN        NaN      NaN               NaN             NaN   \n",
       "50%                NaN        NaN      NaN               NaN             NaN   \n",
       "75%                NaN        NaN      NaN               NaN             NaN   \n",
       "max                NaN        NaN      NaN               NaN             NaN   \n",
       "\n",
       "        ...  Customer_Satisfaction Engagement_with_Ads  \\\n",
       "count   ...            1000.000000                 744   \n",
       "unique  ...                    NaN                   3   \n",
       "top     ...                    NaN                High   \n",
       "freq    ...                    NaN                 270   \n",
       "mean    ...               5.399000                 NaN   \n",
       "std     ...               2.868454                 NaN   \n",
       "min     ...               1.000000                 NaN   \n",
       "25%     ...               3.000000                 NaN   \n",
       "50%     ...               5.000000                 NaN   \n",
       "75%     ...               8.000000                 NaN   \n",
       "max     ...              10.000000                 NaN   \n",
       "\n",
       "        Device_Used_for_Shopping  Payment_Method  Time_of_Purchase  \\\n",
       "count                       1000            1000              1000   \n",
       "unique                         3               5               344   \n",
       "top                      Desktop          PayPal          3/3/2024   \n",
       "freq                         350             219                 8   \n",
       "mean                         NaN             NaN               NaN   \n",
       "std                          NaN             NaN               NaN   \n",
       "min                          NaN             NaN               NaN   \n",
       "25%                          NaN             NaN               NaN   \n",
       "50%                          NaN             NaN               NaN   \n",
       "75%                          NaN             NaN               NaN   \n",
       "max                          NaN             NaN               NaN   \n",
       "\n",
       "       Discount_Used Customer_Loyalty_Program_Member  Purchase_Intent  \\\n",
       "count           1000                            1000             1000   \n",
       "unique             2                               2                4   \n",
       "top             True                           False       Need-based   \n",
       "freq             521                             509              256   \n",
       "mean             NaN                             NaN              NaN   \n",
       "std              NaN                             NaN              NaN   \n",
       "min              NaN                             NaN              NaN   \n",
       "25%              NaN                             NaN              NaN   \n",
       "50%              NaN                             NaN              NaN   \n",
       "75%              NaN                             NaN              NaN   \n",
       "max              NaN                             NaN              NaN   \n",
       "\n",
       "        Shipping_Preference Time_to_Decision  \n",
       "count                  1000      1000.000000  \n",
       "unique                    3              NaN  \n",
       "top           No Preference              NaN  \n",
       "freq                    372              NaN  \n",
       "mean                    NaN         7.547000  \n",
       "std                     NaN         4.035849  \n",
       "min                     NaN         1.000000  \n",
       "25%                     NaN         4.000000  \n",
       "50%                     NaN         8.000000  \n",
       "75%                     NaN        11.000000  \n",
       "max                     NaN        14.000000  \n",
       "\n",
       "[11 rows x 28 columns]"
      ]
     },
     "execution_count": 9,
     "metadata": {},
     "output_type": "execute_result"
    }
   ],
   "source": [
    "df.describe(include='all')"
   ]
  },
  {
   "cell_type": "code",
   "execution_count": 10,
   "metadata": {},
   "outputs": [
    {
     "name": "stdout",
     "output_type": "stream",
     "text": [
      "Customer_ID                                0\n",
      "Age                                        0\n",
      "Gender                                     0\n",
      "Income_Level                               0\n",
      "Marital_Status                             0\n",
      "Education_Level                            0\n",
      "Occupation                                 0\n",
      "Location                                   0\n",
      "Purchase_Category                          0\n",
      "Purchase_Amount                            0\n",
      "Frequency_of_Purchase                      0\n",
      "Purchase_Channel                           0\n",
      "Brand_Loyalty                              0\n",
      "Product_Rating                             0\n",
      "Time_Spent_on_Product_Research(hours)      0\n",
      "Social_Media_Influence                   247\n",
      "Discount_Sensitivity                       0\n",
      "Return_Rate                                0\n",
      "Customer_Satisfaction                      0\n",
      "Engagement_with_Ads                      256\n",
      "Device_Used_for_Shopping                   0\n",
      "Payment_Method                             0\n",
      "Time_of_Purchase                           0\n",
      "Discount_Used                              0\n",
      "Customer_Loyalty_Program_Member            0\n",
      "Purchase_Intent                            0\n",
      "Shipping_Preference                        0\n",
      "Time_to_Decision                           0\n",
      "dtype: int64\n",
      "(1000, 28)\n"
     ]
    }
   ],
   "source": [
    "print(df.isna().sum())\n",
    "print(df.shape)"
   ]
  },
  {
   "cell_type": "code",
   "execution_count": 11,
   "metadata": {},
   "outputs": [
    {
     "name": "stdout",
     "output_type": "stream",
     "text": [
      "High\n",
      "High\n"
     ]
    },
    {
     "name": "stderr",
     "output_type": "stream",
     "text": [
      "C:\\Users\\mahim\\AppData\\Local\\Temp\\ipykernel_37412\\2193057953.py:4: FutureWarning: A value is trying to be set on a copy of a DataFrame or Series through chained assignment using an inplace method.\n",
      "The behavior will change in pandas 3.0. This inplace method will never work because the intermediate object on which we are setting values always behaves as a copy.\n",
      "\n",
      "For example, when doing 'df[col].method(value, inplace=True)', try using 'df.method({col: value}, inplace=True)' or df[col] = df[col].method(value) instead, to perform the operation inplace on the original object.\n",
      "\n",
      "\n",
      "  df['Social_Media_Influence'].fillna(x, inplace =True)\n",
      "C:\\Users\\mahim\\AppData\\Local\\Temp\\ipykernel_37412\\2193057953.py:7: FutureWarning: A value is trying to be set on a copy of a DataFrame or Series through chained assignment using an inplace method.\n",
      "The behavior will change in pandas 3.0. This inplace method will never work because the intermediate object on which we are setting values always behaves as a copy.\n",
      "\n",
      "For example, when doing 'df[col].method(value, inplace=True)', try using 'df.method({col: value}, inplace=True)' or df[col] = df[col].method(value) instead, to perform the operation inplace on the original object.\n",
      "\n",
      "\n",
      "  df['Engagement_with_Ads'].fillna(y, inplace=True)\n"
     ]
    }
   ],
   "source": [
    "# Data Cleaning\n",
    "x = df['Social_Media_Influence'].mode()[0]\n",
    "print(x)\n",
    "df['Social_Media_Influence'].fillna(x, inplace =True)\n",
    "y = df['Engagement_with_Ads'].mode()[0]\n",
    "print(y)\n",
    "df['Engagement_with_Ads'].fillna(y, inplace=True)"
   ]
  },
  {
   "cell_type": "code",
   "execution_count": 12,
   "metadata": {},
   "outputs": [
    {
     "name": "stdout",
     "output_type": "stream",
     "text": [
      "Customer_ID                              0\n",
      "Age                                      0\n",
      "Gender                                   0\n",
      "Income_Level                             0\n",
      "Marital_Status                           0\n",
      "Education_Level                          0\n",
      "Occupation                               0\n",
      "Location                                 0\n",
      "Purchase_Category                        0\n",
      "Purchase_Amount                          0\n",
      "Frequency_of_Purchase                    0\n",
      "Purchase_Channel                         0\n",
      "Brand_Loyalty                            0\n",
      "Product_Rating                           0\n",
      "Time_Spent_on_Product_Research(hours)    0\n",
      "Social_Media_Influence                   0\n",
      "Discount_Sensitivity                     0\n",
      "Return_Rate                              0\n",
      "Customer_Satisfaction                    0\n",
      "Engagement_with_Ads                      0\n",
      "Device_Used_for_Shopping                 0\n",
      "Payment_Method                           0\n",
      "Time_of_Purchase                         0\n",
      "Discount_Used                            0\n",
      "Customer_Loyalty_Program_Member          0\n",
      "Purchase_Intent                          0\n",
      "Shipping_Preference                      0\n",
      "Time_to_Decision                         0\n",
      "dtype: int64\n"
     ]
    }
   ],
   "source": [
    "print(df.isna().sum())"
   ]
  },
  {
   "cell_type": "code",
   "execution_count": 13,
   "metadata": {},
   "outputs": [
    {
     "name": "stdout",
     "output_type": "stream",
     "text": [
      "object\n"
     ]
    }
   ],
   "source": [
    "# Converting object to float\n",
    "print(df['Purchase_Amount'].dtype)\n",
    "\n",
    "df['Purchase_Amount'] = df['Purchase_Amount'].replace(r'[\\$, ]',' ', regex=True).astype(float)"
   ]
  },
  {
   "cell_type": "code",
   "execution_count": 14,
   "metadata": {},
   "outputs": [
    {
     "name": "stdout",
     "output_type": "stream",
     "text": [
      "float64\n"
     ]
    }
   ],
   "source": [
    "print(df['Purchase_Amount'].dtype)"
   ]
  },
  {
   "cell_type": "code",
   "execution_count": 15,
   "metadata": {},
   "outputs": [
    {
     "name": "stdout",
     "output_type": "stream",
     "text": [
      "['Gardening & Outdoors' 'Food & Beverages' 'Office Supplies'\n",
      " 'Home Appliances' 'Furniture' 'Books' 'Sports & Outdoors'\n",
      " 'Mobile Accessories' 'Luxury Goods' 'Animal Feed' 'Health Care' 'Hotels'\n",
      " 'Packages)' 'Electronics' 'Software & Apps' 'Baby Products'\n",
      " 'Toys & Games' 'Arts & Crafts' 'Health Supplements' 'Groceries'\n",
      " 'Clothing' 'Beauty & Personal Care' 'Travel & Leisure (Flights'\n",
      " 'Jewelry & Accessories']\n",
      "['Gardening & Outdoors' 'Food & Beverages' 'Office Supplies'\n",
      " 'Home Appliances' 'Furniture' 'Books' 'Sports & Outdoors'\n",
      " 'Mobile Accessories' 'Luxury Goods' 'Animal Feed' 'Health Care' 'Hotels'\n",
      " 'Packages' 'Electronics' 'Software & Apps' 'Baby Products' 'Toys & Games'\n",
      " 'Arts & Crafts' 'Health Supplements' 'Groceries' 'Clothing'\n",
      " 'Beauty & Personal Care' 'Travel & Leisure (Flights)'\n",
      " 'Jewelry & Accessories']\n"
     ]
    }
   ],
   "source": [
    "# Renaming values in purchase category\n",
    "print(df['Purchase_Category'].unique())\n",
    "df['Purchase_Category'] = df['Purchase_Category'].replace({'Packages)': 'Packages'})\n",
    "df['Purchase_Category'] = df['Purchase_Category'].replace({'Travel & Leisure (Flights': 'Travel & Leisure (Flights)'})\n",
    "print(df['Purchase_Category'].unique())"
   ]
  },
  {
   "cell_type": "code",
   "execution_count": 16,
   "metadata": {},
   "outputs": [
    {
     "data": {
      "text/html": [
       "<div>\n",
       "<style scoped>\n",
       "    .dataframe tbody tr th:only-of-type {\n",
       "        vertical-align: middle;\n",
       "    }\n",
       "\n",
       "    .dataframe tbody tr th {\n",
       "        vertical-align: top;\n",
       "    }\n",
       "\n",
       "    .dataframe thead th {\n",
       "        text-align: right;\n",
       "    }\n",
       "</style>\n",
       "<table border=\"1\" class=\"dataframe\">\n",
       "  <thead>\n",
       "    <tr style=\"text-align: right;\">\n",
       "      <th></th>\n",
       "      <th>Customer_ID</th>\n",
       "      <th>Age</th>\n",
       "      <th>Gender</th>\n",
       "      <th>Income_Level</th>\n",
       "      <th>Marital_Status</th>\n",
       "      <th>Education_Level</th>\n",
       "      <th>Occupation</th>\n",
       "      <th>Location</th>\n",
       "      <th>Purchase_Category</th>\n",
       "      <th>Purchase_Amount</th>\n",
       "      <th>...</th>\n",
       "      <th>Customer_Satisfaction</th>\n",
       "      <th>Engagement_with_Ads</th>\n",
       "      <th>Device_Used_for_Shopping</th>\n",
       "      <th>Payment_Method</th>\n",
       "      <th>Time_of_Purchase</th>\n",
       "      <th>Discount_Used</th>\n",
       "      <th>Customer_Loyalty_Program_Member</th>\n",
       "      <th>Purchase_Intent</th>\n",
       "      <th>Shipping_Preference</th>\n",
       "      <th>Time_to_Decision</th>\n",
       "    </tr>\n",
       "  </thead>\n",
       "  <tbody>\n",
       "    <tr>\n",
       "      <th>0</th>\n",
       "      <td>37-611-6911</td>\n",
       "      <td>22</td>\n",
       "      <td>Female</td>\n",
       "      <td>Middle</td>\n",
       "      <td>Married</td>\n",
       "      <td>Bachelor's</td>\n",
       "      <td>Middle</td>\n",
       "      <td>Évry</td>\n",
       "      <td>Gardening &amp; Outdoors</td>\n",
       "      <td>333.80</td>\n",
       "      <td>...</td>\n",
       "      <td>7</td>\n",
       "      <td>High</td>\n",
       "      <td>Tablet</td>\n",
       "      <td>Credit Card</td>\n",
       "      <td>3/1/2024</td>\n",
       "      <td>True</td>\n",
       "      <td>False</td>\n",
       "      <td>Need-based</td>\n",
       "      <td>No Preference</td>\n",
       "      <td>2</td>\n",
       "    </tr>\n",
       "    <tr>\n",
       "      <th>1</th>\n",
       "      <td>29-392-9296</td>\n",
       "      <td>49</td>\n",
       "      <td>Male</td>\n",
       "      <td>High</td>\n",
       "      <td>Married</td>\n",
       "      <td>High School</td>\n",
       "      <td>High</td>\n",
       "      <td>Huocheng</td>\n",
       "      <td>Food &amp; Beverages</td>\n",
       "      <td>222.22</td>\n",
       "      <td>...</td>\n",
       "      <td>5</td>\n",
       "      <td>High</td>\n",
       "      <td>Tablet</td>\n",
       "      <td>PayPal</td>\n",
       "      <td>4/16/2024</td>\n",
       "      <td>True</td>\n",
       "      <td>False</td>\n",
       "      <td>Wants-based</td>\n",
       "      <td>Standard</td>\n",
       "      <td>6</td>\n",
       "    </tr>\n",
       "    <tr>\n",
       "      <th>2</th>\n",
       "      <td>84-649-5117</td>\n",
       "      <td>24</td>\n",
       "      <td>Female</td>\n",
       "      <td>Middle</td>\n",
       "      <td>Single</td>\n",
       "      <td>Master's</td>\n",
       "      <td>High</td>\n",
       "      <td>Huzhen</td>\n",
       "      <td>Office Supplies</td>\n",
       "      <td>426.22</td>\n",
       "      <td>...</td>\n",
       "      <td>7</td>\n",
       "      <td>Low</td>\n",
       "      <td>Smartphone</td>\n",
       "      <td>Debit Card</td>\n",
       "      <td>3/15/2024</td>\n",
       "      <td>True</td>\n",
       "      <td>True</td>\n",
       "      <td>Impulsive</td>\n",
       "      <td>No Preference</td>\n",
       "      <td>3</td>\n",
       "    </tr>\n",
       "    <tr>\n",
       "      <th>3</th>\n",
       "      <td>48-980-6078</td>\n",
       "      <td>29</td>\n",
       "      <td>Female</td>\n",
       "      <td>Middle</td>\n",
       "      <td>Single</td>\n",
       "      <td>Master's</td>\n",
       "      <td>Middle</td>\n",
       "      <td>Wiwilí</td>\n",
       "      <td>Home Appliances</td>\n",
       "      <td>101.31</td>\n",
       "      <td>...</td>\n",
       "      <td>1</td>\n",
       "      <td>High</td>\n",
       "      <td>Smartphone</td>\n",
       "      <td>Other</td>\n",
       "      <td>10/4/2024</td>\n",
       "      <td>True</td>\n",
       "      <td>True</td>\n",
       "      <td>Need-based</td>\n",
       "      <td>Express</td>\n",
       "      <td>10</td>\n",
       "    </tr>\n",
       "    <tr>\n",
       "      <th>4</th>\n",
       "      <td>91-170-9072</td>\n",
       "      <td>33</td>\n",
       "      <td>Female</td>\n",
       "      <td>Middle</td>\n",
       "      <td>Widowed</td>\n",
       "      <td>High School</td>\n",
       "      <td>Middle</td>\n",
       "      <td>Nara</td>\n",
       "      <td>Furniture</td>\n",
       "      <td>211.70</td>\n",
       "      <td>...</td>\n",
       "      <td>10</td>\n",
       "      <td>High</td>\n",
       "      <td>Smartphone</td>\n",
       "      <td>Debit Card</td>\n",
       "      <td>1/30/2024</td>\n",
       "      <td>False</td>\n",
       "      <td>False</td>\n",
       "      <td>Wants-based</td>\n",
       "      <td>No Preference</td>\n",
       "      <td>4</td>\n",
       "    </tr>\n",
       "    <tr>\n",
       "      <th>5</th>\n",
       "      <td>82-561-4233</td>\n",
       "      <td>45</td>\n",
       "      <td>Male</td>\n",
       "      <td>Middle</td>\n",
       "      <td>Married</td>\n",
       "      <td>Master's</td>\n",
       "      <td>High</td>\n",
       "      <td>Boro Utara</td>\n",
       "      <td>Office Supplies</td>\n",
       "      <td>487.95</td>\n",
       "      <td>...</td>\n",
       "      <td>3</td>\n",
       "      <td>High</td>\n",
       "      <td>Tablet</td>\n",
       "      <td>Debit Card</td>\n",
       "      <td>3/19/2024</td>\n",
       "      <td>False</td>\n",
       "      <td>False</td>\n",
       "      <td>Planned</td>\n",
       "      <td>No Preference</td>\n",
       "      <td>7</td>\n",
       "    </tr>\n",
       "    <tr>\n",
       "      <th>6</th>\n",
       "      <td>90-144-9193</td>\n",
       "      <td>21</td>\n",
       "      <td>Female</td>\n",
       "      <td>Middle</td>\n",
       "      <td>Divorced</td>\n",
       "      <td>High School</td>\n",
       "      <td>Middle</td>\n",
       "      <td>Liren</td>\n",
       "      <td>Furniture</td>\n",
       "      <td>486.40</td>\n",
       "      <td>...</td>\n",
       "      <td>9</td>\n",
       "      <td>Low</td>\n",
       "      <td>Desktop</td>\n",
       "      <td>Debit Card</td>\n",
       "      <td>3/15/2024</td>\n",
       "      <td>True</td>\n",
       "      <td>False</td>\n",
       "      <td>Need-based</td>\n",
       "      <td>Express</td>\n",
       "      <td>13</td>\n",
       "    </tr>\n",
       "    <tr>\n",
       "      <th>7</th>\n",
       "      <td>88-661-4689</td>\n",
       "      <td>39</td>\n",
       "      <td>Male</td>\n",
       "      <td>Middle</td>\n",
       "      <td>Single</td>\n",
       "      <td>High School</td>\n",
       "      <td>Middle</td>\n",
       "      <td>Taocheng</td>\n",
       "      <td>Books</td>\n",
       "      <td>218.06</td>\n",
       "      <td>...</td>\n",
       "      <td>9</td>\n",
       "      <td>High</td>\n",
       "      <td>Desktop</td>\n",
       "      <td>Credit Card</td>\n",
       "      <td>3/17/2024</td>\n",
       "      <td>False</td>\n",
       "      <td>True</td>\n",
       "      <td>Impulsive</td>\n",
       "      <td>No Preference</td>\n",
       "      <td>13</td>\n",
       "    </tr>\n",
       "    <tr>\n",
       "      <th>8</th>\n",
       "      <td>37-065-3182</td>\n",
       "      <td>24</td>\n",
       "      <td>Female</td>\n",
       "      <td>High</td>\n",
       "      <td>Divorced</td>\n",
       "      <td>Master's</td>\n",
       "      <td>Middle</td>\n",
       "      <td>Gråbo</td>\n",
       "      <td>Office Supplies</td>\n",
       "      <td>201.96</td>\n",
       "      <td>...</td>\n",
       "      <td>2</td>\n",
       "      <td>High</td>\n",
       "      <td>Desktop</td>\n",
       "      <td>Cash</td>\n",
       "      <td>6/10/2024</td>\n",
       "      <td>False</td>\n",
       "      <td>False</td>\n",
       "      <td>Need-based</td>\n",
       "      <td>Standard</td>\n",
       "      <td>7</td>\n",
       "    </tr>\n",
       "    <tr>\n",
       "      <th>9</th>\n",
       "      <td>84-894-9222</td>\n",
       "      <td>25</td>\n",
       "      <td>Bigender</td>\n",
       "      <td>High</td>\n",
       "      <td>Married</td>\n",
       "      <td>Bachelor's</td>\n",
       "      <td>High</td>\n",
       "      <td>Pryamitsyno</td>\n",
       "      <td>Sports &amp; Outdoors</td>\n",
       "      <td>418.83</td>\n",
       "      <td>...</td>\n",
       "      <td>5</td>\n",
       "      <td>Medium</td>\n",
       "      <td>Tablet</td>\n",
       "      <td>PayPal</td>\n",
       "      <td>10/7/2024</td>\n",
       "      <td>True</td>\n",
       "      <td>False</td>\n",
       "      <td>Need-based</td>\n",
       "      <td>No Preference</td>\n",
       "      <td>13</td>\n",
       "    </tr>\n",
       "    <tr>\n",
       "      <th>10</th>\n",
       "      <td>44-674-4037</td>\n",
       "      <td>33</td>\n",
       "      <td>Male</td>\n",
       "      <td>Middle</td>\n",
       "      <td>Divorced</td>\n",
       "      <td>Bachelor's</td>\n",
       "      <td>Middle</td>\n",
       "      <td>Punta Gorda</td>\n",
       "      <td>Mobile Accessories</td>\n",
       "      <td>389.70</td>\n",
       "      <td>...</td>\n",
       "      <td>4</td>\n",
       "      <td>High</td>\n",
       "      <td>Desktop</td>\n",
       "      <td>PayPal</td>\n",
       "      <td>7/2/2024</td>\n",
       "      <td>True</td>\n",
       "      <td>False</td>\n",
       "      <td>Planned</td>\n",
       "      <td>Express</td>\n",
       "      <td>12</td>\n",
       "    </tr>\n",
       "    <tr>\n",
       "      <th>11</th>\n",
       "      <td>78-116-8349</td>\n",
       "      <td>38</td>\n",
       "      <td>Female</td>\n",
       "      <td>High</td>\n",
       "      <td>Widowed</td>\n",
       "      <td>Bachelor's</td>\n",
       "      <td>Middle</td>\n",
       "      <td>Győr</td>\n",
       "      <td>Sports &amp; Outdoors</td>\n",
       "      <td>238.93</td>\n",
       "      <td>...</td>\n",
       "      <td>10</td>\n",
       "      <td>High</td>\n",
       "      <td>Tablet</td>\n",
       "      <td>Cash</td>\n",
       "      <td>12/27/2024</td>\n",
       "      <td>True</td>\n",
       "      <td>False</td>\n",
       "      <td>Planned</td>\n",
       "      <td>No Preference</td>\n",
       "      <td>1</td>\n",
       "    </tr>\n",
       "    <tr>\n",
       "      <th>12</th>\n",
       "      <td>19-933-8095</td>\n",
       "      <td>34</td>\n",
       "      <td>Male</td>\n",
       "      <td>Middle</td>\n",
       "      <td>Single</td>\n",
       "      <td>Bachelor's</td>\n",
       "      <td>High</td>\n",
       "      <td>Gaosheng</td>\n",
       "      <td>Luxury Goods</td>\n",
       "      <td>61.22</td>\n",
       "      <td>...</td>\n",
       "      <td>7</td>\n",
       "      <td>High</td>\n",
       "      <td>Desktop</td>\n",
       "      <td>Debit Card</td>\n",
       "      <td>8/5/2024</td>\n",
       "      <td>True</td>\n",
       "      <td>True</td>\n",
       "      <td>Need-based</td>\n",
       "      <td>No Preference</td>\n",
       "      <td>5</td>\n",
       "    </tr>\n",
       "    <tr>\n",
       "      <th>13</th>\n",
       "      <td>80-684-5072</td>\n",
       "      <td>32</td>\n",
       "      <td>Male</td>\n",
       "      <td>High</td>\n",
       "      <td>Married</td>\n",
       "      <td>High School</td>\n",
       "      <td>Middle</td>\n",
       "      <td>Rokytne</td>\n",
       "      <td>Animal Feed</td>\n",
       "      <td>79.81</td>\n",
       "      <td>...</td>\n",
       "      <td>9</td>\n",
       "      <td>High</td>\n",
       "      <td>Smartphone</td>\n",
       "      <td>Debit Card</td>\n",
       "      <td>7/16/2024</td>\n",
       "      <td>False</td>\n",
       "      <td>True</td>\n",
       "      <td>Wants-based</td>\n",
       "      <td>Standard</td>\n",
       "      <td>14</td>\n",
       "    </tr>\n",
       "    <tr>\n",
       "      <th>14</th>\n",
       "      <td>23-302-7502</td>\n",
       "      <td>30</td>\n",
       "      <td>Female</td>\n",
       "      <td>High</td>\n",
       "      <td>Widowed</td>\n",
       "      <td>High School</td>\n",
       "      <td>High</td>\n",
       "      <td>Alameda</td>\n",
       "      <td>Health Care</td>\n",
       "      <td>58.51</td>\n",
       "      <td>...</td>\n",
       "      <td>4</td>\n",
       "      <td>Medium</td>\n",
       "      <td>Desktop</td>\n",
       "      <td>PayPal</td>\n",
       "      <td>12/14/2024</td>\n",
       "      <td>True</td>\n",
       "      <td>True</td>\n",
       "      <td>Planned</td>\n",
       "      <td>No Preference</td>\n",
       "      <td>14</td>\n",
       "    </tr>\n",
       "  </tbody>\n",
       "</table>\n",
       "<p>15 rows × 28 columns</p>\n",
       "</div>"
      ],
      "text/plain": [
       "    Customer_ID  Age    Gender Income_Level Marital_Status Education_Level  \\\n",
       "0   37-611-6911   22    Female       Middle        Married      Bachelor's   \n",
       "1   29-392-9296   49      Male         High        Married     High School   \n",
       "2   84-649-5117   24    Female       Middle         Single        Master's   \n",
       "3   48-980-6078   29    Female       Middle         Single        Master's   \n",
       "4   91-170-9072   33    Female       Middle        Widowed     High School   \n",
       "5   82-561-4233   45      Male       Middle        Married        Master's   \n",
       "6   90-144-9193   21    Female       Middle       Divorced     High School   \n",
       "7   88-661-4689   39      Male       Middle         Single     High School   \n",
       "8   37-065-3182   24    Female         High       Divorced        Master's   \n",
       "9   84-894-9222   25  Bigender         High        Married      Bachelor's   \n",
       "10  44-674-4037   33      Male       Middle       Divorced      Bachelor's   \n",
       "11  78-116-8349   38    Female         High        Widowed      Bachelor's   \n",
       "12  19-933-8095   34      Male       Middle         Single      Bachelor's   \n",
       "13  80-684-5072   32      Male         High        Married     High School   \n",
       "14  23-302-7502   30    Female         High        Widowed     High School   \n",
       "\n",
       "   Occupation     Location     Purchase_Category  Purchase_Amount  ...  \\\n",
       "0      Middle         Évry  Gardening & Outdoors           333.80  ...   \n",
       "1        High     Huocheng      Food & Beverages           222.22  ...   \n",
       "2        High       Huzhen       Office Supplies           426.22  ...   \n",
       "3      Middle       Wiwilí       Home Appliances           101.31  ...   \n",
       "4      Middle         Nara             Furniture           211.70  ...   \n",
       "5        High   Boro Utara       Office Supplies           487.95  ...   \n",
       "6      Middle        Liren             Furniture           486.40  ...   \n",
       "7      Middle     Taocheng                 Books           218.06  ...   \n",
       "8      Middle        Gråbo       Office Supplies           201.96  ...   \n",
       "9        High  Pryamitsyno     Sports & Outdoors           418.83  ...   \n",
       "10     Middle  Punta Gorda    Mobile Accessories           389.70  ...   \n",
       "11     Middle         Győr     Sports & Outdoors           238.93  ...   \n",
       "12       High     Gaosheng          Luxury Goods            61.22  ...   \n",
       "13     Middle      Rokytne           Animal Feed            79.81  ...   \n",
       "14       High      Alameda           Health Care            58.51  ...   \n",
       "\n",
       "    Customer_Satisfaction Engagement_with_Ads  Device_Used_for_Shopping  \\\n",
       "0                       7                High                    Tablet   \n",
       "1                       5                High                    Tablet   \n",
       "2                       7                 Low                Smartphone   \n",
       "3                       1                High                Smartphone   \n",
       "4                      10                High                Smartphone   \n",
       "5                       3                High                    Tablet   \n",
       "6                       9                 Low                   Desktop   \n",
       "7                       9                High                   Desktop   \n",
       "8                       2                High                   Desktop   \n",
       "9                       5              Medium                    Tablet   \n",
       "10                      4                High                   Desktop   \n",
       "11                     10                High                    Tablet   \n",
       "12                      7                High                   Desktop   \n",
       "13                      9                High                Smartphone   \n",
       "14                      4              Medium                   Desktop   \n",
       "\n",
       "    Payment_Method  Time_of_Purchase Discount_Used  \\\n",
       "0      Credit Card          3/1/2024          True   \n",
       "1           PayPal         4/16/2024          True   \n",
       "2       Debit Card         3/15/2024          True   \n",
       "3            Other         10/4/2024          True   \n",
       "4       Debit Card         1/30/2024         False   \n",
       "5       Debit Card         3/19/2024         False   \n",
       "6       Debit Card         3/15/2024          True   \n",
       "7      Credit Card         3/17/2024         False   \n",
       "8             Cash         6/10/2024         False   \n",
       "9           PayPal         10/7/2024          True   \n",
       "10          PayPal          7/2/2024          True   \n",
       "11            Cash        12/27/2024          True   \n",
       "12      Debit Card          8/5/2024          True   \n",
       "13      Debit Card         7/16/2024         False   \n",
       "14          PayPal        12/14/2024          True   \n",
       "\n",
       "   Customer_Loyalty_Program_Member  Purchase_Intent  Shipping_Preference  \\\n",
       "0                            False       Need-based        No Preference   \n",
       "1                            False      Wants-based             Standard   \n",
       "2                             True        Impulsive        No Preference   \n",
       "3                             True       Need-based              Express   \n",
       "4                            False      Wants-based        No Preference   \n",
       "5                            False          Planned        No Preference   \n",
       "6                            False       Need-based              Express   \n",
       "7                             True        Impulsive        No Preference   \n",
       "8                            False       Need-based             Standard   \n",
       "9                            False       Need-based        No Preference   \n",
       "10                           False          Planned              Express   \n",
       "11                           False          Planned        No Preference   \n",
       "12                            True       Need-based        No Preference   \n",
       "13                            True      Wants-based             Standard   \n",
       "14                            True          Planned        No Preference   \n",
       "\n",
       "   Time_to_Decision  \n",
       "0                 2  \n",
       "1                 6  \n",
       "2                 3  \n",
       "3                10  \n",
       "4                 4  \n",
       "5                 7  \n",
       "6                13  \n",
       "7                13  \n",
       "8                 7  \n",
       "9                13  \n",
       "10               12  \n",
       "11                1  \n",
       "12                5  \n",
       "13               14  \n",
       "14               14  \n",
       "\n",
       "[15 rows x 28 columns]"
      ]
     },
     "execution_count": 16,
     "metadata": {},
     "output_type": "execute_result"
    }
   ],
   "source": [
    "# To display top 15 values\n",
    "df.head(15)"
   ]
  },
  {
   "cell_type": "code",
   "execution_count": 17,
   "metadata": {},
   "outputs": [
    {
     "data": {
      "text/html": [
       "<div>\n",
       "<style scoped>\n",
       "    .dataframe tbody tr th:only-of-type {\n",
       "        vertical-align: middle;\n",
       "    }\n",
       "\n",
       "    .dataframe tbody tr th {\n",
       "        vertical-align: top;\n",
       "    }\n",
       "\n",
       "    .dataframe thead th {\n",
       "        text-align: right;\n",
       "    }\n",
       "</style>\n",
       "<table border=\"1\" class=\"dataframe\">\n",
       "  <thead>\n",
       "    <tr style=\"text-align: right;\">\n",
       "      <th></th>\n",
       "      <th>Customer_ID</th>\n",
       "      <th>Age</th>\n",
       "      <th>Gender</th>\n",
       "      <th>Income_Level</th>\n",
       "      <th>Marital_Status</th>\n",
       "      <th>Education_Level</th>\n",
       "      <th>Occupation</th>\n",
       "      <th>Location</th>\n",
       "      <th>Purchase_Category</th>\n",
       "      <th>Purchase_Amount</th>\n",
       "      <th>...</th>\n",
       "      <th>Customer_Satisfaction</th>\n",
       "      <th>Engagement_with_Ads</th>\n",
       "      <th>Device_Used_for_Shopping</th>\n",
       "      <th>Payment_Method</th>\n",
       "      <th>Time_of_Purchase</th>\n",
       "      <th>Discount_Used</th>\n",
       "      <th>Customer_Loyalty_Program_Member</th>\n",
       "      <th>Purchase_Intent</th>\n",
       "      <th>Shipping_Preference</th>\n",
       "      <th>Time_to_Decision</th>\n",
       "    </tr>\n",
       "  </thead>\n",
       "  <tbody>\n",
       "    <tr>\n",
       "      <th>990</th>\n",
       "      <td>85-922-0190</td>\n",
       "      <td>19</td>\n",
       "      <td>Female</td>\n",
       "      <td>High</td>\n",
       "      <td>Widowed</td>\n",
       "      <td>Bachelor's</td>\n",
       "      <td>High</td>\n",
       "      <td>Nanfeng</td>\n",
       "      <td>Toys &amp; Games</td>\n",
       "      <td>206.32</td>\n",
       "      <td>...</td>\n",
       "      <td>4</td>\n",
       "      <td>High</td>\n",
       "      <td>Desktop</td>\n",
       "      <td>PayPal</td>\n",
       "      <td>10/12/2024</td>\n",
       "      <td>True</td>\n",
       "      <td>False</td>\n",
       "      <td>Wants-based</td>\n",
       "      <td>Express</td>\n",
       "      <td>12</td>\n",
       "    </tr>\n",
       "    <tr>\n",
       "      <th>991</th>\n",
       "      <td>48-271-1908</td>\n",
       "      <td>40</td>\n",
       "      <td>Bigender</td>\n",
       "      <td>High</td>\n",
       "      <td>Single</td>\n",
       "      <td>Bachelor's</td>\n",
       "      <td>High</td>\n",
       "      <td>Oke Ila</td>\n",
       "      <td>Baby Products</td>\n",
       "      <td>308.58</td>\n",
       "      <td>...</td>\n",
       "      <td>7</td>\n",
       "      <td>Medium</td>\n",
       "      <td>Smartphone</td>\n",
       "      <td>Debit Card</td>\n",
       "      <td>5/21/2024</td>\n",
       "      <td>False</td>\n",
       "      <td>True</td>\n",
       "      <td>Need-based</td>\n",
       "      <td>Express</td>\n",
       "      <td>12</td>\n",
       "    </tr>\n",
       "    <tr>\n",
       "      <th>992</th>\n",
       "      <td>46-978-3874</td>\n",
       "      <td>22</td>\n",
       "      <td>Female</td>\n",
       "      <td>High</td>\n",
       "      <td>Single</td>\n",
       "      <td>High School</td>\n",
       "      <td>Middle</td>\n",
       "      <td>Rio Pardo</td>\n",
       "      <td>Groceries</td>\n",
       "      <td>91.34</td>\n",
       "      <td>...</td>\n",
       "      <td>1</td>\n",
       "      <td>High</td>\n",
       "      <td>Smartphone</td>\n",
       "      <td>Debit Card</td>\n",
       "      <td>1/10/2024</td>\n",
       "      <td>True</td>\n",
       "      <td>True</td>\n",
       "      <td>Impulsive</td>\n",
       "      <td>Express</td>\n",
       "      <td>6</td>\n",
       "    </tr>\n",
       "    <tr>\n",
       "      <th>993</th>\n",
       "      <td>53-595-7635</td>\n",
       "      <td>25</td>\n",
       "      <td>Female</td>\n",
       "      <td>High</td>\n",
       "      <td>Divorced</td>\n",
       "      <td>High School</td>\n",
       "      <td>Middle</td>\n",
       "      <td>Pingtang</td>\n",
       "      <td>Luxury Goods</td>\n",
       "      <td>455.44</td>\n",
       "      <td>...</td>\n",
       "      <td>3</td>\n",
       "      <td>Low</td>\n",
       "      <td>Smartphone</td>\n",
       "      <td>Other</td>\n",
       "      <td>5/7/2024</td>\n",
       "      <td>False</td>\n",
       "      <td>False</td>\n",
       "      <td>Need-based</td>\n",
       "      <td>No Preference</td>\n",
       "      <td>3</td>\n",
       "    </tr>\n",
       "    <tr>\n",
       "      <th>994</th>\n",
       "      <td>08-185-6608</td>\n",
       "      <td>32</td>\n",
       "      <td>Female</td>\n",
       "      <td>High</td>\n",
       "      <td>Divorced</td>\n",
       "      <td>Master's</td>\n",
       "      <td>Middle</td>\n",
       "      <td>Podbrdo</td>\n",
       "      <td>Baby Products</td>\n",
       "      <td>468.16</td>\n",
       "      <td>...</td>\n",
       "      <td>5</td>\n",
       "      <td>High</td>\n",
       "      <td>Desktop</td>\n",
       "      <td>Credit Card</td>\n",
       "      <td>1/22/2024</td>\n",
       "      <td>False</td>\n",
       "      <td>False</td>\n",
       "      <td>Planned</td>\n",
       "      <td>Standard</td>\n",
       "      <td>2</td>\n",
       "    </tr>\n",
       "    <tr>\n",
       "      <th>995</th>\n",
       "      <td>20-562-2569</td>\n",
       "      <td>44</td>\n",
       "      <td>Female</td>\n",
       "      <td>High</td>\n",
       "      <td>Divorced</td>\n",
       "      <td>Bachelor's</td>\n",
       "      <td>High</td>\n",
       "      <td>Aramayuan</td>\n",
       "      <td>Mobile Accessories</td>\n",
       "      <td>463.67</td>\n",
       "      <td>...</td>\n",
       "      <td>4</td>\n",
       "      <td>High</td>\n",
       "      <td>Tablet</td>\n",
       "      <td>PayPal</td>\n",
       "      <td>7/7/2024</td>\n",
       "      <td>True</td>\n",
       "      <td>False</td>\n",
       "      <td>Need-based</td>\n",
       "      <td>Standard</td>\n",
       "      <td>5</td>\n",
       "    </tr>\n",
       "    <tr>\n",
       "      <th>996</th>\n",
       "      <td>41-366-4205</td>\n",
       "      <td>50</td>\n",
       "      <td>Female</td>\n",
       "      <td>High</td>\n",
       "      <td>Single</td>\n",
       "      <td>High School</td>\n",
       "      <td>Middle</td>\n",
       "      <td>Paquera</td>\n",
       "      <td>Gardening &amp; Outdoors</td>\n",
       "      <td>69.78</td>\n",
       "      <td>...</td>\n",
       "      <td>6</td>\n",
       "      <td>Low</td>\n",
       "      <td>Tablet</td>\n",
       "      <td>Cash</td>\n",
       "      <td>3/28/2024</td>\n",
       "      <td>True</td>\n",
       "      <td>False</td>\n",
       "      <td>Wants-based</td>\n",
       "      <td>No Preference</td>\n",
       "      <td>9</td>\n",
       "    </tr>\n",
       "    <tr>\n",
       "      <th>997</th>\n",
       "      <td>77-241-7621</td>\n",
       "      <td>26</td>\n",
       "      <td>Male</td>\n",
       "      <td>High</td>\n",
       "      <td>Married</td>\n",
       "      <td>Bachelor's</td>\n",
       "      <td>High</td>\n",
       "      <td>Warudoyong</td>\n",
       "      <td>Food &amp; Beverages</td>\n",
       "      <td>453.37</td>\n",
       "      <td>...</td>\n",
       "      <td>6</td>\n",
       "      <td>High</td>\n",
       "      <td>Desktop</td>\n",
       "      <td>Credit Card</td>\n",
       "      <td>3/11/2024</td>\n",
       "      <td>True</td>\n",
       "      <td>True</td>\n",
       "      <td>Wants-based</td>\n",
       "      <td>Express</td>\n",
       "      <td>9</td>\n",
       "    </tr>\n",
       "    <tr>\n",
       "      <th>998</th>\n",
       "      <td>53-091-2176</td>\n",
       "      <td>21</td>\n",
       "      <td>Female</td>\n",
       "      <td>High</td>\n",
       "      <td>Widowed</td>\n",
       "      <td>Bachelor's</td>\n",
       "      <td>Middle</td>\n",
       "      <td>Béziers</td>\n",
       "      <td>Baby Products</td>\n",
       "      <td>106.15</td>\n",
       "      <td>...</td>\n",
       "      <td>5</td>\n",
       "      <td>Medium</td>\n",
       "      <td>Desktop</td>\n",
       "      <td>Cash</td>\n",
       "      <td>3/30/2024</td>\n",
       "      <td>True</td>\n",
       "      <td>True</td>\n",
       "      <td>Impulsive</td>\n",
       "      <td>Standard</td>\n",
       "      <td>8</td>\n",
       "    </tr>\n",
       "    <tr>\n",
       "      <th>999</th>\n",
       "      <td>48-203-9118</td>\n",
       "      <td>21</td>\n",
       "      <td>Female</td>\n",
       "      <td>Middle</td>\n",
       "      <td>Single</td>\n",
       "      <td>High School</td>\n",
       "      <td>High</td>\n",
       "      <td>Dongzhou</td>\n",
       "      <td>Health Care</td>\n",
       "      <td>378.47</td>\n",
       "      <td>...</td>\n",
       "      <td>10</td>\n",
       "      <td>Low</td>\n",
       "      <td>Tablet</td>\n",
       "      <td>Other</td>\n",
       "      <td>12/8/2024</td>\n",
       "      <td>False</td>\n",
       "      <td>False</td>\n",
       "      <td>Planned</td>\n",
       "      <td>Express</td>\n",
       "      <td>2</td>\n",
       "    </tr>\n",
       "  </tbody>\n",
       "</table>\n",
       "<p>10 rows × 28 columns</p>\n",
       "</div>"
      ],
      "text/plain": [
       "     Customer_ID  Age    Gender Income_Level Marital_Status Education_Level  \\\n",
       "990  85-922-0190   19    Female         High        Widowed      Bachelor's   \n",
       "991  48-271-1908   40  Bigender         High         Single      Bachelor's   \n",
       "992  46-978-3874   22    Female         High         Single     High School   \n",
       "993  53-595-7635   25    Female         High       Divorced     High School   \n",
       "994  08-185-6608   32    Female         High       Divorced        Master's   \n",
       "995  20-562-2569   44    Female         High       Divorced      Bachelor's   \n",
       "996  41-366-4205   50    Female         High         Single     High School   \n",
       "997  77-241-7621   26      Male         High        Married      Bachelor's   \n",
       "998  53-091-2176   21    Female         High        Widowed      Bachelor's   \n",
       "999  48-203-9118   21    Female       Middle         Single     High School   \n",
       "\n",
       "    Occupation    Location     Purchase_Category  Purchase_Amount  ...  \\\n",
       "990       High     Nanfeng          Toys & Games           206.32  ...   \n",
       "991       High     Oke Ila         Baby Products           308.58  ...   \n",
       "992     Middle   Rio Pardo             Groceries            91.34  ...   \n",
       "993     Middle    Pingtang          Luxury Goods           455.44  ...   \n",
       "994     Middle     Podbrdo         Baby Products           468.16  ...   \n",
       "995       High   Aramayuan    Mobile Accessories           463.67  ...   \n",
       "996     Middle     Paquera  Gardening & Outdoors            69.78  ...   \n",
       "997       High  Warudoyong      Food & Beverages           453.37  ...   \n",
       "998     Middle     Béziers         Baby Products           106.15  ...   \n",
       "999       High    Dongzhou           Health Care           378.47  ...   \n",
       "\n",
       "     Customer_Satisfaction Engagement_with_Ads  Device_Used_for_Shopping  \\\n",
       "990                      4                High                   Desktop   \n",
       "991                      7              Medium                Smartphone   \n",
       "992                      1                High                Smartphone   \n",
       "993                      3                 Low                Smartphone   \n",
       "994                      5                High                   Desktop   \n",
       "995                      4                High                    Tablet   \n",
       "996                      6                 Low                    Tablet   \n",
       "997                      6                High                   Desktop   \n",
       "998                      5              Medium                   Desktop   \n",
       "999                     10                 Low                    Tablet   \n",
       "\n",
       "     Payment_Method  Time_of_Purchase Discount_Used  \\\n",
       "990          PayPal        10/12/2024          True   \n",
       "991      Debit Card         5/21/2024         False   \n",
       "992      Debit Card         1/10/2024          True   \n",
       "993           Other          5/7/2024         False   \n",
       "994     Credit Card         1/22/2024         False   \n",
       "995          PayPal          7/7/2024          True   \n",
       "996            Cash         3/28/2024          True   \n",
       "997     Credit Card         3/11/2024          True   \n",
       "998            Cash         3/30/2024          True   \n",
       "999           Other         12/8/2024         False   \n",
       "\n",
       "    Customer_Loyalty_Program_Member  Purchase_Intent  Shipping_Preference  \\\n",
       "990                           False      Wants-based              Express   \n",
       "991                            True       Need-based              Express   \n",
       "992                            True        Impulsive              Express   \n",
       "993                           False       Need-based        No Preference   \n",
       "994                           False          Planned             Standard   \n",
       "995                           False       Need-based             Standard   \n",
       "996                           False      Wants-based        No Preference   \n",
       "997                            True      Wants-based              Express   \n",
       "998                            True        Impulsive             Standard   \n",
       "999                           False          Planned              Express   \n",
       "\n",
       "    Time_to_Decision  \n",
       "990               12  \n",
       "991               12  \n",
       "992                6  \n",
       "993                3  \n",
       "994                2  \n",
       "995                5  \n",
       "996                9  \n",
       "997                9  \n",
       "998                8  \n",
       "999                2  \n",
       "\n",
       "[10 rows x 28 columns]"
      ]
     },
     "execution_count": 17,
     "metadata": {},
     "output_type": "execute_result"
    }
   ],
   "source": [
    "# To display bottom 10 values\n",
    "df.tail(10)"
   ]
  },
  {
   "cell_type": "code",
   "execution_count": 18,
   "metadata": {},
   "outputs": [
    {
     "name": "stdout",
     "output_type": "stream",
     "text": [
      "     Customer_ID  Age  Gender Income_Level Marital_Status Education_Level\n",
      "0    37-611-6911   22  Female       Middle        Married      Bachelor's\n",
      "1    29-392-9296   49    Male         High        Married     High School\n",
      "2    84-649-5117   24  Female       Middle         Single        Master's\n",
      "3    48-980-6078   29  Female       Middle         Single        Master's\n",
      "4    91-170-9072   33  Female       Middle        Widowed     High School\n",
      "..           ...  ...     ...          ...            ...             ...\n",
      "995  20-562-2569   44  Female         High       Divorced      Bachelor's\n",
      "996  41-366-4205   50  Female         High         Single     High School\n",
      "997  77-241-7621   26    Male         High        Married      Bachelor's\n",
      "998  53-091-2176   21  Female         High        Widowed      Bachelor's\n",
      "999  48-203-9118   21  Female       Middle         Single     High School\n",
      "\n",
      "[1000 rows x 6 columns]\n"
     ]
    }
   ],
   "source": [
    "print(df.iloc[:, 0:6])"
   ]
  },
  {
   "cell_type": "code",
   "execution_count": 19,
   "metadata": {},
   "outputs": [
    {
     "name": "stdout",
     "output_type": "stream",
     "text": [
      "   Customer_ID  Age  Gender Income_Level\n",
      "1  29-392-9296   49    Male         High\n",
      "2  84-649-5117   24  Female       Middle\n",
      "3  48-980-6078   29  Female       Middle\n",
      "4  91-170-9072   33  Female       Middle\n"
     ]
    }
   ],
   "source": [
    "print(df.iloc[1:5, 0:4])"
   ]
  },
  {
   "cell_type": "code",
   "execution_count": 20,
   "metadata": {},
   "outputs": [
    {
     "name": "stdout",
     "output_type": "stream",
     "text": [
      "     Customer_Loyalty_Program_Member Purchase_Intent Shipping_Preference\n",
      "0                              False      Need-based       No Preference\n",
      "1                              False     Wants-based            Standard\n",
      "2                               True       Impulsive       No Preference\n",
      "3                               True      Need-based             Express\n",
      "4                              False     Wants-based       No Preference\n",
      "..                               ...             ...                 ...\n",
      "995                            False      Need-based            Standard\n",
      "996                            False     Wants-based       No Preference\n",
      "997                             True     Wants-based             Express\n",
      "998                             True       Impulsive            Standard\n",
      "999                            False         Planned             Express\n",
      "\n",
      "[1000 rows x 3 columns]\n"
     ]
    }
   ],
   "source": [
    "print(df.iloc[:, -4:-1])"
   ]
  },
  {
   "cell_type": "code",
   "execution_count": 21,
   "metadata": {},
   "outputs": [
    {
     "name": "stdout",
     "output_type": "stream",
     "text": [
      "   Customer_ID     Purchase_Category  Purchase_Amount\n",
      "0  37-611-6911  Gardening & Outdoors           333.80\n",
      "1  29-392-9296      Food & Beverages           222.22\n",
      "2  84-649-5117       Office Supplies           426.22\n",
      "3  48-980-6078       Home Appliances           101.31\n",
      "4  91-170-9072             Furniture           211.70\n",
      "5  82-561-4233       Office Supplies           487.95\n",
      "6  90-144-9193             Furniture           486.40\n",
      "7  88-661-4689                 Books           218.06\n",
      "8  37-065-3182       Office Supplies           201.96\n",
      "9  84-894-9222     Sports & Outdoors           418.83\n"
     ]
    }
   ],
   "source": [
    "# To display Customer_ID, Purchase_Category, Purchase_Amount of top 10 values\n",
    "print(df[['Customer_ID', 'Purchase_Category', 'Purchase_Amount']].head(10))"
   ]
  },
  {
   "cell_type": "code",
   "execution_count": 22,
   "metadata": {},
   "outputs": [
    {
     "name": "stdout",
     "output_type": "stream",
     "text": [
      "     Customer_ID      Purchase_Category  Purchase_Amount  \\\n",
      "4    91-170-9072              Furniture           211.70   \n",
      "6    90-144-9193              Furniture           486.40   \n",
      "7    88-661-4689                  Books           218.06   \n",
      "11   78-116-8349      Sports & Outdoors           238.93   \n",
      "13   80-684-5072            Animal Feed            79.81   \n",
      "..           ...                    ...              ...   \n",
      "976  21-808-2293           Toys & Games           431.78   \n",
      "977  22-022-9256  Jewelry & Accessories           303.09   \n",
      "982  47-460-8015                  Books           359.45   \n",
      "986  60-005-5187            Electronics           197.90   \n",
      "999  48-203-9118            Health Care           378.47   \n",
      "\n",
      "     Customer_Satisfaction  \n",
      "4                       10  \n",
      "6                        9  \n",
      "7                        9  \n",
      "11                      10  \n",
      "13                       9  \n",
      "..                     ...  \n",
      "976                      8  \n",
      "977                      9  \n",
      "982                      8  \n",
      "986                      8  \n",
      "999                     10  \n",
      "\n",
      "[289 rows x 4 columns]\n"
     ]
    }
   ],
   "source": [
    "# To display Customer_ID, Purchase_Category, Purchase_Amount, Customer_Satisfaction of Customer_ Satisfaction above 7\n",
    "df1 = df.loc[df['Customer_Satisfaction']>7][['Customer_ID', 'Purchase_Category', 'Purchase_Amount', 'Customer_Satisfaction']]\n",
    "print(df1)"
   ]
  },
  {
   "cell_type": "code",
   "execution_count": 23,
   "metadata": {},
   "outputs": [
    {
     "name": "stdout",
     "output_type": "stream",
     "text": [
      "     Customer_ID      Purchase_Category  Purchase_Amount  Product_Rating\n",
      "0    37-611-6911   Gardening & Outdoors           333.80               5\n",
      "2    84-649-5117        Office Supplies           426.22               5\n",
      "4    91-170-9072              Furniture           211.70               4\n",
      "6    90-144-9193              Furniture           486.40               5\n",
      "7    88-661-4689                  Books           218.06               4\n",
      "..           ...                    ...              ...             ...\n",
      "989  54-238-5459  Jewelry & Accessories           149.52               5\n",
      "991  48-271-1908          Baby Products           308.58               5\n",
      "994  08-185-6608          Baby Products           468.16               5\n",
      "995  20-562-2569     Mobile Accessories           463.67               4\n",
      "998  53-091-2176          Baby Products           106.15               4\n",
      "\n",
      "[421 rows x 4 columns]\n"
     ]
    }
   ],
   "source": [
    "# To display Customer_ID, Purchase_Category, Purchase_Amount, Product_Rating of  Product_Rating above 7\n",
    "df1 = df.loc[df['Product_Rating']>3][['Customer_ID', 'Purchase_Category', 'Purchase_Amount','Product_Rating']]\n",
    "print(df1)"
   ]
  },
  {
   "cell_type": "code",
   "execution_count": 24,
   "metadata": {},
   "outputs": [
    {
     "name": "stdout",
     "output_type": "stream",
     "text": [
      "     Customer_ID  Age    Gender Income_Level Marital_Status Education_Level  \\\n",
      "2    84-649-5117   24    Female       Middle         Single        Master's   \n",
      "4    91-170-9072   33    Female       Middle        Widowed     High School   \n",
      "5    82-561-4233   45      Male       Middle        Married        Master's   \n",
      "6    90-144-9193   21    Female       Middle       Divorced     High School   \n",
      "12   19-933-8095   34      Male       Middle         Single      Bachelor's   \n",
      "..           ...  ...       ...          ...            ...             ...   \n",
      "970  59-971-0799   48      Male       Middle       Divorced      Bachelor's   \n",
      "972  87-079-0237   36      Male         High         Single      Bachelor's   \n",
      "986  60-005-5187   25      Male       Middle         Single     High School   \n",
      "991  48-271-1908   40  Bigender         High         Single      Bachelor's   \n",
      "992  46-978-3874   22    Female         High         Single     High School   \n",
      "\n",
      "    Occupation    Location   Purchase_Category  Purchase_Amount  ...  \\\n",
      "2         High      Huzhen     Office Supplies           426.22  ...   \n",
      "4       Middle        Nara           Furniture           211.70  ...   \n",
      "5         High  Boro Utara     Office Supplies           487.95  ...   \n",
      "6       Middle       Liren           Furniture           486.40  ...   \n",
      "12        High    Gaosheng        Luxury Goods            61.22  ...   \n",
      "..         ...         ...                 ...              ...  ...   \n",
      "970       High     Vichuga  Health Supplements           476.42  ...   \n",
      "972     Middle   Guolemude              Hotels           207.24  ...   \n",
      "986       High  Bailadores         Electronics           197.90  ...   \n",
      "991       High     Oke Ila       Baby Products           308.58  ...   \n",
      "992     Middle   Rio Pardo           Groceries            91.34  ...   \n",
      "\n",
      "     Customer_Satisfaction Engagement_with_Ads  Device_Used_for_Shopping  \\\n",
      "2                        7                 Low                Smartphone   \n",
      "4                       10                High                Smartphone   \n",
      "5                        3                High                    Tablet   \n",
      "6                        9                 Low                   Desktop   \n",
      "12                       7                High                   Desktop   \n",
      "..                     ...                 ...                       ...   \n",
      "970                      2                High                   Desktop   \n",
      "972                      6                High                   Desktop   \n",
      "986                      8                High                   Desktop   \n",
      "991                      7              Medium                Smartphone   \n",
      "992                      1                High                Smartphone   \n",
      "\n",
      "     Payment_Method  Time_of_Purchase Discount_Used  \\\n",
      "2        Debit Card         3/15/2024          True   \n",
      "4        Debit Card         1/30/2024         False   \n",
      "5        Debit Card         3/19/2024         False   \n",
      "6        Debit Card         3/15/2024          True   \n",
      "12       Debit Card          8/5/2024          True   \n",
      "..              ...               ...           ...   \n",
      "970      Debit Card          9/9/2024          True   \n",
      "972      Debit Card         5/12/2024          True   \n",
      "986      Debit Card         1/18/2024          True   \n",
      "991      Debit Card         5/21/2024         False   \n",
      "992      Debit Card         1/10/2024          True   \n",
      "\n",
      "    Customer_Loyalty_Program_Member  Purchase_Intent  Shipping_Preference  \\\n",
      "2                              True        Impulsive        No Preference   \n",
      "4                             False      Wants-based        No Preference   \n",
      "5                             False          Planned        No Preference   \n",
      "6                             False       Need-based              Express   \n",
      "12                             True       Need-based        No Preference   \n",
      "..                              ...              ...                  ...   \n",
      "970                           False       Need-based             Standard   \n",
      "972                           False        Impulsive        No Preference   \n",
      "986                            True      Wants-based             Standard   \n",
      "991                            True       Need-based              Express   \n",
      "992                            True        Impulsive              Express   \n",
      "\n",
      "    Time_to_Decision  \n",
      "2                  3  \n",
      "4                  4  \n",
      "5                  7  \n",
      "6                 13  \n",
      "12                 5  \n",
      "..               ...  \n",
      "970                2  \n",
      "972                3  \n",
      "986               14  \n",
      "991               12  \n",
      "992                6  \n",
      "\n",
      "[196 rows x 28 columns]\n"
     ]
    }
   ],
   "source": [
    "# To display Payment_Method through Debit Card\n",
    "df1 = df.loc[df['Payment_Method']=='Debit Card']\n",
    "print(df1)"
   ]
  },
  {
   "cell_type": "code",
   "execution_count": 25,
   "metadata": {},
   "outputs": [
    {
     "name": "stdout",
     "output_type": "stream",
     "text": [
      "     Customer_ID  Purchase_Amount\n",
      "0    37-611-6911           333.80\n",
      "2    84-649-5117           426.22\n",
      "5    82-561-4233           487.95\n",
      "6    90-144-9193           486.40\n",
      "9    84-894-9222           418.83\n",
      "..           ...              ...\n",
      "993  53-595-7635           455.44\n",
      "994  08-185-6608           468.16\n",
      "995  20-562-2569           463.67\n",
      "997  77-241-7621           453.37\n",
      "999  48-203-9118           378.47\n",
      "\n",
      "[447 rows x 2 columns]\n"
     ]
    }
   ],
   "source": [
    "#  To display Customer_id, Purchase_Amount of purchase amount between 300 dollars and 500 dollars\n",
    "df1 = df.loc[(df['Purchase_Amount']>=300) & (df['Purchase_Amount']<=500)][['Customer_ID', 'Purchase_Amount']]\n",
    "print(df1)"
   ]
  },
  {
   "cell_type": "code",
   "execution_count": 26,
   "metadata": {},
   "outputs": [
    {
     "name": "stdout",
     "output_type": "stream",
     "text": [
      "     Customer_ID  Age  Gender Income_Level Marital_Status Education_Level  \\\n",
      "242  63-631-8261   18    Male         High        Married      Bachelor's   \n",
      "588  79-939-2140   41    Male       Middle        Widowed     High School   \n",
      "381  79-384-7469   50    Male       Middle         Single      Bachelor's   \n",
      "47   27-439-9545   25  Female         High        Married      Bachelor's   \n",
      "614  02-711-1034   48  Female         High        Widowed     High School   \n",
      "..           ...  ...     ...          ...            ...             ...   \n",
      "847  15-421-1255   24  Female         High         Single     High School   \n",
      "927  86-257-9581   30    Male         High         Single      Bachelor's   \n",
      "473  15-663-7994   20  Female       Middle        Widowed      Bachelor's   \n",
      "707  13-848-5757   32  Female         High         Single        Master's   \n",
      "360  60-470-3563   29    Male       Middle        Married      Bachelor's   \n",
      "\n",
      "    Occupation       Location       Purchase_Category  Purchase_Amount  ...  \\\n",
      "242     Middle          Alung            Toys & Games            50.71  ...   \n",
      "588       High         Yishui             Health Care            50.78  ...   \n",
      "381       High          Xudat               Groceries            50.79  ...   \n",
      "47        High     Norrköping            Toys & Games            51.22  ...   \n",
      "614     Middle         Likhoy  Beauty & Personal Care            51.44  ...   \n",
      "..         ...            ...                     ...              ...  ...   \n",
      "847     Middle        Nanqiao                   Books           497.75  ...   \n",
      "927     Middle  Wādī as Salqā    Gardening & Outdoors           497.76  ...   \n",
      "473       High     Tanahmerah   Jewelry & Accessories           497.80  ...   \n",
      "707     Middle       Longotea       Sports & Outdoors           498.23  ...   \n",
      "360     Middle        Malasin    Gardening & Outdoors           498.33  ...   \n",
      "\n",
      "     Customer_Satisfaction Engagement_with_Ads  Device_Used_for_Shopping  \\\n",
      "242                      9              Medium                Smartphone   \n",
      "588                      8                High                    Tablet   \n",
      "381                      2              Medium                   Desktop   \n",
      "47                       5              Medium                    Tablet   \n",
      "614                      1                High                    Tablet   \n",
      "..                     ...                 ...                       ...   \n",
      "847                      1              Medium                Smartphone   \n",
      "927                      3              Medium                Smartphone   \n",
      "473                      2              Medium                Smartphone   \n",
      "707                      7              Medium                Smartphone   \n",
      "360                      9              Medium                Smartphone   \n",
      "\n",
      "     Payment_Method  Time_of_Purchase Discount_Used  \\\n",
      "242      Debit Card         3/17/2024          True   \n",
      "588      Debit Card         1/12/2024         False   \n",
      "381           Other         5/28/2024          True   \n",
      "47             Cash         8/25/2024          True   \n",
      "614           Other         5/17/2024          True   \n",
      "..              ...               ...           ...   \n",
      "847            Cash          7/3/2024          True   \n",
      "927     Credit Card          3/8/2024          True   \n",
      "473           Other         1/21/2024          True   \n",
      "707           Other          1/8/2024          True   \n",
      "360          PayPal          5/8/2024          True   \n",
      "\n",
      "    Customer_Loyalty_Program_Member  Purchase_Intent  Shipping_Preference  \\\n",
      "242                            True      Wants-based        No Preference   \n",
      "588                            True       Need-based             Standard   \n",
      "381                           False          Planned             Standard   \n",
      "47                             True          Planned             Standard   \n",
      "614                           False          Planned        No Preference   \n",
      "..                              ...              ...                  ...   \n",
      "847                           False      Wants-based              Express   \n",
      "927                            True      Wants-based        No Preference   \n",
      "473                           False      Wants-based        No Preference   \n",
      "707                           False          Planned        No Preference   \n",
      "360                            True      Wants-based              Express   \n",
      "\n",
      "    Time_to_Decision  \n",
      "242                8  \n",
      "588                9  \n",
      "381                3  \n",
      "47                 5  \n",
      "614                5  \n",
      "..               ...  \n",
      "847               13  \n",
      "927                4  \n",
      "473                9  \n",
      "707                9  \n",
      "360                1  \n",
      "\n",
      "[1000 rows x 28 columns]\n"
     ]
    }
   ],
   "source": [
    "# to sort data by purchase amount\n",
    "df1 = df.sort_values(by= 'Purchase_Amount')\n",
    "print(df1)"
   ]
  },
  {
   "cell_type": "code",
   "execution_count": 27,
   "metadata": {},
   "outputs": [
    {
     "name": "stdout",
     "output_type": "stream",
     "text": [
      "Purchase_Category\n",
      "Gardening & Outdoors     498.33\n",
      "Sports & Outdoors        498.23\n",
      "Jewelry & Accessories    497.80\n",
      "Books                    497.75\n",
      "Health Care              495.95\n",
      "Name: Purchase_Amount, dtype: float64\n"
     ]
    }
   ],
   "source": [
    "#  To display top 5 purchase categories by highest purchase amount \n",
    "df1 = df.groupby('Purchase_Category')['Purchase_Amount'].max().sort_values( ascending=False).head(5)\n",
    "print(df1)"
   ]
  },
  {
   "cell_type": "code",
   "execution_count": 28,
   "metadata": {},
   "outputs": [
    {
     "name": "stdout",
     "output_type": "stream",
     "text": [
      "Purchase_Category\n",
      "Electronics                   54\n",
      "Sports & Outdoors             51\n",
      "Jewelry & Accessories         50\n",
      "Home Appliances               50\n",
      "Toys & Games                  47\n",
      "Animal Feed                   44\n",
      "Food & Beverages              44\n",
      "Gardening & Outdoors          44\n",
      "Software & Apps               43\n",
      "Packages                      43\n",
      "Mobile Accessories            41\n",
      "Health Care                   41\n",
      "Baby Products                 41\n",
      "Health Supplements            41\n",
      "Groceries                     41\n",
      "Furniture                     41\n",
      "Travel & Leisure (Flights)    38\n",
      "Office Supplies               38\n",
      "Luxury Goods                  37\n",
      "Books                         37\n",
      "Hotels                        36\n",
      "Arts & Crafts                 34\n",
      "Beauty & Personal Care        34\n",
      "Clothing                      30\n",
      "Name: Purchase_Category, dtype: int64\n"
     ]
    }
   ],
   "source": [
    "# To display total count of purchase in each purchase category in descending order \n",
    "df1 = df.groupby('Purchase_Category')['Purchase_Category'].count().sort_values(ascending= False)\n",
    "print(df1)"
   ]
  },
  {
   "cell_type": "code",
   "execution_count": 29,
   "metadata": {},
   "outputs": [
    {
     "name": "stdout",
     "output_type": "stream",
     "text": [
      "Gender\n",
      "Female         452\n",
      "Male           449\n",
      "Bigender        20\n",
      "Agender         19\n",
      "Genderfluid     17\n",
      "Non-binary      16\n",
      "Polygender      15\n",
      "Genderqueer     12\n",
      "Name: Gender, dtype: int64\n"
     ]
    }
   ],
   "source": [
    "#  To display purchase number of each gender group in descending order\n",
    "df1 = df.groupby('Gender')['Gender'].count().sort_values(ascending=False)\n",
    "print(df1)"
   ]
  },
  {
   "cell_type": "code",
   "execution_count": 30,
   "metadata": {},
   "outputs": [
    {
     "name": "stdout",
     "output_type": "stream",
     "text": [
      "Payment_Method\n",
      "PayPal         219\n",
      "Other          204\n",
      "Debit Card     196\n",
      "Credit Card    194\n",
      "Cash           187\n",
      "Name: Payment_Method, dtype: int64\n"
     ]
    }
   ],
   "source": [
    "# To display total count of each payment method by descending order\n",
    "df1 = df.groupby('Payment_Method')['Payment_Method'].count().sort_values(ascending=False)\n",
    "print(df1)"
   ]
  },
  {
   "cell_type": "code",
   "execution_count": 31,
   "metadata": {},
   "outputs": [],
   "source": [
    "from matplotlib import pyplot as plt"
   ]
  },
  {
   "cell_type": "code",
   "execution_count": 32,
   "metadata": {},
   "outputs": [
    {
     "name": "stdout",
     "output_type": "stream",
     "text": [
      "Time_of_Purchase\n",
      "2024-01-01     9\n",
      "2024-01-02    39\n",
      "2024-01-03     3\n",
      "2024-01-04    24\n",
      "2024-01-05    14\n",
      "              ..\n",
      "2024-12-26     2\n",
      "2024-12-27    16\n",
      "2024-12-28     4\n",
      "2024-12-29    10\n",
      "2024-12-30     4\n",
      "Name: Frequency_of_Purchase, Length: 344, dtype: int64\n"
     ]
    },
    {
     "data": {
      "text/plain": [
       "Text(0.5, 1.0, 'Total Purchase Frequency Over Time')"
      ]
     },
     "execution_count": 32,
     "metadata": {},
     "output_type": "execute_result"
    },
    {
     "data": {
      "image/png": "[encoded data removed]",
      "text/plain": [
       "<Figure size 1500x600 with 1 Axes>"
      ]
     },
     "metadata": {},
     "output_type": "display_data"
    }
   ],
   "source": [
    "# Total Purchase Frequency Over Time\n",
    "df['Time_of_Purchase'] = pd.to_datetime(df['Time_of_Purchase'])\n",
    "purchase_frequency_trend = df.groupby('Time_of_Purchase')['Frequency_of_Purchase'].sum()\n",
    "print(purchase_frequency_trend)\n",
    "plt.figure(figsize=(15,6))\n",
    "plt.plot(purchase_frequency_trend.index, purchase_frequency_trend.values, marker = 'd', color = 'green')\n",
    "plt.xlabel('Date')\n",
    "plt.ylabel('Total Purchase Frequency')\n",
    "plt.title('Total Purchase Frequency Over Time')\n"
   ]
  },
  {
   "cell_type": "code",
   "execution_count": 54,
   "metadata": {},
   "outputs": [
    {
     "data": {
      "text/plain": [
       "Text(0.5, 1.0, 'Product Rating Distribution')"
      ]
     },
     "execution_count": 54,
     "metadata": {},
     "output_type": "execute_result"
    },
    {
     "data": {
      "image/png": "[encoded data removed]",
      "text/plain": [
       "<Figure size 900x500 with 1 Axes>"
      ]
     },
     "metadata": {},
     "output_type": "display_data"
    }
   ],
   "source": [
    "# Product Rating Distribution\n",
    "c = df.groupby('Product_Rating')['Product_Rating'].count()\n",
    "plt.figure(figsize=(9,5))\n",
    "plt.bar(c.index, c.values, color = 'grey')\n",
    "plt.xlabel('Product Rating')\n",
    "plt.ylabel('Number of Customers')\n",
    "plt.ylim(175, 215)\n",
    "plt.title('Product Rating Distribution') "
   ]
  },
  {
   "cell_type": "code",
   "execution_count": 34,
   "metadata": {},
   "outputs": [
    {
     "name": "stdout",
     "output_type": "stream",
     "text": [
      "Device_Used_for_Shopping\n",
      "Desktop       350\n",
      "Smartphone    311\n",
      "Tablet        339\n",
      "Name: Device_Used_for_Shopping, dtype: int64\n"
     ]
    },
    {
     "data": {
      "text/plain": [
       "Text(0.5, 1.0, 'Number of Purchases by Device Type')"
      ]
     },
     "execution_count": 34,
     "metadata": {},
     "output_type": "execute_result"
    },
    {
     "data": {
      "image/png": "[encoded data removed]",
      "text/plain": [
       "<Figure size 640x480 with 1 Axes>"
      ]
     },
     "metadata": {},
     "output_type": "display_data"
    }
   ],
   "source": [
    "# Number of Purchases by Device Type\n",
    "device_counts = df.groupby('Device_Used_for_Shopping')['Device_Used_for_Shopping'].count()\n",
    "print(device_counts)\n",
    "plt.bar(device_counts.index, device_counts.values, color = 'brown')\n",
    "plt.ylim(300, 360)\n",
    "plt.xlabel('Device Used for Shopping')\n",
    "plt.ylabel('Number of Purchases')\n",
    "plt.title('Number of Purchases by Device Type')\n"
   ]
  },
  {
   "cell_type": "code",
   "execution_count": 35,
   "metadata": {},
   "outputs": [
    {
     "data": {
      "text/plain": [
       "Text(0.5, 1.0, 'Age Distribution of Customers')"
      ]
     },
     "execution_count": 35,
     "metadata": {},
     "output_type": "execute_result"
    },
    {
     "data": {
      "image/png": "[encoded data removed]",
      "text/plain": [
       "<Figure size 640x480 with 1 Axes>"
      ]
     },
     "metadata": {},
     "output_type": "display_data"
    }
   ],
   "source": [
    "# Age Distribution of Customers\n",
    "plt.hist(df['Age'], bins =20, color= 'yellow', edgecolor = 'red', linewidth = 1.2)\n",
    "plt.xlabel('Age')\n",
    "plt.ylabel('Count')\n",
    "plt.title('Age Distribution of Customers')"
   ]
  },
  {
   "cell_type": "code",
   "execution_count": 37,
   "metadata": {},
   "outputs": [
    {
     "data": {
      "text/plain": [
       "Text(0.5, 1.0, 'Purchase Distribution by Purchase Channel')"
      ]
     },
     "execution_count": 37,
     "metadata": {},
     "output_type": "execute_result"
    },
    {
     "data": {
      "image/png": "[encoded data removed]",
      "text/plain": [
       "<Figure size 640x480 with 1 Axes>"
      ]
     },
     "metadata": {},
     "output_type": "display_data"
    }
   ],
   "source": [
    "#Purchase Distribution by Purchase Channel\n",
    "a = df.groupby('Purchase_Channel')['Purchase_Channel'].count()\n",
    "e = (0.1,0,0)\n",
    "plt.pie(a.values, labels=a.index, autopct = '%1.1f%%', shadow=True, explode= e)\n",
    "plt.title('Purchase Distribution by Purchase Channel')"
   ]
  },
  {
   "cell_type": "code",
   "execution_count": 38,
   "metadata": {},
   "outputs": [
    {
     "data": {
      "text/plain": [
       "<matplotlib.legend.Legend at 0x15427d942f0>"
      ]
     },
     "execution_count": 38,
     "metadata": {},
     "output_type": "execute_result"
    },
    {
     "data": {
      "image/png": "[encoded data removed]",
      "text/plain": [
       "<Figure size 1000x600 with 1 Axes>"
      ]
     },
     "metadata": {},
     "output_type": "display_data"
    }
   ],
   "source": [
    "# Comparison of Social Media Influence & Engagement with Ads on Purchase\n",
    "social_media_impact_ = df.groupby(\"Social_Media_Influence\")[\"Purchase_Amount\"].mean()\n",
    "ads_impact = df.groupby(\"Engagement_with_Ads\")[\"Purchase_Amount\"].mean()\n",
    "\n",
    "\n",
    "plt.figure(figsize=(10, 6))\n",
    "plt.plot(social_media_impact_.index, social_media_impact_.values, marker='o',label='Social Media Influence', color='teal')\n",
    "plt.plot(ads_impact.index, ads_impact.values, marker='s',label='Ads Influence', color='orange')\n",
    "\n",
    "plt.title('Comparison of Social Media Influence & Engagement with Ads on Purchase')\n",
    "plt.xlabel('Response Level')\n",
    "plt.ylabel('Average Purchase Amount')\n",
    "plt.legend()\n"
   ]
  },
  {
   "cell_type": "code",
   "execution_count": 39,
   "metadata": {},
   "outputs": [
    {
     "name": "stdout",
     "output_type": "stream",
     "text": [
      "Purchase_Category\n",
      "Electronics              54\n",
      "Sports & Outdoors        51\n",
      "Jewelry & Accessories    50\n",
      "Home Appliances          50\n",
      "Toys & Games             47\n",
      "Animal Feed              44\n",
      "Food & Beverages         44\n",
      "Gardening & Outdoors     44\n",
      "Software & Apps          43\n",
      "Packages                 43\n",
      "Name: Purchase_Category, dtype: int64\n"
     ]
    },
    {
     "data": {
      "text/plain": [
       "([0, 1, 2, 3, 4, 5, 6, 7, 8, 9],\n",
       " [Text(0, 0, 'Electronics'),\n",
       "  Text(1, 0, 'Sports & Outdoors'),\n",
       "  Text(2, 0, 'Jewelry & Accessories'),\n",
       "  Text(3, 0, 'Home Appliances'),\n",
       "  Text(4, 0, 'Toys & Games'),\n",
       "  Text(5, 0, 'Animal Feed'),\n",
       "  Text(6, 0, 'Food & Beverages'),\n",
       "  Text(7, 0, 'Gardening & Outdoors'),\n",
       "  Text(8, 0, 'Software & Apps'),\n",
       "  Text(9, 0, 'Packages')])"
      ]
     },
     "execution_count": 39,
     "metadata": {},
     "output_type": "execute_result"
    },
    {
     "data": {
      "image/png": "[encoded data removed]",
      "text/plain": [
       "<Figure size 1000x600 with 1 Axes>"
      ]
     },
     "metadata": {},
     "output_type": "display_data"
    }
   ],
   "source": [
    "# Top 10 Purchase Catorgies by Sales\n",
    "category_counts = df.groupby('Purchase_Category')['Purchase_Category'].count().sort_values(ascending=False).head(10)\n",
    "print(category_counts)\n",
    "plt.figure(figsize=(10, 6))\n",
    "plt.stem(category_counts.index[:10], category_counts.values[:10],markerfmt='d')\n",
    "plt.ylim(42, 56)\n",
    "plt.xlabel('Purchase Category')\n",
    "plt.ylabel('Count')\n",
    "plt.title('Top 10 Purchase Catorgies by Sales')\n",
    "plt.grid()\n",
    "plt.xticks(rotation= 45)"
   ]
  },
  {
   "cell_type": "code",
   "execution_count": 40,
   "metadata": {},
   "outputs": [],
   "source": [
    "import seaborn as sns"
   ]
  },
  {
   "cell_type": "code",
   "execution_count": 41,
   "metadata": {},
   "outputs": [
    {
     "data": {
      "image/png": "[encoded data removed]",
      "text/plain": [
       "<Figure size 640x480 with 1 Axes>"
      ]
     },
     "metadata": {},
     "output_type": "display_data"
    }
   ],
   "source": [
    "# Time Spent on Product Research(hours) vs Return Rate\n",
    "sns.lineplot(x = 'Time_Spent_on_Product_Research(hours)',  y ='Return_Rate', data = df)\n",
    "plt.xlabel('Time Spent on Product Research(hours)')\n",
    "plt.ylabel('Return Rate')\n",
    "plt.title('Time Spent on Product Research(hours) vs Return Rate')\n",
    "plt.grid()"
   ]
  },
  {
   "cell_type": "code",
   "execution_count": 45,
   "metadata": {},
   "outputs": [
    {
     "name": "stdout",
     "output_type": "stream",
     "text": [
      "Customer_Satisfaction\n",
      "1     111\n",
      "2     100\n",
      "3     104\n",
      "4      99\n",
      "5      87\n",
      "6     109\n",
      "7     101\n",
      "8     102\n",
      "9     102\n",
      "10     85\n",
      "Name: Customer_Satisfaction, dtype: int64\n"
     ]
    },
    {
     "data": {
      "text/plain": [
       "Text(0.5, 1.0, 'Customer Satisfaction Distribution')"
      ]
     },
     "execution_count": 45,
     "metadata": {},
     "output_type": "execute_result"
    },
    {
     "data": {
      "image/png": "[encoded data removed]",
      "text/plain": [
       "<Figure size 640x480 with 1 Axes>"
      ]
     },
     "metadata": {},
     "output_type": "display_data"
    }
   ],
   "source": [
    "# Customer Satisfaction Distribution\n",
    "df1 = df.groupby('Customer_Satisfaction')['Customer_Satisfaction'].count()\n",
    "print(df1)\n",
    "sns.barplot(x = df1.index, y = df1.values, color = 'red')\n",
    "plt.xlabel('Customer Satisfaction Level')\n",
    "plt.ylabel('Number of Customers')\n",
    "plt.title('Customer Satisfaction Distribution')\n"
   ]
  },
  {
   "cell_type": "code",
   "execution_count": null,
   "metadata": {},
   "outputs": [
    {
     "data": {
      "image/png": "[encoded data removed]",
      "text/plain": [
       "<Figure size 640x480 with 1 Axes>"
      ]
     },
     "metadata": {},
     "output_type": "display_data"
    }
   ],
   "source": [
    "# Purchase Amount by Customer Loyalty Program Membership\n",
    "sns.violinplot(x= 'Customer_Loyalty_Program_Member', y= 'Purchase_Amount', data=df, palette='coolwarm', legend=False, hue='Customer_Loyalty_Program_Member')\n",
    "plt.xlabel( 'Customer Loyalty Program Member')\n",
    "plt.ylabel( 'Purchase Amount')\n",
    "plt.title( 'Purchase Amount by Customer Loyalty Program Membership')\n",
    "plt.tight_layout()"
   ]
  },
  {
   "cell_type": "code",
   "execution_count": null,
   "metadata": {},
   "outputs": [],
   "source": [
    "import plotly.express as px"
   ]
  },
  {
   "cell_type": "code",
   "execution_count": null,
   "metadata": {},
   "outputs": [
    {
     "data": {
      "application/vnd.plotly.v1+json": {
       "config": {
        "plotlyServerURL": "https://plot.ly"
       },
       "data": [
        {
         "branchvalues": "total",
         "domain": {
          "x": [
           0,
           1
          ],
          "y": [
           0,
           1
          ]
         },
         "hovertemplate": "labels=%{label}<br>Purchase_Amount=%{value}<br>parent=%{parent}<br>id=%{id}<extra></extra>",
         "ids": [
          "Female/Gardening & Outdoors",
          "Male/Food & Beverages",
          "Female/Office Supplies",
          "Female/Home Appliances",
          "Female/Furniture",
          "Male/Office Supplies",
          "Male/Books",
          "Bigender/Sports & Outdoors",
          "Male/Mobile Accessories",
          "Female/Sports & Outdoors",
          "Male/Luxury Goods",
          "Male/Animal Feed",
          "Female/Health Care",
          "Male/Hotels",
          "Male/Furniture",
          "Female/Mobile Accessories",
          "Male/Packages",
          "Female/Electronics",
          "Female/Software & Apps",
          "Female/Baby Products",
          "Male/Toys & Games",
          "Female/Food & Beverages",
          "Female/Arts & Crafts",
          "Male/Electronics",
          "Male/Arts & Crafts",
          "Female/Health Supplements",
          "Genderfluid/Mobile Accessories",
          "Female/Books",
          "Male/Groceries",
          "Female/Toys & Games",
          "Male/Health Care",
          "Male/Clothing",
          "Female/Groceries",
          "Female/Beauty & Personal Care",
          "Non-binary/Arts & Crafts",
          "Female/Travel & Leisure (Flights)",
          "Female/Animal Feed",
          "Female/Hotels",
          "Male/Baby Products",
          "Polygender/Travel & Leisure (Flights)",
          "Female/Luxury Goods",
          "Genderfluid/Health Care",
          "Bigender/Electronics",
          "Male/Sports & Outdoors",
          "Bigender/Furniture",
          "Male/Health Supplements",
          "Male/Jewelry & Accessories",
          "Male/Software & Apps",
          "Male/Travel & Leisure (Flights)",
          "Agender/Beauty & Personal Care",
          "Female/Jewelry & Accessories",
          "Non-binary/Office Supplies",
          "Male/Home Appliances",
          "Male/Gardening & Outdoors",
          "Female/Clothing",
          "Male/Beauty & Personal Care",
          "Genderqueer/Travel & Leisure (Flights)",
          "Genderqueer/Food & Beverages",
          "Genderfluid/Software & Apps",
          "Non-binary/Packages",
          "Agender/Home Appliances",
          "Female/Packages",
          "Polygender/Health Supplements",
          "Non-binary/Electronics",
          "Genderqueer/Furniture",
          "Polygender/Office Supplies",
          "Genderfluid/Furniture",
          "Agender/Packages",
          "Agender/Hotels",
          "Agender/Software & Apps",
          "Agender/Health Supplements",
          "Bigender/Gardening & Outdoors",
          "Bigender/Packages",
          "Non-binary/Jewelry & Accessories",
          "Genderfluid/Clothing",
          "Genderqueer/Animal Feed",
          "Genderfluid/Jewelry & Accessories",
          "Polygender/Software & Apps",
          "Genderqueer/Sports & Outdoors",
          "Genderfluid/Office Supplies",
          "Genderfluid/Toys & Games",
          "Genderfluid/Packages",
          "Genderqueer/Beauty & Personal Care",
          "Genderfluid/Home Appliances",
          "Non-binary/Home Appliances",
          "Polygender/Hotels",
          "Polygender/Toys & Games",
          "Polygender/Sports & Outdoors",
          "Agender/Travel & Leisure (Flights)",
          "Bigender/Software & Apps",
          "Polygender/Health Care",
          "Non-binary/Luxury Goods",
          "Bigender/Beauty & Personal Care",
          "Bigender/Groceries",
          "Polygender/Packages",
          "Genderfluid/Electronics",
          "Genderqueer/Groceries",
          "Genderfluid/Baby Products",
          "Genderfluid/Travel & Leisure (Flights)",
          "Genderqueer/Gardening & Outdoors",
          "Non-binary/Animal Feed",
          "Non-binary/Clothing",
          "Agender/Groceries",
          "Polygender/Jewelry & Accessories",
          "Bigender/Clothing",
          "Genderqueer/Luxury Goods",
          "Agender/Clothing",
          "Non-binary/Mobile Accessories",
          "Non-binary/Sports & Outdoors",
          "Genderfluid/Groceries",
          "Genderqueer/Health Supplements",
          "Polygender/Electronics",
          "Agender/Arts & Crafts",
          "Non-binary/Health Care",
          "Bigender/Arts & Crafts",
          "Agender/Animal Feed",
          "Genderqueer/Software & Apps",
          "Bigender/Food & Beverages",
          "Non-binary/Food & Beverages",
          "Bigender/Health Care",
          "Bigender/Health Supplements",
          "Bigender/Baby Products",
          "Female",
          "Male",
          "Bigender",
          "Genderfluid",
          "Non-binary",
          "Polygender",
          "Agender",
          "Genderqueer"
         ],
         "labels": [
          "Gardening & Outdoors",
          "Food & Beverages",
          "Office Supplies",
          "Home Appliances",
          "Furniture",
          "Office Supplies",
          "Books",
          "Sports & Outdoors",
          "Mobile Accessories",
          "Sports & Outdoors",
          "Luxury Goods",
          "Animal Feed",
          "Health Care",
          "Hotels",
          "Furniture",
          "Mobile Accessories",
          "Packages",
          "Electronics",
          "Software & Apps",
          "Baby Products",
          "Toys & Games",
          "Food & Beverages",
          "Arts & Crafts",
          "Electronics",
          "Arts & Crafts",
          "Health Supplements",
          "Mobile Accessories",
          "Books",
          "Groceries",
          "Toys & Games",
          "Health Care",
          "Clothing",
          "Groceries",
          "Beauty & Personal Care",
          "Arts & Crafts",
          "Travel & Leisure (Flights)",
          "Animal Feed",
          "Hotels",
          "Baby Products",
          "Travel & Leisure (Flights)",
          "Luxury Goods",
          "Health Care",
          "Electronics",
          "Sports & Outdoors",
          "Furniture",
          "Health Supplements",
          "Jewelry & Accessories",
          "Software & Apps",
          "Travel & Leisure (Flights)",
          "Beauty & Personal Care",
          "Jewelry & Accessories",
          "Office Supplies",
          "Home Appliances",
          "Gardening & Outdoors",
          "Clothing",
          "Beauty & Personal Care",
          "Travel & Leisure (Flights)",
          "Food & Beverages",
          "Software & Apps",
          "Packages",
          "Home Appliances",
          "Packages",
          "Health Supplements",
          "Electronics",
          "Furniture",
          "Office Supplies",
          "Furniture",
          "Packages",
          "Hotels",
          "Software & Apps",
          "Health Supplements",
          "Gardening & Outdoors",
          "Packages",
          "Jewelry & Accessories",
          "Clothing",
          "Animal Feed",
          "Jewelry & Accessories",
          "Software & Apps",
          "Sports & Outdoors",
          "Office Supplies",
          "Toys & Games",
          "Packages",
          "Beauty & Personal Care",
          "Home Appliances",
          "Home Appliances",
          "Hotels",
          "Toys & Games",
          "Sports & Outdoors",
          "Travel & Leisure (Flights)",
          "Software & Apps",
          "Health Care",
          "Luxury Goods",
          "Beauty & Personal Care",
          "Groceries",
          "Packages",
          "Electronics",
          "Groceries",
          "Baby Products",
          "Travel & Leisure (Flights)",
          "Gardening & Outdoors",
          "Animal Feed",
          "Clothing",
          "Groceries",
          "Jewelry & Accessories",
          "Clothing",
          "Luxury Goods",
          "Clothing",
          "Mobile Accessories",
          "Sports & Outdoors",
          "Groceries",
          "Health Supplements",
          "Electronics",
          "Arts & Crafts",
          "Health Care",
          "Arts & Crafts",
          "Animal Feed",
          "Software & Apps",
          "Food & Beverages",
          "Food & Beverages",
          "Health Care",
          "Health Supplements",
          "Baby Products",
          "Female",
          "Male",
          "Bigender",
          "Genderfluid",
          "Non-binary",
          "Polygender",
          "Agender",
          "Genderqueer"
         ],
         "name": "",
         "parents": [
          "Female",
          "Male",
          "Female",
          "Female",
          "Female",
          "Male",
          "Male",
          "Bigender",
          "Male",
          "Female",
          "Male",
          "Male",
          "Female",
          "Male",
          "Male",
          "Female",
          "Male",
          "Female",
          "Female",
          "Female",
          "Male",
          "Female",
          "Female",
          "Male",
          "Male",
          "Female",
          "Genderfluid",
          "Female",
          "Male",
          "Female",
          "Male",
          "Male",
          "Female",
          "Female",
          "Non-binary",
          "Female",
          "Female",
          "Female",
          "Male",
          "Polygender",
          "Female",
          "Genderfluid",
          "Bigender",
          "Male",
          "Bigender",
          "Male",
          "Male",
          "Male",
          "Male",
          "Agender",
          "Female",
          "Non-binary",
          "Male",
          "Male",
          "Female",
          "Male",
          "Genderqueer",
          "Genderqueer",
          "Genderfluid",
          "Non-binary",
          "Agender",
          "Female",
          "Polygender",
          "Non-binary",
          "Genderqueer",
          "Polygender",
          "Genderfluid",
          "Agender",
          "Agender",
          "Agender",
          "Agender",
          "Bigender",
          "Bigender",
          "Non-binary",
          "Genderfluid",
          "Genderqueer",
          "Genderfluid",
          "Polygender",
          "Genderqueer",
          "Genderfluid",
          "Genderfluid",
          "Genderfluid",
          "Genderqueer",
          "Genderfluid",
          "Non-binary",
          "Polygender",
          "Polygender",
          "Polygender",
          "Agender",
          "Bigender",
          "Polygender",
          "Non-binary",
          "Bigender",
          "Bigender",
          "Polygender",
          "Genderfluid",
          "Genderqueer",
          "Genderfluid",
          "Genderfluid",
          "Genderqueer",
          "Non-binary",
          "Non-binary",
          "Agender",
          "Polygender",
          "Bigender",
          "Genderqueer",
          "Agender",
          "Non-binary",
          "Non-binary",
          "Genderfluid",
          "Genderqueer",
          "Polygender",
          "Agender",
          "Non-binary",
          "Bigender",
          "Agender",
          "Genderqueer",
          "Bigender",
          "Non-binary",
          "Bigender",
          "Bigender",
          "Bigender",
          "",
          "",
          "",
          "",
          "",
          "",
          "",
          ""
         ],
         "type": "treemap",
         "values": {
          "bdata": "16NwPQo3skCamZmZ2VizQFyPwvUoI7RAexSuR2FbrUAAAAAAwEu1QAAAAADA/7JAFK5H4TpHuEBcj8L1KKqAQJqZmZkZI7dAmpmZmRnrtkCamZmZGXOnQPYoXI8CTrRAAAAAAEAQu0A+CtejcBWtQNejcD2KmKxA4XoUrgfYsUBI4XoUrnqqQEjhehTuC7tAMzMzM/MItEAfhetRuMC0QHsUrkeh3LZA4XoUrkdiukDXo3A9CiSuQOF6FK6HOrVAuB6F69G0p0BmZmZmZuSrQK5H4XoUonFAKVyPwnUrs0DhehSuB6myQB+F61E42LxAmpmZmRmBrkDhehSuRyqsQIXrUbje4bJAuB6F6xHBsUAVrkfheoh5QJqZmZkZQqRAH4XrUTggtEDXo3A9is6xQJqZmZnZ+7NAj8L1KFytj0BI4XoUbkS6QIXrUbge1XRA9ihcj8KhgkDhehSuB0G9QJqZmZmZoYVAKVyPwnWQt0DXo3A9CsKyQHsUrkehGrtAPQrXo7Dns0DXo3A9CidbQKRwPQp3JcFAexSuR+HOcEBSuB6Fa569QKRwPQrXj7lA4XoUrsf5pkAK16NwPaOnQHsUrkfhontAXI/C9SiweEDXo3A9Cm9sQEjhehSuJ3NAwvUoXI/xkkBcj8L16Om7QK5H4XoU4oBAw/UoXI9SWUDhehSuRzlqQDMzMzMzF3NAFK5H4XrEcEApXI/C9eqPQBSuR+F63GZAKVyPwvXgeUDD9ShcjyJ2QI/C9ShcD2BAcT0K16MYc0BmZmZmZjZ0QM3MzMzMII5AuB6F61G4e0B7FK5H4ZJ8QDMzMzMzl3JAuB6F61GoY0DXo3A9CjduQPYoXI/C5WlAzMzMzMwEeUAfhetRuKZjQI/C9Shcn2JAPQrXo3ClfkDhehSuR214QOxRuB6FG1dAuB6F61EIfkBmZmZmZs5oQPYoXI/CoX5A4XoUrkehYEBcj8L1KJRoQAAAAAAAIFtAhetRuB41dUDXo3A9CkdkQAAAAAAAaHZAuB6F61EmgEBSuB6F6zV7QEjhehSu125AH4XrUbjue0DNzMzMzMB7QHE9CtejpHtAexSuR+FIgUAUrkfhek6IQI/C9ShcN29ACtejcD1GdEAUrkfhetxoQJDC9Shcn4xAhetRuB7VVEAUrkfhevh7QM3MzMzMjGNA16NwPQq/ekDhehSuR9FjQDMzMzMzd3dAexSuR+GaUUCamZmZmalsQI/C9ShcL1pAXI/C9ShOg0CamZmZmeFuQB+F61G4pn1Aw/UoXI/ab0DhehSuR0lzQMP1KFz7IP9ApHA9CgtW/UBxPQrXYzG0QM3MzMzMmrNAPgrXo7D7sUCF61G4ng2yQOxRuB7FF7JAUrgehWs0qkA=",
          "dtype": "f8"
         }
        }
       ],
       "layout": {
        "height": 700,
        "legend": {
         "tracegroupgap": 0
        },
        "template": {
         "data": {
          "bar": [
           {
            "error_x": {
             "color": "#2a3f5f"
            },
            "error_y": {
             "color": "#2a3f5f"
            },
            "marker": {
             "line": {
              "color": "#E5ECF6",
              "width": 0.5
             },
             "pattern": {
              "fillmode": "overlay",
              "size": 10,
              "solidity": 0.2
             }
            },
            "type": "bar"
           }
          ],
          "barpolar": [
           {
            "marker": {
             "line": {
              "color": "#E5ECF6",
              "width": 0.5
             },
             "pattern": {
              "fillmode": "overlay",
              "size": 10,
              "solidity": 0.2
             }
            },
            "type": "barpolar"
           }
          ],
          "carpet": [
           {
            "aaxis": {
             "endlinecolor": "#2a3f5f",
             "gridcolor": "white",
             "linecolor": "white",
             "minorgridcolor": "white",
             "startlinecolor": "#2a3f5f"
            },
            "baxis": {
             "endlinecolor": "#2a3f5f",
             "gridcolor": "white",
             "linecolor": "white",
             "minorgridcolor": "white",
             "startlinecolor": "#2a3f5f"
            },
            "type": "carpet"
           }
          ],
          "choropleth": [
           {
            "colorbar": {
             "outlinewidth": 0,
             "ticks": ""
            },
            "type": "choropleth"
           }
          ],
          "contour": [
           {
            "colorbar": {
             "outlinewidth": 0,
             "ticks": ""
            },
            "colorscale": [
             [
              0,
              "#0d0887"
             ],
             [
              0.1111111111111111,
              "#46039f"
             ],
             [
              0.2222222222222222,
              "#7201a8"
             ],
             [
              0.3333333333333333,
              "#9c179e"
             ],
             [
              0.4444444444444444,
              "#bd3786"
             ],
             [
              0.5555555555555556,
              "#d8576b"
             ],
             [
              0.6666666666666666,
              "#ed7953"
             ],
             [
              0.7777777777777778,
              "#fb9f3a"
             ],
             [
              0.8888888888888888,
              "#fdca26"
             ],
             [
              1,
              "#f0f921"
             ]
            ],
            "type": "contour"
           }
          ],
          "contourcarpet": [
           {
            "colorbar": {
             "outlinewidth": 0,
             "ticks": ""
            },
            "type": "contourcarpet"
           }
          ],
          "heatmap": [
           {
            "colorbar": {
             "outlinewidth": 0,
             "ticks": ""
            },
            "colorscale": [
             [
              0,
              "#0d0887"
             ],
             [
              0.1111111111111111,
              "#46039f"
             ],
             [
              0.2222222222222222,
              "#7201a8"
             ],
             [
              0.3333333333333333,
              "#9c179e"
             ],
             [
              0.4444444444444444,
              "#bd3786"
             ],
             [
              0.5555555555555556,
              "#d8576b"
             ],
             [
              0.6666666666666666,
              "#ed7953"
             ],
             [
              0.7777777777777778,
              "#fb9f3a"
             ],
             [
              0.8888888888888888,
              "#fdca26"
             ],
             [
              1,
              "#f0f921"
             ]
            ],
            "type": "heatmap"
           }
          ],
          "histogram": [
           {
            "marker": {
             "pattern": {
              "fillmode": "overlay",
              "size": 10,
              "solidity": 0.2
             }
            },
            "type": "histogram"
           }
          ],
          "histogram2d": [
           {
            "colorbar": {
             "outlinewidth": 0,
             "ticks": ""
            },
            "colorscale": [
             [
              0,
              "#0d0887"
             ],
             [
              0.1111111111111111,
              "#46039f"
             ],
             [
              0.2222222222222222,
              "#7201a8"
             ],
             [
              0.3333333333333333,
              "#9c179e"
             ],
             [
              0.4444444444444444,
              "#bd3786"
             ],
             [
              0.5555555555555556,
              "#d8576b"
             ],
             [
              0.6666666666666666,
              "#ed7953"
             ],
             [
              0.7777777777777778,
              "#fb9f3a"
             ],
             [
              0.8888888888888888,
              "#fdca26"
             ],
             [
              1,
              "#f0f921"
             ]
            ],
            "type": "histogram2d"
           }
          ],
          "histogram2dcontour": [
           {
            "colorbar": {
             "outlinewidth": 0,
             "ticks": ""
            },
            "colorscale": [
             [
              0,
              "#0d0887"
             ],
             [
              0.1111111111111111,
              "#46039f"
             ],
             [
              0.2222222222222222,
              "#7201a8"
             ],
             [
              0.3333333333333333,
              "#9c179e"
             ],
             [
              0.4444444444444444,
              "#bd3786"
             ],
             [
              0.5555555555555556,
              "#d8576b"
             ],
             [
              0.6666666666666666,
              "#ed7953"
             ],
             [
              0.7777777777777778,
              "#fb9f3a"
             ],
             [
              0.8888888888888888,
              "#fdca26"
             ],
             [
              1,
              "#f0f921"
             ]
            ],
            "type": "histogram2dcontour"
           }
          ],
          "mesh3d": [
           {
            "colorbar": {
             "outlinewidth": 0,
             "ticks": ""
            },
            "type": "mesh3d"
           }
          ],
          "parcoords": [
           {
            "line": {
             "colorbar": {
              "outlinewidth": 0,
              "ticks": ""
             }
            },
            "type": "parcoords"
           }
          ],
          "pie": [
           {
            "automargin": true,
            "type": "pie"
           }
          ],
          "scatter": [
           {
            "fillpattern": {
             "fillmode": "overlay",
             "size": 10,
             "solidity": 0.2
            },
            "type": "scatter"
           }
          ],
          "scatter3d": [
           {
            "line": {
             "colorbar": {
              "outlinewidth": 0,
              "ticks": ""
             }
            },
            "marker": {
             "colorbar": {
              "outlinewidth": 0,
              "ticks": ""
             }
            },
            "type": "scatter3d"
           }
          ],
          "scattercarpet": [
           {
            "marker": {
             "colorbar": {
              "outlinewidth": 0,
              "ticks": ""
             }
            },
            "type": "scattercarpet"
           }
          ],
          "scattergeo": [
           {
            "marker": {
             "colorbar": {
              "outlinewidth": 0,
              "ticks": ""
             }
            },
            "type": "scattergeo"
           }
          ],
          "scattergl": [
           {
            "marker": {
             "colorbar": {
              "outlinewidth": 0,
              "ticks": ""
             }
            },
            "type": "scattergl"
           }
          ],
          "scattermap": [
           {
            "marker": {
             "colorbar": {
              "outlinewidth": 0,
              "ticks": ""
             }
            },
            "type": "scattermap"
           }
          ],
          "scattermapbox": [
           {
            "marker": {
             "colorbar": {
              "outlinewidth": 0,
              "ticks": ""
             }
            },
            "type": "scattermapbox"
           }
          ],
          "scatterpolar": [
           {
            "marker": {
             "colorbar": {
              "outlinewidth": 0,
              "ticks": ""
             }
            },
            "type": "scatterpolar"
           }
          ],
          "scatterpolargl": [
           {
            "marker": {
             "colorbar": {
              "outlinewidth": 0,
              "ticks": ""
             }
            },
            "type": "scatterpolargl"
           }
          ],
          "scatterternary": [
           {
            "marker": {
             "colorbar": {
              "outlinewidth": 0,
              "ticks": ""
             }
            },
            "type": "scatterternary"
           }
          ],
          "surface": [
           {
            "colorbar": {
             "outlinewidth": 0,
             "ticks": ""
            },
            "colorscale": [
             [
              0,
              "#0d0887"
             ],
             [
              0.1111111111111111,
              "#46039f"
             ],
             [
              0.2222222222222222,
              "#7201a8"
             ],
             [
              0.3333333333333333,
              "#9c179e"
             ],
             [
              0.4444444444444444,
              "#bd3786"
             ],
             [
              0.5555555555555556,
              "#d8576b"
             ],
             [
              0.6666666666666666,
              "#ed7953"
             ],
             [
              0.7777777777777778,
              "#fb9f3a"
             ],
             [
              0.8888888888888888,
              "#fdca26"
             ],
             [
              1,
              "#f0f921"
             ]
            ],
            "type": "surface"
           }
          ],
          "table": [
           {
            "cells": {
             "fill": {
              "color": "#EBF0F8"
             },
             "line": {
              "color": "white"
             }
            },
            "header": {
             "fill": {
              "color": "#C8D4E3"
             },
             "line": {
              "color": "white"
             }
            },
            "type": "table"
           }
          ]
         },
         "layout": {
          "annotationdefaults": {
           "arrowcolor": "#2a3f5f",
           "arrowhead": 0,
           "arrowwidth": 1
          },
          "autotypenumbers": "strict",
          "coloraxis": {
           "colorbar": {
            "outlinewidth": 0,
            "ticks": ""
           }
          },
          "colorscale": {
           "diverging": [
            [
             0,
             "#8e0152"
            ],
            [
             0.1,
             "#c51b7d"
            ],
            [
             0.2,
             "#de77ae"
            ],
            [
             0.3,
             "#f1b6da"
            ],
            [
             0.4,
             "#fde0ef"
            ],
            [
             0.5,
             "#f7f7f7"
            ],
            [
             0.6,
             "#e6f5d0"
            ],
            [
             0.7,
             "#b8e186"
            ],
            [
             0.8,
             "#7fbc41"
            ],
            [
             0.9,
             "#4d9221"
            ],
            [
             1,
             "#276419"
            ]
           ],
           "sequential": [
            [
             0,
             "#0d0887"
            ],
            [
             0.1111111111111111,
             "#46039f"
            ],
            [
             0.2222222222222222,
             "#7201a8"
            ],
            [
             0.3333333333333333,
             "#9c179e"
            ],
            [
             0.4444444444444444,
             "#bd3786"
            ],
            [
             0.5555555555555556,
             "#d8576b"
            ],
            [
             0.6666666666666666,
             "#ed7953"
            ],
            [
             0.7777777777777778,
             "#fb9f3a"
            ],
            [
             0.8888888888888888,
             "#fdca26"
            ],
            [
             1,
             "#f0f921"
            ]
           ],
           "sequentialminus": [
            [
             0,
             "#0d0887"
            ],
            [
             0.1111111111111111,
             "#46039f"
            ],
            [
             0.2222222222222222,
             "#7201a8"
            ],
            [
             0.3333333333333333,
             "#9c179e"
            ],
            [
             0.4444444444444444,
             "#bd3786"
            ],
            [
             0.5555555555555556,
             "#d8576b"
            ],
            [
             0.6666666666666666,
             "#ed7953"
            ],
            [
             0.7777777777777778,
             "#fb9f3a"
            ],
            [
             0.8888888888888888,
             "#fdca26"
            ],
            [
             1,
             "#f0f921"
            ]
           ]
          },
          "colorway": [
           "#636efa",
           "#EF553B",
           "#00cc96",
           "#ab63fa",
           "#FFA15A",
           "#19d3f3",
           "#FF6692",
           "#B6E880",
           "#FF97FF",
           "#FECB52"
          ],
          "font": {
           "color": "#2a3f5f"
          },
          "geo": {
           "bgcolor": "white",
           "lakecolor": "white",
           "landcolor": "#E5ECF6",
           "showlakes": true,
           "showland": true,
           "subunitcolor": "white"
          },
          "hoverlabel": {
           "align": "left"
          },
          "hovermode": "closest",
          "mapbox": {
           "style": "light"
          },
          "paper_bgcolor": "white",
          "plot_bgcolor": "#E5ECF6",
          "polar": {
           "angularaxis": {
            "gridcolor": "white",
            "linecolor": "white",
            "ticks": ""
           },
           "bgcolor": "#E5ECF6",
           "radialaxis": {
            "gridcolor": "white",
            "linecolor": "white",
            "ticks": ""
           }
          },
          "scene": {
           "xaxis": {
            "backgroundcolor": "#E5ECF6",
            "gridcolor": "white",
            "gridwidth": 2,
            "linecolor": "white",
            "showbackground": true,
            "ticks": "",
            "zerolinecolor": "white"
           },
           "yaxis": {
            "backgroundcolor": "#E5ECF6",
            "gridcolor": "white",
            "gridwidth": 2,
            "linecolor": "white",
            "showbackground": true,
            "ticks": "",
            "zerolinecolor": "white"
           },
           "zaxis": {
            "backgroundcolor": "#E5ECF6",
            "gridcolor": "white",
            "gridwidth": 2,
            "linecolor": "white",
            "showbackground": true,
            "ticks": "",
            "zerolinecolor": "white"
           }
          },
          "shapedefaults": {
           "line": {
            "color": "#2a3f5f"
           }
          },
          "ternary": {
           "aaxis": {
            "gridcolor": "white",
            "linecolor": "white",
            "ticks": ""
           },
           "baxis": {
            "gridcolor": "white",
            "linecolor": "white",
            "ticks": ""
           },
           "bgcolor": "#E5ECF6",
           "caxis": {
            "gridcolor": "white",
            "linecolor": "white",
            "ticks": ""
           }
          },
          "title": {
           "x": 0.05
          },
          "xaxis": {
           "automargin": true,
           "gridcolor": "white",
           "linecolor": "white",
           "ticks": "",
           "title": {
            "standoff": 15
           },
           "zerolinecolor": "white",
           "zerolinewidth": 2
          },
          "yaxis": {
           "automargin": true,
           "gridcolor": "white",
           "linecolor": "white",
           "ticks": "",
           "title": {
            "standoff": 15
           },
           "zerolinecolor": "white",
           "zerolinewidth": 2
          }
         }
        },
        "title": {
         "text": "Purchase Distribution by Gender and Category"
        }
       }
      }
     },
     "metadata": {},
     "output_type": "display_data"
    }
   ],
   "source": [
    "# Purchase Distribution by Gender and Category\n",
    "fig = px.treemap(df,path=['Gender', 'Purchase_Category'],\n",
    "           values= 'Purchase_Amount', title='Purchase Distribution by Gender and Category')\n",
    "fig.update_layout(height=700)"
   ]
  },
  {
   "cell_type": "code",
   "execution_count": null,
   "metadata": {},
   "outputs": [
    {
     "data": {
      "application/vnd.plotly.v1+json": {
       "config": {
        "plotlyServerURL": "https://plot.ly"
       },
       "data": [
        {
         "fillpattern": {
          "shape": ""
         },
         "hovertemplate": "Age=%{x}<br> Total Purchase Amonut=%{y}<extra></extra>",
         "legendgroup": "",
         "line": {
          "color": "green"
         },
         "marker": {
          "symbol": "circle"
         },
         "mode": "lines",
         "name": "",
         "orientation": "v",
         "showlegend": false,
         "stackgroup": "1",
         "type": "scatter",
         "x": {
          "bdata": "EhMUFRYXGBkaGxwdHh8gISIjJCUmJygpKissLS4vMDEy",
          "dtype": "i1"
         },
         "xaxis": "x",
         "y": {
          "bdata": "SOF6FC46skDhehSux4vBQB+F61G4+rZApHA9Cpe4wEAK16NwPWS0QNejcD1K3cJAcT0K1wPExECuR+F6NErAQHsUrkfBD8BAcT0K1+MNxkC4HoXrkY67QIXrUbger8ZAUrgehYsKwEApXI/CtTi6QM3MzMwsfcFAH4XrUTieu0DD9Shcj2q+QNejcD0K/sBA9ihcj2IiwECuR+F6tOzDQDMzMzNzCcFAXI/C9ajWu0AAAAAAQLnFQOxRuB7FdbxAPQrXo9Chw0AAAAAAAJO9QHsUrkehEr5ApHA9Cndmw0CkcD0Kl7C4QHsUrkeh+LpA9ihcj4IZvkBcj8L16APDQMP1KFyPTMFA",
          "dtype": "f8"
         },
         "yaxis": "y"
        }
       ],
       "layout": {
        "legend": {
         "tracegroupgap": 0
        },
        "template": {
         "data": {
          "bar": [
           {
            "error_x": {
             "color": "#2a3f5f"
            },
            "error_y": {
             "color": "#2a3f5f"
            },
            "marker": {
             "line": {
              "color": "#E5ECF6",
              "width": 0.5
             },
             "pattern": {
              "fillmode": "overlay",
              "size": 10,
              "solidity": 0.2
             }
            },
            "type": "bar"
           }
          ],
          "barpolar": [
           {
            "marker": {
             "line": {
              "color": "#E5ECF6",
              "width": 0.5
             },
             "pattern": {
              "fillmode": "overlay",
              "size": 10,
              "solidity": 0.2
             }
            },
            "type": "barpolar"
           }
          ],
          "carpet": [
           {
            "aaxis": {
             "endlinecolor": "#2a3f5f",
             "gridcolor": "white",
             "linecolor": "white",
             "minorgridcolor": "white",
             "startlinecolor": "#2a3f5f"
            },
            "baxis": {
             "endlinecolor": "#2a3f5f",
             "gridcolor": "white",
             "linecolor": "white",
             "minorgridcolor": "white",
             "startlinecolor": "#2a3f5f"
            },
            "type": "carpet"
           }
          ],
          "choropleth": [
           {
            "colorbar": {
             "outlinewidth": 0,
             "ticks": ""
            },
            "type": "choropleth"
           }
          ],
          "contour": [
           {
            "colorbar": {
             "outlinewidth": 0,
             "ticks": ""
            },
            "colorscale": [
             [
              0,
              "#0d0887"
             ],
             [
              0.1111111111111111,
              "#46039f"
             ],
             [
              0.2222222222222222,
              "#7201a8"
             ],
             [
              0.3333333333333333,
              "#9c179e"
             ],
             [
              0.4444444444444444,
              "#bd3786"
             ],
             [
              0.5555555555555556,
              "#d8576b"
             ],
             [
              0.6666666666666666,
              "#ed7953"
             ],
             [
              0.7777777777777778,
              "#fb9f3a"
             ],
             [
              0.8888888888888888,
              "#fdca26"
             ],
             [
              1,
              "#f0f921"
             ]
            ],
            "type": "contour"
           }
          ],
          "contourcarpet": [
           {
            "colorbar": {
             "outlinewidth": 0,
             "ticks": ""
            },
            "type": "contourcarpet"
           }
          ],
          "heatmap": [
           {
            "colorbar": {
             "outlinewidth": 0,
             "ticks": ""
            },
            "colorscale": [
             [
              0,
              "#0d0887"
             ],
             [
              0.1111111111111111,
              "#46039f"
             ],
             [
              0.2222222222222222,
              "#7201a8"
             ],
             [
              0.3333333333333333,
              "#9c179e"
             ],
             [
              0.4444444444444444,
              "#bd3786"
             ],
             [
              0.5555555555555556,
              "#d8576b"
             ],
             [
              0.6666666666666666,
              "#ed7953"
             ],
             [
              0.7777777777777778,
              "#fb9f3a"
             ],
             [
              0.8888888888888888,
              "#fdca26"
             ],
             [
              1,
              "#f0f921"
             ]
            ],
            "type": "heatmap"
           }
          ],
          "histogram": [
           {
            "marker": {
             "pattern": {
              "fillmode": "overlay",
              "size": 10,
              "solidity": 0.2
             }
            },
            "type": "histogram"
           }
          ],
          "histogram2d": [
           {
            "colorbar": {
             "outlinewidth": 0,
             "ticks": ""
            },
            "colorscale": [
             [
              0,
              "#0d0887"
             ],
             [
              0.1111111111111111,
              "#46039f"
             ],
             [
              0.2222222222222222,
              "#7201a8"
             ],
             [
              0.3333333333333333,
              "#9c179e"
             ],
             [
              0.4444444444444444,
              "#bd3786"
             ],
             [
              0.5555555555555556,
              "#d8576b"
             ],
             [
              0.6666666666666666,
              "#ed7953"
             ],
             [
              0.7777777777777778,
              "#fb9f3a"
             ],
             [
              0.8888888888888888,
              "#fdca26"
             ],
             [
              1,
              "#f0f921"
             ]
            ],
            "type": "histogram2d"
           }
          ],
          "histogram2dcontour": [
           {
            "colorbar": {
             "outlinewidth": 0,
             "ticks": ""
            },
            "colorscale": [
             [
              0,
              "#0d0887"
             ],
             [
              0.1111111111111111,
              "#46039f"
             ],
             [
              0.2222222222222222,
              "#7201a8"
             ],
             [
              0.3333333333333333,
              "#9c179e"
             ],
             [
              0.4444444444444444,
              "#bd3786"
             ],
             [
              0.5555555555555556,
              "#d8576b"
             ],
             [
              0.6666666666666666,
              "#ed7953"
             ],
             [
              0.7777777777777778,
              "#fb9f3a"
             ],
             [
              0.8888888888888888,
              "#fdca26"
             ],
             [
              1,
              "#f0f921"
             ]
            ],
            "type": "histogram2dcontour"
           }
          ],
          "mesh3d": [
           {
            "colorbar": {
             "outlinewidth": 0,
             "ticks": ""
            },
            "type": "mesh3d"
           }
          ],
          "parcoords": [
           {
            "line": {
             "colorbar": {
              "outlinewidth": 0,
              "ticks": ""
             }
            },
            "type": "parcoords"
           }
          ],
          "pie": [
           {
            "automargin": true,
            "type": "pie"
           }
          ],
          "scatter": [
           {
            "fillpattern": {
             "fillmode": "overlay",
             "size": 10,
             "solidity": 0.2
            },
            "type": "scatter"
           }
          ],
          "scatter3d": [
           {
            "line": {
             "colorbar": {
              "outlinewidth": 0,
              "ticks": ""
             }
            },
            "marker": {
             "colorbar": {
              "outlinewidth": 0,
              "ticks": ""
             }
            },
            "type": "scatter3d"
           }
          ],
          "scattercarpet": [
           {
            "marker": {
             "colorbar": {
              "outlinewidth": 0,
              "ticks": ""
             }
            },
            "type": "scattercarpet"
           }
          ],
          "scattergeo": [
           {
            "marker": {
             "colorbar": {
              "outlinewidth": 0,
              "ticks": ""
             }
            },
            "type": "scattergeo"
           }
          ],
          "scattergl": [
           {
            "marker": {
             "colorbar": {
              "outlinewidth": 0,
              "ticks": ""
             }
            },
            "type": "scattergl"
           }
          ],
          "scattermap": [
           {
            "marker": {
             "colorbar": {
              "outlinewidth": 0,
              "ticks": ""
             }
            },
            "type": "scattermap"
           }
          ],
          "scattermapbox": [
           {
            "marker": {
             "colorbar": {
              "outlinewidth": 0,
              "ticks": ""
             }
            },
            "type": "scattermapbox"
           }
          ],
          "scatterpolar": [
           {
            "marker": {
             "colorbar": {
              "outlinewidth": 0,
              "ticks": ""
             }
            },
            "type": "scatterpolar"
           }
          ],
          "scatterpolargl": [
           {
            "marker": {
             "colorbar": {
              "outlinewidth": 0,
              "ticks": ""
             }
            },
            "type": "scatterpolargl"
           }
          ],
          "scatterternary": [
           {
            "marker": {
             "colorbar": {
              "outlinewidth": 0,
              "ticks": ""
             }
            },
            "type": "scatterternary"
           }
          ],
          "surface": [
           {
            "colorbar": {
             "outlinewidth": 0,
             "ticks": ""
            },
            "colorscale": [
             [
              0,
              "#0d0887"
             ],
             [
              0.1111111111111111,
              "#46039f"
             ],
             [
              0.2222222222222222,
              "#7201a8"
             ],
             [
              0.3333333333333333,
              "#9c179e"
             ],
             [
              0.4444444444444444,
              "#bd3786"
             ],
             [
              0.5555555555555556,
              "#d8576b"
             ],
             [
              0.6666666666666666,
              "#ed7953"
             ],
             [
              0.7777777777777778,
              "#fb9f3a"
             ],
             [
              0.8888888888888888,
              "#fdca26"
             ],
             [
              1,
              "#f0f921"
             ]
            ],
            "type": "surface"
           }
          ],
          "table": [
           {
            "cells": {
             "fill": {
              "color": "#EBF0F8"
             },
             "line": {
              "color": "white"
             }
            },
            "header": {
             "fill": {
              "color": "#C8D4E3"
             },
             "line": {
              "color": "white"
             }
            },
            "type": "table"
           }
          ]
         },
         "layout": {
          "annotationdefaults": {
           "arrowcolor": "#2a3f5f",
           "arrowhead": 0,
           "arrowwidth": 1
          },
          "autotypenumbers": "strict",
          "coloraxis": {
           "colorbar": {
            "outlinewidth": 0,
            "ticks": ""
           }
          },
          "colorscale": {
           "diverging": [
            [
             0,
             "#8e0152"
            ],
            [
             0.1,
             "#c51b7d"
            ],
            [
             0.2,
             "#de77ae"
            ],
            [
             0.3,
             "#f1b6da"
            ],
            [
             0.4,
             "#fde0ef"
            ],
            [
             0.5,
             "#f7f7f7"
            ],
            [
             0.6,
             "#e6f5d0"
            ],
            [
             0.7,
             "#b8e186"
            ],
            [
             0.8,
             "#7fbc41"
            ],
            [
             0.9,
             "#4d9221"
            ],
            [
             1,
             "#276419"
            ]
           ],
           "sequential": [
            [
             0,
             "#0d0887"
            ],
            [
             0.1111111111111111,
             "#46039f"
            ],
            [
             0.2222222222222222,
             "#7201a8"
            ],
            [
             0.3333333333333333,
             "#9c179e"
            ],
            [
             0.4444444444444444,
             "#bd3786"
            ],
            [
             0.5555555555555556,
             "#d8576b"
            ],
            [
             0.6666666666666666,
             "#ed7953"
            ],
            [
             0.7777777777777778,
             "#fb9f3a"
            ],
            [
             0.8888888888888888,
             "#fdca26"
            ],
            [
             1,
             "#f0f921"
            ]
           ],
           "sequentialminus": [
            [
             0,
             "#0d0887"
            ],
            [
             0.1111111111111111,
             "#46039f"
            ],
            [
             0.2222222222222222,
             "#7201a8"
            ],
            [
             0.3333333333333333,
             "#9c179e"
            ],
            [
             0.4444444444444444,
             "#bd3786"
            ],
            [
             0.5555555555555556,
             "#d8576b"
            ],
            [
             0.6666666666666666,
             "#ed7953"
            ],
            [
             0.7777777777777778,
             "#fb9f3a"
            ],
            [
             0.8888888888888888,
             "#fdca26"
            ],
            [
             1,
             "#f0f921"
            ]
           ]
          },
          "colorway": [
           "#636efa",
           "#EF553B",
           "#00cc96",
           "#ab63fa",
           "#FFA15A",
           "#19d3f3",
           "#FF6692",
           "#B6E880",
           "#FF97FF",
           "#FECB52"
          ],
          "font": {
           "color": "#2a3f5f"
          },
          "geo": {
           "bgcolor": "white",
           "lakecolor": "white",
           "landcolor": "#E5ECF6",
           "showlakes": true,
           "showland": true,
           "subunitcolor": "white"
          },
          "hoverlabel": {
           "align": "left"
          },
          "hovermode": "closest",
          "mapbox": {
           "style": "light"
          },
          "paper_bgcolor": "white",
          "plot_bgcolor": "#E5ECF6",
          "polar": {
           "angularaxis": {
            "gridcolor": "white",
            "linecolor": "white",
            "ticks": ""
           },
           "bgcolor": "#E5ECF6",
           "radialaxis": {
            "gridcolor": "white",
            "linecolor": "white",
            "ticks": ""
           }
          },
          "scene": {
           "xaxis": {
            "backgroundcolor": "#E5ECF6",
            "gridcolor": "white",
            "gridwidth": 2,
            "linecolor": "white",
            "showbackground": true,
            "ticks": "",
            "zerolinecolor": "white"
           },
           "yaxis": {
            "backgroundcolor": "#E5ECF6",
            "gridcolor": "white",
            "gridwidth": 2,
            "linecolor": "white",
            "showbackground": true,
            "ticks": "",
            "zerolinecolor": "white"
           },
           "zaxis": {
            "backgroundcolor": "#E5ECF6",
            "gridcolor": "white",
            "gridwidth": 2,
            "linecolor": "white",
            "showbackground": true,
            "ticks": "",
            "zerolinecolor": "white"
           }
          },
          "shapedefaults": {
           "line": {
            "color": "#2a3f5f"
           }
          },
          "ternary": {
           "aaxis": {
            "gridcolor": "white",
            "linecolor": "white",
            "ticks": ""
           },
           "baxis": {
            "gridcolor": "white",
            "linecolor": "white",
            "ticks": ""
           },
           "bgcolor": "#E5ECF6",
           "caxis": {
            "gridcolor": "white",
            "linecolor": "white",
            "ticks": ""
           }
          },
          "title": {
           "x": 0.05
          },
          "xaxis": {
           "automargin": true,
           "gridcolor": "white",
           "linecolor": "white",
           "ticks": "",
           "title": {
            "standoff": 15
           },
           "zerolinecolor": "white",
           "zerolinewidth": 2
          },
          "yaxis": {
           "automargin": true,
           "gridcolor": "white",
           "linecolor": "white",
           "ticks": "",
           "title": {
            "standoff": 15
           },
           "zerolinecolor": "white",
           "zerolinewidth": 2
          }
         }
        },
        "title": {
         "text": "Total Purchase Amount by Age Group"
        },
        "xaxis": {
         "anchor": "y",
         "domain": [
          0,
          1
         ],
         "title": {
          "text": "Age"
         }
        },
        "yaxis": {
         "anchor": "x",
         "domain": [
          0,
          1
         ],
         "title": {
          "text": " Total Purchase Amonut"
         }
        }
       }
      }
     },
     "metadata": {},
     "output_type": "display_data"
    }
   ],
   "source": [
    "# Total Purchase Amount by Age Group\n",
    "df1= df.groupby('Age')['Purchase_Amount'].sum().reset_index()\n",
    "px.area(df1, x='Age', y= 'Purchase_Amount',\n",
    "        labels={'Purchase_Amount': ' Total Purchase Amonut'},\n",
    "         title='Total Purchase Amount by Age Group', color_discrete_sequence=['green'])"
   ]
  },
  {
   "cell_type": "code",
   "execution_count": null,
   "metadata": {},
   "outputs": [
    {
     "data": {
      "application/vnd.plotly.v1+json": {
       "config": {
        "plotlyServerURL": "https://plot.ly"
       },
       "data": [
        {
         "branchvalues": "total",
         "customdata": [
          [
           "Animal Feed"
          ],
          [
           "Animal Feed"
          ],
          [
           "Animal Feed"
          ],
          [
           "Animal Feed"
          ],
          [
           "Animal Feed"
          ],
          [
           "Animal Feed"
          ],
          [
           "Arts & Crafts"
          ],
          [
           "Arts & Crafts"
          ],
          [
           "Arts & Crafts"
          ],
          [
           "Arts & Crafts"
          ],
          [
           "Arts & Crafts"
          ],
          [
           "Arts & Crafts"
          ],
          [
           "Baby Products"
          ],
          [
           "Baby Products"
          ],
          [
           "Baby Products"
          ],
          [
           "Baby Products"
          ],
          [
           "Baby Products"
          ],
          [
           "Baby Products"
          ],
          [
           "Beauty & Personal Care"
          ],
          [
           "Beauty & Personal Care"
          ],
          [
           "Beauty & Personal Care"
          ],
          [
           "Beauty & Personal Care"
          ],
          [
           "Beauty & Personal Care"
          ],
          [
           "Beauty & Personal Care"
          ],
          [
           "Books"
          ],
          [
           "Books"
          ],
          [
           "Books"
          ],
          [
           "Books"
          ],
          [
           "Books"
          ],
          [
           "Books"
          ],
          [
           "Clothing"
          ],
          [
           "Clothing"
          ],
          [
           "Clothing"
          ],
          [
           "Clothing"
          ],
          [
           "Clothing"
          ],
          [
           "Clothing"
          ],
          [
           "Electronics"
          ],
          [
           "Electronics"
          ],
          [
           "Electronics"
          ],
          [
           "Electronics"
          ],
          [
           "Electronics"
          ],
          [
           "Electronics"
          ],
          [
           "Food & Beverages"
          ],
          [
           "Food & Beverages"
          ],
          [
           "Food & Beverages"
          ],
          [
           "Food & Beverages"
          ],
          [
           "Food & Beverages"
          ],
          [
           "Food & Beverages"
          ],
          [
           "Furniture"
          ],
          [
           "Furniture"
          ],
          [
           "Furniture"
          ],
          [
           "Furniture"
          ],
          [
           "Furniture"
          ],
          [
           "Furniture"
          ],
          [
           "Gardening & Outdoors"
          ],
          [
           "Gardening & Outdoors"
          ],
          [
           "Gardening & Outdoors"
          ],
          [
           "Gardening & Outdoors"
          ],
          [
           "Gardening & Outdoors"
          ],
          [
           "Gardening & Outdoors"
          ],
          [
           "Groceries"
          ],
          [
           "Groceries"
          ],
          [
           "Groceries"
          ],
          [
           "Groceries"
          ],
          [
           "Groceries"
          ],
          [
           "Groceries"
          ],
          [
           "Health Care"
          ],
          [
           "Health Care"
          ],
          [
           "Health Care"
          ],
          [
           "Health Care"
          ],
          [
           "Health Care"
          ],
          [
           "Health Care"
          ],
          [
           "Health Supplements"
          ],
          [
           "Health Supplements"
          ],
          [
           "Health Supplements"
          ],
          [
           "Health Supplements"
          ],
          [
           "Health Supplements"
          ],
          [
           "Health Supplements"
          ],
          [
           "Home Appliances"
          ],
          [
           "Home Appliances"
          ],
          [
           "Home Appliances"
          ],
          [
           "Home Appliances"
          ],
          [
           "Home Appliances"
          ],
          [
           "Home Appliances"
          ],
          [
           "Hotels"
          ],
          [
           "Hotels"
          ],
          [
           "Hotels"
          ],
          [
           "Hotels"
          ],
          [
           "Hotels"
          ],
          [
           "Hotels"
          ],
          [
           "Jewelry & Accessories"
          ],
          [
           "Jewelry & Accessories"
          ],
          [
           "Jewelry & Accessories"
          ],
          [
           "Jewelry & Accessories"
          ],
          [
           "Jewelry & Accessories"
          ],
          [
           "Jewelry & Accessories"
          ],
          [
           "Luxury Goods"
          ],
          [
           "Luxury Goods"
          ],
          [
           "Luxury Goods"
          ],
          [
           "Luxury Goods"
          ],
          [
           "Luxury Goods"
          ],
          [
           "Luxury Goods"
          ],
          [
           "Mobile Accessories"
          ],
          [
           "Mobile Accessories"
          ],
          [
           "Mobile Accessories"
          ],
          [
           "Mobile Accessories"
          ],
          [
           "Mobile Accessories"
          ],
          [
           "Mobile Accessories"
          ],
          [
           "Office Supplies"
          ],
          [
           "Office Supplies"
          ],
          [
           "Office Supplies"
          ],
          [
           "Office Supplies"
          ],
          [
           "Office Supplies"
          ],
          [
           "Office Supplies"
          ],
          [
           "Packages"
          ],
          [
           "Packages"
          ],
          [
           "Packages"
          ],
          [
           "Packages"
          ],
          [
           "Packages"
          ],
          [
           "Packages"
          ],
          [
           "Software & Apps"
          ],
          [
           "Software & Apps"
          ],
          [
           "Software & Apps"
          ],
          [
           "Software & Apps"
          ],
          [
           "Software & Apps"
          ],
          [
           "Software & Apps"
          ],
          [
           "Sports & Outdoors"
          ],
          [
           "Sports & Outdoors"
          ],
          [
           "Sports & Outdoors"
          ],
          [
           "Sports & Outdoors"
          ],
          [
           "Sports & Outdoors"
          ],
          [
           "Sports & Outdoors"
          ],
          [
           "Toys & Games"
          ],
          [
           "Toys & Games"
          ],
          [
           "Toys & Games"
          ],
          [
           "Toys & Games"
          ],
          [
           "Toys & Games"
          ],
          [
           "Toys & Games"
          ],
          [
           "Travel & Leisure (Flights)"
          ],
          [
           "Travel & Leisure (Flights)"
          ],
          [
           "Travel & Leisure (Flights)"
          ],
          [
           "Travel & Leisure (Flights)"
          ],
          [
           "Travel & Leisure (Flights)"
          ],
          [
           "Travel & Leisure (Flights)"
          ]
         ],
         "domain": {
          "x": [
           0,
           1
          ],
          "y": [
           0,
           1
          ]
         },
         "hovertemplate": "labels=%{label}<br>Product_Rating=%{value}<br>parent=%{parent}<br>id=%{id}<br>Purchase_Category=%{customdata[0]}<extra></extra>",
         "ids": [
          "Animal Feed/1",
          "Animal Feed/2",
          "Animal Feed/3",
          "Animal Feed/4",
          "Animal Feed/5",
          "Animal Feed",
          "Arts & Crafts/3",
          "Arts & Crafts/1",
          "Arts & Crafts/2",
          "Arts & Crafts/5",
          "Arts & Crafts/4",
          "Arts & Crafts",
          "Baby Products",
          "Baby Products/4",
          "Baby Products/5",
          "Baby Products/1",
          "Baby Products/3",
          "Baby Products/2",
          "Beauty & Personal Care/2",
          "Beauty & Personal Care/1",
          "Beauty & Personal Care",
          "Beauty & Personal Care/5",
          "Beauty & Personal Care/4",
          "Beauty & Personal Care/3",
          "Books/2",
          "Books/1",
          "Books/5",
          "Books",
          "Books/3",
          "Books/4",
          "Clothing/5",
          "Clothing",
          "Clothing/2",
          "Clothing/4",
          "Clothing/1",
          "Clothing/3",
          "Electronics",
          "Electronics/2",
          "Electronics/1",
          "Electronics/5",
          "Electronics/4",
          "Electronics/3",
          "Food & Beverages/3",
          "Food & Beverages/4",
          "Food & Beverages/5",
          "Food & Beverages",
          "Food & Beverages/1",
          "Food & Beverages/2",
          "Furniture/3",
          "Furniture",
          "Furniture/5",
          "Furniture/4",
          "Furniture/1",
          "Furniture/2",
          "Gardening & Outdoors/4",
          "Gardening & Outdoors/3",
          "Gardening & Outdoors",
          "Gardening & Outdoors/1",
          "Gardening & Outdoors/5",
          "Gardening & Outdoors/2",
          "Groceries/2",
          "Groceries/4",
          "Groceries/5",
          "Groceries/1",
          "Groceries",
          "Groceries/3",
          "Health Care/3",
          "Health Care/4",
          "Health Care/1",
          "Health Care",
          "Health Care/5",
          "Health Care/2",
          "Health Supplements/2",
          "Health Supplements/1",
          "Health Supplements/3",
          "Health Supplements/4",
          "Health Supplements",
          "Health Supplements/5",
          "Home Appliances",
          "Home Appliances/3",
          "Home Appliances/1",
          "Home Appliances/5",
          "Home Appliances/2",
          "Home Appliances/4",
          "Hotels/4",
          "Hotels/1",
          "Hotels/5",
          "Hotels/2",
          "Hotels/3",
          "Hotels",
          "Jewelry & Accessories/1",
          "Jewelry & Accessories/5",
          "Jewelry & Accessories",
          "Jewelry & Accessories/4",
          "Jewelry & Accessories/3",
          "Jewelry & Accessories/2",
          "Luxury Goods/4",
          "Luxury Goods/2",
          "Luxury Goods/3",
          "Luxury Goods/1",
          "Luxury Goods/5",
          "Luxury Goods",
          "Mobile Accessories/2",
          "Mobile Accessories/5",
          "Mobile Accessories",
          "Mobile Accessories/3",
          "Mobile Accessories/1",
          "Mobile Accessories/4",
          "Office Supplies/3",
          "Office Supplies",
          "Office Supplies/5",
          "Office Supplies/4",
          "Office Supplies/2",
          "Office Supplies/1",
          "Packages/4",
          "Packages",
          "Packages/2",
          "Packages/5",
          "Packages/3",
          "Packages/1",
          "Software & Apps",
          "Software & Apps/3",
          "Software & Apps/2",
          "Software & Apps/5",
          "Software & Apps/1",
          "Software & Apps/4",
          "Sports & Outdoors/4",
          "Sports & Outdoors",
          "Sports & Outdoors/2",
          "Sports & Outdoors/3",
          "Sports & Outdoors/5",
          "Sports & Outdoors/1",
          "Toys & Games/3",
          "Toys & Games/1",
          "Toys & Games/4",
          "Toys & Games/5",
          "Toys & Games/2",
          "Toys & Games",
          "Travel & Leisure (Flights)/3",
          "Travel & Leisure (Flights)/2",
          "Travel & Leisure (Flights)/4",
          "Travel & Leisure (Flights)/1",
          "Travel & Leisure (Flights)",
          "Travel & Leisure (Flights)/5"
         ],
         "labels": [
          "1",
          "2",
          "3",
          "4",
          "5",
          "Animal Feed",
          "3",
          "1",
          "2",
          "5",
          "4",
          "Arts & Crafts",
          "Baby Products",
          "4",
          "5",
          "1",
          "3",
          "2",
          "2",
          "1",
          "Beauty & Personal Care",
          "5",
          "4",
          "3",
          "2",
          "1",
          "5",
          "Books",
          "3",
          "4",
          "5",
          "Clothing",
          "2",
          "4",
          "1",
          "3",
          "Electronics",
          "2",
          "1",
          "5",
          "4",
          "3",
          "3",
          "4",
          "5",
          "Food & Beverages",
          "1",
          "2",
          "3",
          "Furniture",
          "5",
          "4",
          "1",
          "2",
          "4",
          "3",
          "Gardening & Outdoors",
          "1",
          "5",
          "2",
          "2",
          "4",
          "5",
          "1",
          "Groceries",
          "3",
          "3",
          "4",
          "1",
          "Health Care",
          "5",
          "2",
          "2",
          "1",
          "3",
          "4",
          "Health Supplements",
          "5",
          "Home Appliances",
          "3",
          "1",
          "5",
          "2",
          "4",
          "4",
          "1",
          "5",
          "2",
          "3",
          "Hotels",
          "1",
          "5",
          "Jewelry & Accessories",
          "4",
          "3",
          "2",
          "4",
          "2",
          "3",
          "1",
          "5",
          "Luxury Goods",
          "2",
          "5",
          "Mobile Accessories",
          "3",
          "1",
          "4",
          "3",
          "Office Supplies",
          "5",
          "4",
          "2",
          "1",
          "4",
          "Packages",
          "2",
          "5",
          "3",
          "1",
          "Software & Apps",
          "3",
          "2",
          "5",
          "1",
          "4",
          "4",
          "Sports & Outdoors",
          "2",
          "3",
          "5",
          "1",
          "3",
          "1",
          "4",
          "5",
          "2",
          "Toys & Games",
          "3",
          "2",
          "4",
          "1",
          "Travel & Leisure (Flights)",
          "5"
         ],
         "marker": {
          "colors": [
           "#636efa",
           "#636efa",
           "#636efa",
           "#636efa",
           "#636efa",
           "#636efa",
           "#EF553B",
           "#EF553B",
           "#EF553B",
           "#EF553B",
           "#EF553B",
           "#EF553B",
           "#00cc96",
           "#00cc96",
           "#00cc96",
           "#00cc96",
           "#00cc96",
           "#00cc96",
           "#ab63fa",
           "#ab63fa",
           "#ab63fa",
           "#ab63fa",
           "#ab63fa",
           "#ab63fa",
           "#FFA15A",
           "#FFA15A",
           "#FFA15A",
           "#FFA15A",
           "#FFA15A",
           "#FFA15A",
           "#19d3f3",
           "#19d3f3",
           "#19d3f3",
           "#19d3f3",
           "#19d3f3",
           "#19d3f3",
           "#FF6692",
           "#FF6692",
           "#FF6692",
           "#FF6692",
           "#FF6692",
           "#FF6692",
           "#B6E880",
           "#B6E880",
           "#B6E880",
           "#B6E880",
           "#B6E880",
           "#B6E880",
           "#FF97FF",
           "#FF97FF",
           "#FF97FF",
           "#FF97FF",
           "#FF97FF",
           "#FF97FF",
           "#FECB52",
           "#FECB52",
           "#FECB52",
           "#FECB52",
           "#FECB52",
           "#FECB52",
           "#636efa",
           "#636efa",
           "#636efa",
           "#636efa",
           "#636efa",
           "#636efa",
           "#EF553B",
           "#EF553B",
           "#EF553B",
           "#EF553B",
           "#EF553B",
           "#EF553B",
           "#00cc96",
           "#00cc96",
           "#00cc96",
           "#00cc96",
           "#00cc96",
           "#00cc96",
           "#ab63fa",
           "#ab63fa",
           "#ab63fa",
           "#ab63fa",
           "#ab63fa",
           "#ab63fa",
           "#FFA15A",
           "#FFA15A",
           "#FFA15A",
           "#FFA15A",
           "#FFA15A",
           "#FFA15A",
           "#19d3f3",
           "#19d3f3",
           "#19d3f3",
           "#19d3f3",
           "#19d3f3",
           "#19d3f3",
           "#FF6692",
           "#FF6692",
           "#FF6692",
           "#FF6692",
           "#FF6692",
           "#FF6692",
           "#B6E880",
           "#B6E880",
           "#B6E880",
           "#B6E880",
           "#B6E880",
           "#B6E880",
           "#FF97FF",
           "#FF97FF",
           "#FF97FF",
           "#FF97FF",
           "#FF97FF",
           "#FF97FF",
           "#FECB52",
           "#FECB52",
           "#FECB52",
           "#FECB52",
           "#FECB52",
           "#FECB52",
           "#636efa",
           "#636efa",
           "#636efa",
           "#636efa",
           "#636efa",
           "#636efa",
           "#EF553B",
           "#EF553B",
           "#EF553B",
           "#EF553B",
           "#EF553B",
           "#EF553B",
           "#00cc96",
           "#00cc96",
           "#00cc96",
           "#00cc96",
           "#00cc96",
           "#00cc96",
           "#ab63fa",
           "#ab63fa",
           "#ab63fa",
           "#ab63fa",
           "#ab63fa",
           "#ab63fa"
          ]
         },
         "name": "",
         "parents": [
          "Animal Feed",
          "Animal Feed",
          "Animal Feed",
          "Animal Feed",
          "Animal Feed",
          "",
          "Arts & Crafts",
          "Arts & Crafts",
          "Arts & Crafts",
          "Arts & Crafts",
          "Arts & Crafts",
          "",
          "",
          "Baby Products",
          "Baby Products",
          "Baby Products",
          "Baby Products",
          "Baby Products",
          "Beauty & Personal Care",
          "Beauty & Personal Care",
          "",
          "Beauty & Personal Care",
          "Beauty & Personal Care",
          "Beauty & Personal Care",
          "Books",
          "Books",
          "Books",
          "",
          "Books",
          "Books",
          "Clothing",
          "",
          "Clothing",
          "Clothing",
          "Clothing",
          "Clothing",
          "",
          "Electronics",
          "Electronics",
          "Electronics",
          "Electronics",
          "Electronics",
          "Food & Beverages",
          "Food & Beverages",
          "Food & Beverages",
          "",
          "Food & Beverages",
          "Food & Beverages",
          "Furniture",
          "",
          "Furniture",
          "Furniture",
          "Furniture",
          "Furniture",
          "Gardening & Outdoors",
          "Gardening & Outdoors",
          "",
          "Gardening & Outdoors",
          "Gardening & Outdoors",
          "Gardening & Outdoors",
          "Groceries",
          "Groceries",
          "Groceries",
          "Groceries",
          "",
          "Groceries",
          "Health Care",
          "Health Care",
          "Health Care",
          "",
          "Health Care",
          "Health Care",
          "Health Supplements",
          "Health Supplements",
          "Health Supplements",
          "Health Supplements",
          "",
          "Health Supplements",
          "",
          "Home Appliances",
          "Home Appliances",
          "Home Appliances",
          "Home Appliances",
          "Home Appliances",
          "Hotels",
          "Hotels",
          "Hotels",
          "Hotels",
          "Hotels",
          "",
          "Jewelry & Accessories",
          "Jewelry & Accessories",
          "",
          "Jewelry & Accessories",
          "Jewelry & Accessories",
          "Jewelry & Accessories",
          "Luxury Goods",
          "Luxury Goods",
          "Luxury Goods",
          "Luxury Goods",
          "Luxury Goods",
          "",
          "Mobile Accessories",
          "Mobile Accessories",
          "",
          "Mobile Accessories",
          "Mobile Accessories",
          "Mobile Accessories",
          "Office Supplies",
          "",
          "Office Supplies",
          "Office Supplies",
          "Office Supplies",
          "Office Supplies",
          "Packages",
          "",
          "Packages",
          "Packages",
          "Packages",
          "Packages",
          "",
          "Software & Apps",
          "Software & Apps",
          "Software & Apps",
          "Software & Apps",
          "Software & Apps",
          "Sports & Outdoors",
          "",
          "Sports & Outdoors",
          "Sports & Outdoors",
          "Sports & Outdoors",
          "Sports & Outdoors",
          "Toys & Games",
          "Toys & Games",
          "Toys & Games",
          "Toys & Games",
          "Toys & Games",
          "",
          "Travel & Leisure (Flights)",
          "Travel & Leisure (Flights)",
          "Travel & Leisure (Flights)",
          "Travel & Leisure (Flights)",
          "",
          "Travel & Leisure (Flights)"
         ],
         "type": "sunburst",
         "values": {
          "bdata": "AAAAAAAAIkAAAAAAAAAyQAAAAAAAADhAAAAAAAAAQkAAAAAAAIBGQAAAAAAAgGBAAAAAAAAALkAAAAAAAAAiQAAAAAAAADRAAAAAAAAAOUAAAAAAAAA0QAAAAAAAQFZAAAAAAADAYUAAAAAAAABCQAAAAAAAwFJAAAAAAAAAHEAAAAAAAAAoQAAAAAAAAChAAAAAAAAALEAAAAAAAAAQQAAAAAAAwFtAAAAAAACARkAAAAAAAAA4QAAAAAAAADhAAAAAAAAAEEAAAAAAAAAsQAAAAAAAAERAAAAAAABAWkAAAAAAAAAuQAAAAAAAAEBAAAAAAACAQUAAAAAAAEBWQAAAAAAAADJAAAAAAAAAMEAAAAAAAAAUQAAAAAAAAC5AAAAAAACAY0AAAAAAAAA2QAAAAAAAACpAAAAAAACARkAAAAAAAABKQAAAAAAAADhAAAAAAAAAPkAAAAAAAAAoQAAAAAAAgEZAAAAAAADAXUAAAAAAAAAoQAAAAAAAADRAAAAAAAAANUAAAAAAAEBeQAAAAAAAgEFAAAAAAAAAREAAAAAAAAAiQAAAAAAAADBAAAAAAAAANEAAAAAAAAA1QAAAAAAAQFxAAAAAAAAAKkAAAAAAAIBBQAAAAAAAADhAAAAAAAAAMEAAAAAAAAA0QAAAAAAAgEFAAAAAAAAAKkAAAAAAAABbQAAAAAAAADhAAAAAAAAANUAAAAAAAABOQAAAAAAAABxAAAAAAADAX0AAAAAAAAA5QAAAAAAAACxAAAAAAAAAMEAAAAAAAAAiQAAAAAAAAChAAAAAAAAARkAAAAAAAIBfQAAAAAAAgEZAAAAAAABgYkAAAAAAAAA7QAAAAAAAACJAAAAAAACAQUAAAAAAAAA4QAAAAAAAAEpAAAAAAAAAQkAAAAAAAAAQQAAAAAAAgEZAAAAAAAAAMkAAAAAAAAAuQAAAAAAAgF1AAAAAAAAAMEAAAAAAAABEQAAAAAAAQGFAAAAAAAAAQkAAAAAAAABCQAAAAAAAACRAAAAAAAAAKEAAAAAAAAAyQAAAAAAAADhAAAAAAAAAEEAAAAAAAEBQQAAAAAAAwF5AAAAAAAAAJEAAAAAAAABEQAAAAAAAAGFAAAAAAAAALkAAAAAAAAAcQAAAAAAAAFBAAAAAAAAANUAAAAAAAABeQAAAAAAAAElAAAAAAAAAQEAAAAAAAAAgQAAAAAAAACJAAAAAAAAAREAAAAAAAGBgQAAAAAAAADBAAAAAAAAAPkAAAAAAAIBDQAAAAAAAABhAAAAAAAAAYUAAAAAAAAA4QAAAAAAAADJAAAAAAAAAREAAAAAAAAAYQAAAAAAAAEhAAAAAAAAAOEAAAAAAAGBiQAAAAAAAADhAAAAAAACARkAAAAAAAIBGQAAAAAAAACJAAAAAAACAQEAAAAAAAAAYQAAAAAAAAEZAAAAAAACAUUAAAAAAAAAkQAAAAAAAYGRAAAAAAAAAMkAAAAAAAAAgQAAAAAAAAERAAAAAAAAAFEAAAAAAAABhQAAAAAAAQFBA",
          "dtype": "f8"
         }
        }
       ],
       "layout": {
        "height": 700,
        "legend": {
         "tracegroupgap": 0
        },
        "template": {
         "data": {
          "bar": [
           {
            "error_x": {
             "color": "#2a3f5f"
            },
            "error_y": {
             "color": "#2a3f5f"
            },
            "marker": {
             "line": {
              "color": "#E5ECF6",
              "width": 0.5
             },
             "pattern": {
              "fillmode": "overlay",
              "size": 10,
              "solidity": 0.2
             }
            },
            "type": "bar"
           }
          ],
          "barpolar": [
           {
            "marker": {
             "line": {
              "color": "#E5ECF6",
              "width": 0.5
             },
             "pattern": {
              "fillmode": "overlay",
              "size": 10,
              "solidity": 0.2
             }
            },
            "type": "barpolar"
           }
          ],
          "carpet": [
           {
            "aaxis": {
             "endlinecolor": "#2a3f5f",
             "gridcolor": "white",
             "linecolor": "white",
             "minorgridcolor": "white",
             "startlinecolor": "#2a3f5f"
            },
            "baxis": {
             "endlinecolor": "#2a3f5f",
             "gridcolor": "white",
             "linecolor": "white",
             "minorgridcolor": "white",
             "startlinecolor": "#2a3f5f"
            },
            "type": "carpet"
           }
          ],
          "choropleth": [
           {
            "colorbar": {
             "outlinewidth": 0,
             "ticks": ""
            },
            "type": "choropleth"
           }
          ],
          "contour": [
           {
            "colorbar": {
             "outlinewidth": 0,
             "ticks": ""
            },
            "colorscale": [
             [
              0,
              "#0d0887"
             ],
             [
              0.1111111111111111,
              "#46039f"
             ],
             [
              0.2222222222222222,
              "#7201a8"
             ],
             [
              0.3333333333333333,
              "#9c179e"
             ],
             [
              0.4444444444444444,
              "#bd3786"
             ],
             [
              0.5555555555555556,
              "#d8576b"
             ],
             [
              0.6666666666666666,
              "#ed7953"
             ],
             [
              0.7777777777777778,
              "#fb9f3a"
             ],
             [
              0.8888888888888888,
              "#fdca26"
             ],
             [
              1,
              "#f0f921"
             ]
            ],
            "type": "contour"
           }
          ],
          "contourcarpet": [
           {
            "colorbar": {
             "outlinewidth": 0,
             "ticks": ""
            },
            "type": "contourcarpet"
           }
          ],
          "heatmap": [
           {
            "colorbar": {
             "outlinewidth": 0,
             "ticks": ""
            },
            "colorscale": [
             [
              0,
              "#0d0887"
             ],
             [
              0.1111111111111111,
              "#46039f"
             ],
             [
              0.2222222222222222,
              "#7201a8"
             ],
             [
              0.3333333333333333,
              "#9c179e"
             ],
             [
              0.4444444444444444,
              "#bd3786"
             ],
             [
              0.5555555555555556,
              "#d8576b"
             ],
             [
              0.6666666666666666,
              "#ed7953"
             ],
             [
              0.7777777777777778,
              "#fb9f3a"
             ],
             [
              0.8888888888888888,
              "#fdca26"
             ],
             [
              1,
              "#f0f921"
             ]
            ],
            "type": "heatmap"
           }
          ],
          "histogram": [
           {
            "marker": {
             "pattern": {
              "fillmode": "overlay",
              "size": 10,
              "solidity": 0.2
             }
            },
            "type": "histogram"
           }
          ],
          "histogram2d": [
           {
            "colorbar": {
             "outlinewidth": 0,
             "ticks": ""
            },
            "colorscale": [
             [
              0,
              "#0d0887"
             ],
             [
              0.1111111111111111,
              "#46039f"
             ],
             [
              0.2222222222222222,
              "#7201a8"
             ],
             [
              0.3333333333333333,
              "#9c179e"
             ],
             [
              0.4444444444444444,
              "#bd3786"
             ],
             [
              0.5555555555555556,
              "#d8576b"
             ],
             [
              0.6666666666666666,
              "#ed7953"
             ],
             [
              0.7777777777777778,
              "#fb9f3a"
             ],
             [
              0.8888888888888888,
              "#fdca26"
             ],
             [
              1,
              "#f0f921"
             ]
            ],
            "type": "histogram2d"
           }
          ],
          "histogram2dcontour": [
           {
            "colorbar": {
             "outlinewidth": 0,
             "ticks": ""
            },
            "colorscale": [
             [
              0,
              "#0d0887"
             ],
             [
              0.1111111111111111,
              "#46039f"
             ],
             [
              0.2222222222222222,
              "#7201a8"
             ],
             [
              0.3333333333333333,
              "#9c179e"
             ],
             [
              0.4444444444444444,
              "#bd3786"
             ],
             [
              0.5555555555555556,
              "#d8576b"
             ],
             [
              0.6666666666666666,
              "#ed7953"
             ],
             [
              0.7777777777777778,
              "#fb9f3a"
             ],
             [
              0.8888888888888888,
              "#fdca26"
             ],
             [
              1,
              "#f0f921"
             ]
            ],
            "type": "histogram2dcontour"
           }
          ],
          "mesh3d": [
           {
            "colorbar": {
             "outlinewidth": 0,
             "ticks": ""
            },
            "type": "mesh3d"
           }
          ],
          "parcoords": [
           {
            "line": {
             "colorbar": {
              "outlinewidth": 0,
              "ticks": ""
             }
            },
            "type": "parcoords"
           }
          ],
          "pie": [
           {
            "automargin": true,
            "type": "pie"
           }
          ],
          "scatter": [
           {
            "fillpattern": {
             "fillmode": "overlay",
             "size": 10,
             "solidity": 0.2
            },
            "type": "scatter"
           }
          ],
          "scatter3d": [
           {
            "line": {
             "colorbar": {
              "outlinewidth": 0,
              "ticks": ""
             }
            },
            "marker": {
             "colorbar": {
              "outlinewidth": 0,
              "ticks": ""
             }
            },
            "type": "scatter3d"
           }
          ],
          "scattercarpet": [
           {
            "marker": {
             "colorbar": {
              "outlinewidth": 0,
              "ticks": ""
             }
            },
            "type": "scattercarpet"
           }
          ],
          "scattergeo": [
           {
            "marker": {
             "colorbar": {
              "outlinewidth": 0,
              "ticks": ""
             }
            },
            "type": "scattergeo"
           }
          ],
          "scattergl": [
           {
            "marker": {
             "colorbar": {
              "outlinewidth": 0,
              "ticks": ""
             }
            },
            "type": "scattergl"
           }
          ],
          "scattermap": [
           {
            "marker": {
             "colorbar": {
              "outlinewidth": 0,
              "ticks": ""
             }
            },
            "type": "scattermap"
           }
          ],
          "scattermapbox": [
           {
            "marker": {
             "colorbar": {
              "outlinewidth": 0,
              "ticks": ""
             }
            },
            "type": "scattermapbox"
           }
          ],
          "scatterpolar": [
           {
            "marker": {
             "colorbar": {
              "outlinewidth": 0,
              "ticks": ""
             }
            },
            "type": "scatterpolar"
           }
          ],
          "scatterpolargl": [
           {
            "marker": {
             "colorbar": {
              "outlinewidth": 0,
              "ticks": ""
             }
            },
            "type": "scatterpolargl"
           }
          ],
          "scatterternary": [
           {
            "marker": {
             "colorbar": {
              "outlinewidth": 0,
              "ticks": ""
             }
            },
            "type": "scatterternary"
           }
          ],
          "surface": [
           {
            "colorbar": {
             "outlinewidth": 0,
             "ticks": ""
            },
            "colorscale": [
             [
              0,
              "#0d0887"
             ],
             [
              0.1111111111111111,
              "#46039f"
             ],
             [
              0.2222222222222222,
              "#7201a8"
             ],
             [
              0.3333333333333333,
              "#9c179e"
             ],
             [
              0.4444444444444444,
              "#bd3786"
             ],
             [
              0.5555555555555556,
              "#d8576b"
             ],
             [
              0.6666666666666666,
              "#ed7953"
             ],
             [
              0.7777777777777778,
              "#fb9f3a"
             ],
             [
              0.8888888888888888,
              "#fdca26"
             ],
             [
              1,
              "#f0f921"
             ]
            ],
            "type": "surface"
           }
          ],
          "table": [
           {
            "cells": {
             "fill": {
              "color": "#EBF0F8"
             },
             "line": {
              "color": "white"
             }
            },
            "header": {
             "fill": {
              "color": "#C8D4E3"
             },
             "line": {
              "color": "white"
             }
            },
            "type": "table"
           }
          ]
         },
         "layout": {
          "annotationdefaults": {
           "arrowcolor": "#2a3f5f",
           "arrowhead": 0,
           "arrowwidth": 1
          },
          "autotypenumbers": "strict",
          "coloraxis": {
           "colorbar": {
            "outlinewidth": 0,
            "ticks": ""
           }
          },
          "colorscale": {
           "diverging": [
            [
             0,
             "#8e0152"
            ],
            [
             0.1,
             "#c51b7d"
            ],
            [
             0.2,
             "#de77ae"
            ],
            [
             0.3,
             "#f1b6da"
            ],
            [
             0.4,
             "#fde0ef"
            ],
            [
             0.5,
             "#f7f7f7"
            ],
            [
             0.6,
             "#e6f5d0"
            ],
            [
             0.7,
             "#b8e186"
            ],
            [
             0.8,
             "#7fbc41"
            ],
            [
             0.9,
             "#4d9221"
            ],
            [
             1,
             "#276419"
            ]
           ],
           "sequential": [
            [
             0,
             "#0d0887"
            ],
            [
             0.1111111111111111,
             "#46039f"
            ],
            [
             0.2222222222222222,
             "#7201a8"
            ],
            [
             0.3333333333333333,
             "#9c179e"
            ],
            [
             0.4444444444444444,
             "#bd3786"
            ],
            [
             0.5555555555555556,
             "#d8576b"
            ],
            [
             0.6666666666666666,
             "#ed7953"
            ],
            [
             0.7777777777777778,
             "#fb9f3a"
            ],
            [
             0.8888888888888888,
             "#fdca26"
            ],
            [
             1,
             "#f0f921"
            ]
           ],
           "sequentialminus": [
            [
             0,
             "#0d0887"
            ],
            [
             0.1111111111111111,
             "#46039f"
            ],
            [
             0.2222222222222222,
             "#7201a8"
            ],
            [
             0.3333333333333333,
             "#9c179e"
            ],
            [
             0.4444444444444444,
             "#bd3786"
            ],
            [
             0.5555555555555556,
             "#d8576b"
            ],
            [
             0.6666666666666666,
             "#ed7953"
            ],
            [
             0.7777777777777778,
             "#fb9f3a"
            ],
            [
             0.8888888888888888,
             "#fdca26"
            ],
            [
             1,
             "#f0f921"
            ]
           ]
          },
          "colorway": [
           "#636efa",
           "#EF553B",
           "#00cc96",
           "#ab63fa",
           "#FFA15A",
           "#19d3f3",
           "#FF6692",
           "#B6E880",
           "#FF97FF",
           "#FECB52"
          ],
          "font": {
           "color": "#2a3f5f"
          },
          "geo": {
           "bgcolor": "white",
           "lakecolor": "white",
           "landcolor": "#E5ECF6",
           "showlakes": true,
           "showland": true,
           "subunitcolor": "white"
          },
          "hoverlabel": {
           "align": "left"
          },
          "hovermode": "closest",
          "mapbox": {
           "style": "light"
          },
          "paper_bgcolor": "white",
          "plot_bgcolor": "#E5ECF6",
          "polar": {
           "angularaxis": {
            "gridcolor": "white",
            "linecolor": "white",
            "ticks": ""
           },
           "bgcolor": "#E5ECF6",
           "radialaxis": {
            "gridcolor": "white",
            "linecolor": "white",
            "ticks": ""
           }
          },
          "scene": {
           "xaxis": {
            "backgroundcolor": "#E5ECF6",
            "gridcolor": "white",
            "gridwidth": 2,
            "linecolor": "white",
            "showbackground": true,
            "ticks": "",
            "zerolinecolor": "white"
           },
           "yaxis": {
            "backgroundcolor": "#E5ECF6",
            "gridcolor": "white",
            "gridwidth": 2,
            "linecolor": "white",
            "showbackground": true,
            "ticks": "",
            "zerolinecolor": "white"
           },
           "zaxis": {
            "backgroundcolor": "#E5ECF6",
            "gridcolor": "white",
            "gridwidth": 2,
            "linecolor": "white",
            "showbackground": true,
            "ticks": "",
            "zerolinecolor": "white"
           }
          },
          "shapedefaults": {
           "line": {
            "color": "#2a3f5f"
           }
          },
          "ternary": {
           "aaxis": {
            "gridcolor": "white",
            "linecolor": "white",
            "ticks": ""
           },
           "baxis": {
            "gridcolor": "white",
            "linecolor": "white",
            "ticks": ""
           },
           "bgcolor": "#E5ECF6",
           "caxis": {
            "gridcolor": "white",
            "linecolor": "white",
            "ticks": ""
           }
          },
          "title": {
           "x": 0.05
          },
          "xaxis": {
           "automargin": true,
           "gridcolor": "white",
           "linecolor": "white",
           "ticks": "",
           "title": {
            "standoff": 15
           },
           "zerolinecolor": "white",
           "zerolinewidth": 2
          },
          "yaxis": {
           "automargin": true,
           "gridcolor": "white",
           "linecolor": "white",
           "ticks": "",
           "title": {
            "standoff": 15
           },
           "zerolinecolor": "white",
           "zerolinewidth": 2
          }
         }
        },
        "title": {
         "text": "Product Ratings Across Different Categories"
        }
       }
      }
     },
     "metadata": {},
     "output_type": "display_data"
    }
   ],
   "source": [
    "# Product Ratings Across Different Categories\n",
    "fig = px.sunburst(df, path=['Purchase_Category','Product_Rating'],\n",
    "            values='Product_Rating', color='Purchase_Category', color_continuous_scale='cividis',\n",
    "            title='Product Ratings Across Different Categories')\n",
    "fig.update_layout(height=700)"
   ]
  },
  {
   "cell_type": "code",
   "execution_count": null,
   "metadata": {},
   "outputs": [
    {
     "data": {
      "application/vnd.plotly.v1+json": {
       "config": {
        "plotlyServerURL": "https://plot.ly"
       },
       "data": [
        {
         "dimensions": [
          {
           "label": "Income Level",
           "values": [
            "Middle",
            "High",
            "Middle",
            "Middle",
            "Middle",
            "Middle",
            "Middle",
            "Middle",
            "High",
            "High",
            "Middle",
            "High",
            "Middle",
            "High",
            "High",
            "High",
            "High",
            "Middle",
            "Middle",
            "High",
            "Middle",
            "High",
            "High",
            "Middle",
            "High",
            "High",
            "Middle",
            "High",
            "Middle",
            "Middle",
            "High",
            "High",
            "High",
            "High",
            "Middle",
            "High",
            "Middle",
            "Middle",
            "Middle",
            "Middle",
            "Middle",
            "Middle",
            "High",
            "High",
            "High",
            "Middle",
            "High",
            "High",
            "Middle",
            "Middle",
            "Middle",
            "High",
            "Middle",
            "Middle",
            "Middle",
            "High",
            "Middle",
            "High",
            "High",
            "Middle",
            "High",
            "High",
            "Middle",
            "Middle",
            "Middle",
            "High",
            "High",
            "Middle",
            "High",
            "Middle",
            "Middle",
            "Middle",
            "High",
            "High",
            "Middle",
            "High",
            "Middle",
            "High",
            "Middle",
            "High",
            "High",
            "Middle",
            "Middle",
            "Middle",
            "High",
            "High",
            "High",
            "High",
            "Middle",
            "Middle",
            "Middle",
            "High",
            "Middle",
            "High",
            "High",
            "High",
            "Middle",
            "Middle",
            "High",
            "Middle",
            "High",
            "High",
            "Middle",
            "Middle",
            "High",
            "Middle",
            "Middle",
            "Middle",
            "Middle",
            "Middle",
            "Middle",
            "High",
            "Middle",
            "Middle",
            "High",
            "Middle",
            "High",
            "High",
            "Middle",
            "High",
            "High",
            "Middle",
            "High",
            "Middle",
            "High",
            "High",
            "Middle",
            "High",
            "High",
            "High",
            "High",
            "High",
            "High",
            "High",
            "High",
            "Middle",
            "High",
            "High",
            "High",
            "High",
            "High",
            "Middle",
            "Middle",
            "High",
            "Middle",
            "Middle",
            "Middle",
            "High",
            "High",
            "High",
            "Middle",
            "High",
            "High",
            "Middle",
            "High",
            "Middle",
            "High",
            "High",
            "Middle",
            "Middle",
            "High",
            "High",
            "Middle",
            "High",
            "Middle",
            "High",
            "Middle",
            "High",
            "High",
            "Middle",
            "Middle",
            "High",
            "High",
            "High",
            "Middle",
            "Middle",
            "Middle",
            "Middle",
            "Middle",
            "High",
            "High",
            "High",
            "High",
            "High",
            "Middle",
            "High",
            "High",
            "Middle",
            "Middle",
            "Middle",
            "High",
            "Middle",
            "Middle",
            "Middle",
            "Middle",
            "Middle",
            "Middle",
            "High",
            "Middle",
            "High",
            "Middle",
            "Middle",
            "Middle",
            "Middle",
            "Middle",
            "Middle",
            "Middle",
            "Middle",
            "High",
            "Middle",
            "Middle",
            "High",
            "High",
            "Middle",
            "High",
            "High",
            "High",
            "Middle",
            "Middle",
            "Middle",
            "Middle",
            "High",
            "High",
            "Middle",
            "Middle",
            "High",
            "High",
            "Middle",
            "High",
            "High",
            "Middle",
            "Middle",
            "High",
            "Middle",
            "Middle",
            "Middle",
            "Middle",
            "Middle",
            "Middle",
            "Middle",
            "Middle",
            "High",
            "High",
            "High",
            "High",
            "High",
            "High",
            "High",
            "High",
            "Middle",
            "High",
            "High",
            "High",
            "High",
            "High",
            "Middle",
            "Middle",
            "Middle",
            "Middle",
            "High",
            "Middle",
            "Middle",
            "Middle",
            "Middle",
            "Middle",
            "High",
            "High",
            "Middle",
            "High",
            "High",
            "Middle",
            "Middle",
            "Middle",
            "High",
            "High",
            "Middle",
            "High",
            "High",
            "Middle",
            "Middle",
            "Middle",
            "Middle",
            "Middle",
            "Middle",
            "High",
            "High",
            "High",
            "Middle",
            "Middle",
            "Middle",
            "Middle",
            "Middle",
            "High",
            "Middle",
            "High",
            "Middle",
            "Middle",
            "High",
            "High",
            "High",
            "Middle",
            "Middle",
            "High",
            "Middle",
            "High",
            "High",
            "High",
            "Middle",
            "High",
            "High",
            "Middle",
            "Middle",
            "High",
            "High",
            "High",
            "High",
            "High",
            "High",
            "High",
            "Middle",
            "Middle",
            "High",
            "High",
            "High",
            "High",
            "Middle",
            "High",
            "High",
            "Middle",
            "High",
            "Middle",
            "Middle",
            "Middle",
            "Middle",
            "High",
            "Middle",
            "High",
            "Middle",
            "High",
            "Middle",
            "High",
            "High",
            "Middle",
            "Middle",
            "High",
            "Middle",
            "Middle",
            "Middle",
            "Middle",
            "Middle",
            "High",
            "Middle",
            "Middle",
            "Middle",
            "High",
            "Middle",
            "High",
            "Middle",
            "High",
            "Middle",
            "Middle",
            "High",
            "Middle",
            "High",
            "Middle",
            "Middle",
            "High",
            "High",
            "High",
            "High",
            "Middle",
            "High",
            "Middle",
            "High",
            "High",
            "High",
            "High",
            "High",
            "High",
            "High",
            "High",
            "Middle",
            "Middle",
            "High",
            "Middle",
            "High",
            "High",
            "Middle",
            "High",
            "Middle",
            "Middle",
            "High",
            "Middle",
            "High",
            "Middle",
            "Middle",
            "Middle",
            "High",
            "High",
            "Middle",
            "High",
            "High",
            "Middle",
            "Middle",
            "Middle",
            "Middle",
            "Middle",
            "High",
            "High",
            "High",
            "High",
            "High",
            "Middle",
            "Middle",
            "Middle",
            "High",
            "Middle",
            "High",
            "Middle",
            "High",
            "Middle",
            "High",
            "Middle",
            "High",
            "Middle",
            "Middle",
            "High",
            "High",
            "Middle",
            "High",
            "Middle",
            "Middle",
            "Middle",
            "Middle",
            "Middle",
            "High",
            "Middle",
            "High",
            "Middle",
            "High",
            "Middle",
            "Middle",
            "Middle",
            "Middle",
            "High",
            "Middle",
            "High",
            "High",
            "High",
            "High",
            "High",
            "High",
            "Middle",
            "Middle",
            "High",
            "High",
            "Middle",
            "High",
            "Middle",
            "Middle",
            "Middle",
            "Middle",
            "High",
            "High",
            "High",
            "High",
            "High",
            "High",
            "High",
            "High",
            "High",
            "Middle",
            "Middle",
            "Middle",
            "High",
            "Middle",
            "Middle",
            "Middle",
            "High",
            "High",
            "Middle",
            "Middle",
            "High",
            "High",
            "High",
            "High",
            "Middle",
            "High",
            "High",
            "High",
            "Middle",
            "Middle",
            "Middle",
            "High",
            "High",
            "High",
            "Middle",
            "High",
            "High",
            "Middle",
            "Middle",
            "Middle",
            "Middle",
            "High",
            "High",
            "High",
            "High",
            "High",
            "High",
            "Middle",
            "Middle",
            "Middle",
            "High",
            "High",
            "High",
            "Middle",
            "High",
            "Middle",
            "High",
            "Middle",
            "Middle",
            "Middle",
            "Middle",
            "High",
            "Middle",
            "High",
            "High",
            "Middle",
            "Middle",
            "High",
            "High",
            "High",
            "High",
            "Middle",
            "High",
            "High",
            "Middle",
            "High",
            "Middle",
            "High",
            "High",
            "High",
            "High",
            "Middle",
            "Middle",
            "Middle",
            "High",
            "High",
            "High",
            "High",
            "High",
            "High",
            "High",
            "Middle",
            "High",
            "Middle",
            "High",
            "High",
            "Middle",
            "High",
            "Middle",
            "Middle",
            "High",
            "Middle",
            "Middle",
            "High",
            "High",
            "Middle",
            "Middle",
            "Middle",
            "Middle",
            "Middle",
            "High",
            "Middle",
            "High",
            "Middle",
            "High",
            "Middle",
            "Middle",
            "High",
            "Middle",
            "High",
            "High",
            "Middle",
            "High",
            "Middle",
            "High",
            "High",
            "Middle",
            "High",
            "Middle",
            "Middle",
            "Middle",
            "High",
            "High",
            "Middle",
            "Middle",
            "Middle",
            "Middle",
            "Middle",
            "Middle",
            "High",
            "High",
            "Middle",
            "High",
            "Middle",
            "Middle",
            "High",
            "High",
            "High",
            "Middle",
            "Middle",
            "Middle",
            "High",
            "High",
            "High",
            "High",
            "Middle",
            "High",
            "Middle",
            "Middle",
            "High",
            "Middle",
            "Middle",
            "Middle",
            "Middle",
            "Middle",
            "High",
            "Middle",
            "High",
            "Middle",
            "High",
            "High",
            "High",
            "High",
            "High",
            "High",
            "Middle",
            "Middle",
            "Middle",
            "High",
            "High",
            "Middle",
            "Middle",
            "Middle",
            "High",
            "Middle",
            "High",
            "Middle",
            "High",
            "Middle",
            "Middle",
            "Middle",
            "High",
            "Middle",
            "Middle",
            "Middle",
            "Middle",
            "High",
            "High",
            "High",
            "High",
            "High",
            "High",
            "Middle",
            "High",
            "Middle",
            "High",
            "Middle",
            "Middle",
            "Middle",
            "High",
            "High",
            "Middle",
            "High",
            "High",
            "High",
            "Middle",
            "Middle",
            "High",
            "High",
            "High",
            "Middle",
            "Middle",
            "Middle",
            "High",
            "Middle",
            "Middle",
            "High",
            "Middle",
            "Middle",
            "Middle",
            "Middle",
            "Middle",
            "High",
            "Middle",
            "High",
            "High",
            "Middle",
            "High",
            "High",
            "Middle",
            "High",
            "High",
            "High",
            "High",
            "Middle",
            "High",
            "Middle",
            "Middle",
            "Middle",
            "Middle",
            "High",
            "High",
            "Middle",
            "High",
            "High",
            "Middle",
            "Middle",
            "High",
            "Middle",
            "Middle",
            "High",
            "High",
            "Middle",
            "Middle",
            "Middle",
            "High",
            "High",
            "High",
            "Middle",
            "High",
            "High",
            "High",
            "Middle",
            "High",
            "Middle",
            "High",
            "High",
            "Middle",
            "High",
            "Middle",
            "High",
            "Middle",
            "Middle",
            "High",
            "High",
            "Middle",
            "Middle",
            "High",
            "High",
            "High",
            "High",
            "High",
            "High",
            "High",
            "High",
            "High",
            "Middle",
            "Middle",
            "High",
            "Middle",
            "Middle",
            "Middle",
            "Middle",
            "High",
            "Middle",
            "High",
            "High",
            "High",
            "High",
            "Middle",
            "Middle",
            "High",
            "Middle",
            "High",
            "High",
            "Middle",
            "Middle",
            "High",
            "Middle",
            "Middle",
            "High",
            "Middle",
            "High",
            "High",
            "High",
            "High",
            "Middle",
            "Middle",
            "High",
            "Middle",
            "High",
            "Middle",
            "High",
            "Middle",
            "High",
            "Middle",
            "High",
            "High",
            "Middle",
            "High",
            "Middle",
            "Middle",
            "Middle",
            "Middle",
            "Middle",
            "High",
            "High",
            "High",
            "High",
            "Middle",
            "High",
            "Middle",
            "Middle",
            "High",
            "High",
            "High",
            "Middle",
            "High",
            "High",
            "High",
            "High",
            "High",
            "High",
            "High",
            "High",
            "Middle",
            "Middle",
            "High",
            "Middle",
            "High",
            "Middle",
            "Middle",
            "High",
            "High",
            "Middle",
            "Middle",
            "High",
            "Middle",
            "High",
            "Middle",
            "High",
            "High",
            "Middle",
            "Middle",
            "High",
            "High",
            "Middle",
            "Middle",
            "High",
            "High",
            "Middle",
            "Middle",
            "Middle",
            "High",
            "Middle",
            "High",
            "High",
            "Middle",
            "High",
            "Middle",
            "High",
            "High",
            "Middle",
            "High",
            "Middle",
            "High",
            "Middle",
            "High",
            "High",
            "Middle",
            "High",
            "Middle",
            "Middle",
            "Middle",
            "Middle",
            "Middle",
            "High",
            "High",
            "High",
            "High",
            "Middle",
            "High",
            "Middle",
            "High",
            "Middle",
            "Middle",
            "High",
            "Middle",
            "High",
            "Middle",
            "Middle",
            "High",
            "High",
            "High",
            "Middle",
            "High",
            "Middle",
            "High",
            "High",
            "Middle",
            "Middle",
            "Middle",
            "Middle",
            "High",
            "High",
            "High",
            "Middle",
            "High",
            "Middle",
            "Middle",
            "Middle",
            "High",
            "High",
            "High",
            "High",
            "High",
            "Middle",
            "Middle",
            "High",
            "Middle",
            "Middle",
            "High",
            "High",
            "High",
            "High",
            "High",
            "High",
            "High",
            "High",
            "Middle",
            "Middle",
            "Middle",
            "High",
            "High",
            "Middle",
            "High",
            "High",
            "Middle",
            "High",
            "Middle",
            "Middle",
            "High",
            "High",
            "High",
            "High",
            "Middle",
            "High",
            "High",
            "Middle",
            "High",
            "High",
            "Middle",
            "Middle",
            "High",
            "Middle",
            "Middle",
            "Middle",
            "High",
            "Middle",
            "High",
            "Middle",
            "High",
            "High",
            "Middle",
            "Middle",
            "Middle",
            "High",
            "Middle",
            "Middle",
            "High",
            "High",
            "High",
            "High",
            "High",
            "Middle",
            "Middle",
            "High",
            "Middle",
            "Middle",
            "High",
            "Middle",
            "High",
            "High",
            "Middle",
            "Middle",
            "Middle",
            "High",
            "High",
            "High",
            "High",
            "High",
            "High",
            "High",
            "High",
            "High",
            "High",
            "High",
            "Middle"
           ]
          },
          {
           "label": "Discount Sensitivity",
           "values": [
            "Somewhat Sensitive",
            "Not Sensitive",
            "Not Sensitive",
            "Somewhat Sensitive",
            "Not Sensitive",
            "Not Sensitive",
            "Somewhat Sensitive",
            "Somewhat Sensitive",
            "Very Sensitive",
            "Somewhat Sensitive",
            "Not Sensitive",
            "Very Sensitive",
            "Very Sensitive",
            "Not Sensitive",
            "Not Sensitive",
            "Somewhat Sensitive",
            "Very Sensitive",
            "Very Sensitive",
            "Not Sensitive",
            "Very Sensitive",
            "Very Sensitive",
            "Very Sensitive",
            "Not Sensitive",
            "Not Sensitive",
            "Very Sensitive",
            "Not Sensitive",
            "Somewhat Sensitive",
            "Very Sensitive",
            "Somewhat Sensitive",
            "Very Sensitive",
            "Very Sensitive",
            "Somewhat Sensitive",
            "Somewhat Sensitive",
            "Somewhat Sensitive",
            "Not Sensitive",
            "Somewhat Sensitive",
            "Not Sensitive",
            "Somewhat Sensitive",
            "Not Sensitive",
            "Very Sensitive",
            "Somewhat Sensitive",
            "Not Sensitive",
            "Not Sensitive",
            "Very Sensitive",
            "Somewhat Sensitive",
            "Not Sensitive",
            "Very Sensitive",
            "Very Sensitive",
            "Somewhat Sensitive",
            "Very Sensitive",
            "Somewhat Sensitive",
            "Somewhat Sensitive",
            "Very Sensitive",
            "Somewhat Sensitive",
            "Not Sensitive",
            "Not Sensitive",
            "Very Sensitive",
            "Not Sensitive",
            "Very Sensitive",
            "Not Sensitive",
            "Somewhat Sensitive",
            "Not Sensitive",
            "Very Sensitive",
            "Somewhat Sensitive",
            "Very Sensitive",
            "Very Sensitive",
            "Somewhat Sensitive",
            "Somewhat Sensitive",
            "Not Sensitive",
            "Not Sensitive",
            "Very Sensitive",
            "Somewhat Sensitive",
            "Somewhat Sensitive",
            "Somewhat Sensitive",
            "Very Sensitive",
            "Somewhat Sensitive",
            "Not Sensitive",
            "Not Sensitive",
            "Very Sensitive",
            "Very Sensitive",
            "Somewhat Sensitive",
            "Very Sensitive",
            "Not Sensitive",
            "Not Sensitive",
            "Somewhat Sensitive",
            "Very Sensitive",
            "Not Sensitive",
            "Not Sensitive",
            "Very Sensitive",
            "Somewhat Sensitive",
            "Very Sensitive",
            "Very Sensitive",
            "Not Sensitive",
            "Somewhat Sensitive",
            "Somewhat Sensitive",
            "Very Sensitive",
            "Not Sensitive",
            "Somewhat Sensitive",
            "Very Sensitive",
            "Not Sensitive",
            "Somewhat Sensitive",
            "Not Sensitive",
            "Somewhat Sensitive",
            "Somewhat Sensitive",
            "Not Sensitive",
            "Somewhat Sensitive",
            "Not Sensitive",
            "Not Sensitive",
            "Somewhat Sensitive",
            "Somewhat Sensitive",
            "Not Sensitive",
            "Somewhat Sensitive",
            "Not Sensitive",
            "Somewhat Sensitive",
            "Very Sensitive",
            "Not Sensitive",
            "Very Sensitive",
            "Very Sensitive",
            "Somewhat Sensitive",
            "Not Sensitive",
            "Very Sensitive",
            "Not Sensitive",
            "Very Sensitive",
            "Somewhat Sensitive",
            "Somewhat Sensitive",
            "Very Sensitive",
            "Not Sensitive",
            "Not Sensitive",
            "Not Sensitive",
            "Very Sensitive",
            "Very Sensitive",
            "Somewhat Sensitive",
            "Somewhat Sensitive",
            "Very Sensitive",
            "Somewhat Sensitive",
            "Not Sensitive",
            "Somewhat Sensitive",
            "Not Sensitive",
            "Very Sensitive",
            "Somewhat Sensitive",
            "Not Sensitive",
            "Very Sensitive",
            "Not Sensitive",
            "Very Sensitive",
            "Somewhat Sensitive",
            "Not Sensitive",
            "Not Sensitive",
            "Somewhat Sensitive",
            "Not Sensitive",
            "Not Sensitive",
            "Very Sensitive",
            "Very Sensitive",
            "Very Sensitive",
            "Not Sensitive",
            "Very Sensitive",
            "Not Sensitive",
            "Somewhat Sensitive",
            "Very Sensitive",
            "Somewhat Sensitive",
            "Very Sensitive",
            "Very Sensitive",
            "Somewhat Sensitive",
            "Not Sensitive",
            "Very Sensitive",
            "Not Sensitive",
            "Not Sensitive",
            "Somewhat Sensitive",
            "Not Sensitive",
            "Not Sensitive",
            "Somewhat Sensitive",
            "Very Sensitive",
            "Not Sensitive",
            "Somewhat Sensitive",
            "Not Sensitive",
            "Somewhat Sensitive",
            "Not Sensitive",
            "Not Sensitive",
            "Not Sensitive",
            "Very Sensitive",
            "Very Sensitive",
            "Very Sensitive",
            "Not Sensitive",
            "Somewhat Sensitive",
            "Somewhat Sensitive",
            "Not Sensitive",
            "Very Sensitive",
            "Somewhat Sensitive",
            "Not Sensitive",
            "Somewhat Sensitive",
            "Somewhat Sensitive",
            "Not Sensitive",
            "Very Sensitive",
            "Very Sensitive",
            "Somewhat Sensitive",
            "Somewhat Sensitive",
            "Very Sensitive",
            "Somewhat Sensitive",
            "Not Sensitive",
            "Somewhat Sensitive",
            "Somewhat Sensitive",
            "Very Sensitive",
            "Very Sensitive",
            "Somewhat Sensitive",
            "Very Sensitive",
            "Not Sensitive",
            "Not Sensitive",
            "Somewhat Sensitive",
            "Somewhat Sensitive",
            "Very Sensitive",
            "Very Sensitive",
            "Not Sensitive",
            "Not Sensitive",
            "Not Sensitive",
            "Very Sensitive",
            "Not Sensitive",
            "Very Sensitive",
            "Very Sensitive",
            "Somewhat Sensitive",
            "Somewhat Sensitive",
            "Somewhat Sensitive",
            "Not Sensitive",
            "Not Sensitive",
            "Not Sensitive",
            "Very Sensitive",
            "Very Sensitive",
            "Somewhat Sensitive",
            "Somewhat Sensitive",
            "Very Sensitive",
            "Not Sensitive",
            "Somewhat Sensitive",
            "Not Sensitive",
            "Somewhat Sensitive",
            "Somewhat Sensitive",
            "Very Sensitive",
            "Not Sensitive",
            "Not Sensitive",
            "Not Sensitive",
            "Very Sensitive",
            "Very Sensitive",
            "Not Sensitive",
            "Not Sensitive",
            "Very Sensitive",
            "Not Sensitive",
            "Somewhat Sensitive",
            "Very Sensitive",
            "Very Sensitive",
            "Very Sensitive",
            "Not Sensitive",
            "Not Sensitive",
            "Not Sensitive",
            "Very Sensitive",
            "Not Sensitive",
            "Very Sensitive",
            "Very Sensitive",
            "Very Sensitive",
            "Very Sensitive",
            "Very Sensitive",
            "Not Sensitive",
            "Very Sensitive",
            "Very Sensitive",
            "Very Sensitive",
            "Somewhat Sensitive",
            "Somewhat Sensitive",
            "Not Sensitive",
            "Not Sensitive",
            "Somewhat Sensitive",
            "Very Sensitive",
            "Very Sensitive",
            "Somewhat Sensitive",
            "Not Sensitive",
            "Very Sensitive",
            "Very Sensitive",
            "Very Sensitive",
            "Very Sensitive",
            "Somewhat Sensitive",
            "Very Sensitive",
            "Not Sensitive",
            "Not Sensitive",
            "Somewhat Sensitive",
            "Somewhat Sensitive",
            "Somewhat Sensitive",
            "Very Sensitive",
            "Very Sensitive",
            "Somewhat Sensitive",
            "Somewhat Sensitive",
            "Not Sensitive",
            "Not Sensitive",
            "Very Sensitive",
            "Somewhat Sensitive",
            "Very Sensitive",
            "Very Sensitive",
            "Somewhat Sensitive",
            "Very Sensitive",
            "Very Sensitive",
            "Very Sensitive",
            "Not Sensitive",
            "Very Sensitive",
            "Not Sensitive",
            "Not Sensitive",
            "Somewhat Sensitive",
            "Not Sensitive",
            "Not Sensitive",
            "Not Sensitive",
            "Somewhat Sensitive",
            "Not Sensitive",
            "Not Sensitive",
            "Somewhat Sensitive",
            "Very Sensitive",
            "Not Sensitive",
            "Somewhat Sensitive",
            "Not Sensitive",
            "Very Sensitive",
            "Very Sensitive",
            "Not Sensitive",
            "Not Sensitive",
            "Not Sensitive",
            "Somewhat Sensitive",
            "Not Sensitive",
            "Not Sensitive",
            "Very Sensitive",
            "Very Sensitive",
            "Somewhat Sensitive",
            "Somewhat Sensitive",
            "Somewhat Sensitive",
            "Very Sensitive",
            "Very Sensitive",
            "Not Sensitive",
            "Somewhat Sensitive",
            "Somewhat Sensitive",
            "Somewhat Sensitive",
            "Somewhat Sensitive",
            "Very Sensitive",
            "Not Sensitive",
            "Somewhat Sensitive",
            "Somewhat Sensitive",
            "Not Sensitive",
            "Very Sensitive",
            "Not Sensitive",
            "Not Sensitive",
            "Very Sensitive",
            "Somewhat Sensitive",
            "Very Sensitive",
            "Somewhat Sensitive",
            "Very Sensitive",
            "Very Sensitive",
            "Very Sensitive",
            "Not Sensitive",
            "Somewhat Sensitive",
            "Very Sensitive",
            "Not Sensitive",
            "Not Sensitive",
            "Not Sensitive",
            "Very Sensitive",
            "Not Sensitive",
            "Somewhat Sensitive",
            "Very Sensitive",
            "Not Sensitive",
            "Somewhat Sensitive",
            "Not Sensitive",
            "Somewhat Sensitive",
            "Very Sensitive",
            "Not Sensitive",
            "Very Sensitive",
            "Somewhat Sensitive",
            "Not Sensitive",
            "Very Sensitive",
            "Not Sensitive",
            "Very Sensitive",
            "Very Sensitive",
            "Not Sensitive",
            "Not Sensitive",
            "Not Sensitive",
            "Not Sensitive",
            "Very Sensitive",
            "Somewhat Sensitive",
            "Somewhat Sensitive",
            "Somewhat Sensitive",
            "Somewhat Sensitive",
            "Very Sensitive",
            "Not Sensitive",
            "Very Sensitive",
            "Somewhat Sensitive",
            "Not Sensitive",
            "Not Sensitive",
            "Somewhat Sensitive",
            "Not Sensitive",
            "Not Sensitive",
            "Somewhat Sensitive",
            "Not Sensitive",
            "Somewhat Sensitive",
            "Somewhat Sensitive",
            "Very Sensitive",
            "Somewhat Sensitive",
            "Very Sensitive",
            "Very Sensitive",
            "Somewhat Sensitive",
            "Not Sensitive",
            "Very Sensitive",
            "Not Sensitive",
            "Not Sensitive",
            "Very Sensitive",
            "Very Sensitive",
            "Not Sensitive",
            "Very Sensitive",
            "Somewhat Sensitive",
            "Somewhat Sensitive",
            "Somewhat Sensitive",
            "Very Sensitive",
            "Very Sensitive",
            "Not Sensitive",
            "Not Sensitive",
            "Not Sensitive",
            "Somewhat Sensitive",
            "Very Sensitive",
            "Not Sensitive",
            "Not Sensitive",
            "Not Sensitive",
            "Somewhat Sensitive",
            "Not Sensitive",
            "Very Sensitive",
            "Very Sensitive",
            "Somewhat Sensitive",
            "Very Sensitive",
            "Not Sensitive",
            "Not Sensitive",
            "Somewhat Sensitive",
            "Somewhat Sensitive",
            "Not Sensitive",
            "Somewhat Sensitive",
            "Very Sensitive",
            "Very Sensitive",
            "Very Sensitive",
            "Very Sensitive",
            "Somewhat Sensitive",
            "Very Sensitive",
            "Somewhat Sensitive",
            "Not Sensitive",
            "Somewhat Sensitive",
            "Somewhat Sensitive",
            "Somewhat Sensitive",
            "Somewhat Sensitive",
            "Very Sensitive",
            "Very Sensitive",
            "Somewhat Sensitive",
            "Very Sensitive",
            "Not Sensitive",
            "Very Sensitive",
            "Very Sensitive",
            "Somewhat Sensitive",
            "Very Sensitive",
            "Very Sensitive",
            "Not Sensitive",
            "Not Sensitive",
            "Not Sensitive",
            "Somewhat Sensitive",
            "Not Sensitive",
            "Very Sensitive",
            "Very Sensitive",
            "Somewhat Sensitive",
            "Very Sensitive",
            "Somewhat Sensitive",
            "Very Sensitive",
            "Somewhat Sensitive",
            "Not Sensitive",
            "Somewhat Sensitive",
            "Very Sensitive",
            "Somewhat Sensitive",
            "Not Sensitive",
            "Very Sensitive",
            "Very Sensitive",
            "Not Sensitive",
            "Not Sensitive",
            "Not Sensitive",
            "Somewhat Sensitive",
            "Somewhat Sensitive",
            "Not Sensitive",
            "Somewhat Sensitive",
            "Somewhat Sensitive",
            "Somewhat Sensitive",
            "Somewhat Sensitive",
            "Very Sensitive",
            "Somewhat Sensitive",
            "Very Sensitive",
            "Very Sensitive",
            "Very Sensitive",
            "Very Sensitive",
            "Somewhat Sensitive",
            "Very Sensitive",
            "Somewhat Sensitive",
            "Not Sensitive",
            "Very Sensitive",
            "Very Sensitive",
            "Very Sensitive",
            "Somewhat Sensitive",
            "Not Sensitive",
            "Somewhat Sensitive",
            "Very Sensitive",
            "Very Sensitive",
            "Very Sensitive",
            "Not Sensitive",
            "Somewhat Sensitive",
            "Not Sensitive",
            "Not Sensitive",
            "Somewhat Sensitive",
            "Very Sensitive",
            "Very Sensitive",
            "Very Sensitive",
            "Very Sensitive",
            "Somewhat Sensitive",
            "Somewhat Sensitive",
            "Not Sensitive",
            "Very Sensitive",
            "Very Sensitive",
            "Somewhat Sensitive",
            "Not Sensitive",
            "Very Sensitive",
            "Somewhat Sensitive",
            "Very Sensitive",
            "Somewhat Sensitive",
            "Very Sensitive",
            "Somewhat Sensitive",
            "Not Sensitive",
            "Very Sensitive",
            "Very Sensitive",
            "Very Sensitive",
            "Very Sensitive",
            "Somewhat Sensitive",
            "Not Sensitive",
            "Not Sensitive",
            "Somewhat Sensitive",
            "Not Sensitive",
            "Somewhat Sensitive",
            "Very Sensitive",
            "Somewhat Sensitive",
            "Very Sensitive",
            "Not Sensitive",
            "Very Sensitive",
            "Very Sensitive",
            "Somewhat Sensitive",
            "Very Sensitive",
            "Not Sensitive",
            "Not Sensitive",
            "Very Sensitive",
            "Not Sensitive",
            "Very Sensitive",
            "Not Sensitive",
            "Very Sensitive",
            "Very Sensitive",
            "Very Sensitive",
            "Not Sensitive",
            "Not Sensitive",
            "Very Sensitive",
            "Somewhat Sensitive",
            "Not Sensitive",
            "Somewhat Sensitive",
            "Somewhat Sensitive",
            "Somewhat Sensitive",
            "Not Sensitive",
            "Somewhat Sensitive",
            "Somewhat Sensitive",
            "Somewhat Sensitive",
            "Somewhat Sensitive",
            "Very Sensitive",
            "Somewhat Sensitive",
            "Somewhat Sensitive",
            "Very Sensitive",
            "Very Sensitive",
            "Somewhat Sensitive",
            "Not Sensitive",
            "Very Sensitive",
            "Somewhat Sensitive",
            "Somewhat Sensitive",
            "Somewhat Sensitive",
            "Somewhat Sensitive",
            "Somewhat Sensitive",
            "Not Sensitive",
            "Somewhat Sensitive",
            "Somewhat Sensitive",
            "Very Sensitive",
            "Not Sensitive",
            "Not Sensitive",
            "Very Sensitive",
            "Very Sensitive",
            "Very Sensitive",
            "Very Sensitive",
            "Very Sensitive",
            "Somewhat Sensitive",
            "Very Sensitive",
            "Somewhat Sensitive",
            "Very Sensitive",
            "Somewhat Sensitive",
            "Somewhat Sensitive",
            "Very Sensitive",
            "Not Sensitive",
            "Somewhat Sensitive",
            "Not Sensitive",
            "Somewhat Sensitive",
            "Very Sensitive",
            "Somewhat Sensitive",
            "Very Sensitive",
            "Not Sensitive",
            "Somewhat Sensitive",
            "Very Sensitive",
            "Not Sensitive",
            "Somewhat Sensitive",
            "Very Sensitive",
            "Not Sensitive",
            "Somewhat Sensitive",
            "Somewhat Sensitive",
            "Not Sensitive",
            "Somewhat Sensitive",
            "Somewhat Sensitive",
            "Very Sensitive",
            "Somewhat Sensitive",
            "Not Sensitive",
            "Very Sensitive",
            "Somewhat Sensitive",
            "Very Sensitive",
            "Somewhat Sensitive",
            "Not Sensitive",
            "Somewhat Sensitive",
            "Somewhat Sensitive",
            "Not Sensitive",
            "Very Sensitive",
            "Very Sensitive",
            "Very Sensitive",
            "Very Sensitive",
            "Somewhat Sensitive",
            "Somewhat Sensitive",
            "Very Sensitive",
            "Somewhat Sensitive",
            "Very Sensitive",
            "Somewhat Sensitive",
            "Not Sensitive",
            "Not Sensitive",
            "Not Sensitive",
            "Very Sensitive",
            "Not Sensitive",
            "Not Sensitive",
            "Very Sensitive",
            "Somewhat Sensitive",
            "Very Sensitive",
            "Somewhat Sensitive",
            "Very Sensitive",
            "Somewhat Sensitive",
            "Very Sensitive",
            "Very Sensitive",
            "Very Sensitive",
            "Somewhat Sensitive",
            "Very Sensitive",
            "Somewhat Sensitive",
            "Not Sensitive",
            "Very Sensitive",
            "Very Sensitive",
            "Not Sensitive",
            "Very Sensitive",
            "Somewhat Sensitive",
            "Not Sensitive",
            "Very Sensitive",
            "Somewhat Sensitive",
            "Not Sensitive",
            "Somewhat Sensitive",
            "Somewhat Sensitive",
            "Not Sensitive",
            "Very Sensitive",
            "Not Sensitive",
            "Somewhat Sensitive",
            "Somewhat Sensitive",
            "Somewhat Sensitive",
            "Not Sensitive",
            "Very Sensitive",
            "Very Sensitive",
            "Somewhat Sensitive",
            "Very Sensitive",
            "Somewhat Sensitive",
            "Not Sensitive",
            "Very Sensitive",
            "Not Sensitive",
            "Not Sensitive",
            "Somewhat Sensitive",
            "Very Sensitive",
            "Very Sensitive",
            "Not Sensitive",
            "Very Sensitive",
            "Very Sensitive",
            "Very Sensitive",
            "Very Sensitive",
            "Very Sensitive",
            "Very Sensitive",
            "Very Sensitive",
            "Somewhat Sensitive",
            "Very Sensitive",
            "Very Sensitive",
            "Somewhat Sensitive",
            "Somewhat Sensitive",
            "Not Sensitive",
            "Not Sensitive",
            "Not Sensitive",
            "Somewhat Sensitive",
            "Not Sensitive",
            "Not Sensitive",
            "Not Sensitive",
            "Not Sensitive",
            "Not Sensitive",
            "Somewhat Sensitive",
            "Not Sensitive",
            "Not Sensitive",
            "Very Sensitive",
            "Very Sensitive",
            "Very Sensitive",
            "Somewhat Sensitive",
            "Very Sensitive",
            "Somewhat Sensitive",
            "Very Sensitive",
            "Very Sensitive",
            "Not Sensitive",
            "Very Sensitive",
            "Somewhat Sensitive",
            "Not Sensitive",
            "Not Sensitive",
            "Somewhat Sensitive",
            "Not Sensitive",
            "Very Sensitive",
            "Not Sensitive",
            "Somewhat Sensitive",
            "Not Sensitive",
            "Very Sensitive",
            "Not Sensitive",
            "Very Sensitive",
            "Not Sensitive",
            "Not Sensitive",
            "Very Sensitive",
            "Somewhat Sensitive",
            "Very Sensitive",
            "Not Sensitive",
            "Very Sensitive",
            "Not Sensitive",
            "Somewhat Sensitive",
            "Somewhat Sensitive",
            "Very Sensitive",
            "Somewhat Sensitive",
            "Very Sensitive",
            "Not Sensitive",
            "Somewhat Sensitive",
            "Not Sensitive",
            "Very Sensitive",
            "Not Sensitive",
            "Not Sensitive",
            "Not Sensitive",
            "Very Sensitive",
            "Somewhat Sensitive",
            "Very Sensitive",
            "Not Sensitive",
            "Very Sensitive",
            "Not Sensitive",
            "Very Sensitive",
            "Not Sensitive",
            "Very Sensitive",
            "Not Sensitive",
            "Not Sensitive",
            "Not Sensitive",
            "Very Sensitive",
            "Somewhat Sensitive",
            "Very Sensitive",
            "Somewhat Sensitive",
            "Very Sensitive",
            "Not Sensitive",
            "Not Sensitive",
            "Very Sensitive",
            "Not Sensitive",
            "Not Sensitive",
            "Very Sensitive",
            "Very Sensitive",
            "Very Sensitive",
            "Very Sensitive",
            "Not Sensitive",
            "Somewhat Sensitive",
            "Somewhat Sensitive",
            "Somewhat Sensitive",
            "Not Sensitive",
            "Not Sensitive",
            "Very Sensitive",
            "Not Sensitive",
            "Not Sensitive",
            "Somewhat Sensitive",
            "Somewhat Sensitive",
            "Somewhat Sensitive",
            "Somewhat Sensitive",
            "Very Sensitive",
            "Somewhat Sensitive",
            "Very Sensitive",
            "Somewhat Sensitive",
            "Very Sensitive",
            "Somewhat Sensitive",
            "Somewhat Sensitive",
            "Somewhat Sensitive",
            "Somewhat Sensitive",
            "Not Sensitive",
            "Very Sensitive",
            "Not Sensitive",
            "Not Sensitive",
            "Not Sensitive",
            "Very Sensitive",
            "Very Sensitive",
            "Somewhat Sensitive",
            "Somewhat Sensitive",
            "Not Sensitive",
            "Very Sensitive",
            "Not Sensitive",
            "Somewhat Sensitive",
            "Very Sensitive",
            "Not Sensitive",
            "Very Sensitive",
            "Not Sensitive",
            "Not Sensitive",
            "Very Sensitive",
            "Not Sensitive",
            "Somewhat Sensitive",
            "Not Sensitive",
            "Very Sensitive",
            "Very Sensitive",
            "Somewhat Sensitive",
            "Very Sensitive",
            "Somewhat Sensitive",
            "Very Sensitive",
            "Somewhat Sensitive",
            "Somewhat Sensitive",
            "Very Sensitive",
            "Very Sensitive",
            "Not Sensitive",
            "Somewhat Sensitive",
            "Not Sensitive",
            "Somewhat Sensitive",
            "Not Sensitive",
            "Somewhat Sensitive",
            "Very Sensitive",
            "Not Sensitive",
            "Not Sensitive",
            "Somewhat Sensitive",
            "Somewhat Sensitive",
            "Somewhat Sensitive",
            "Somewhat Sensitive",
            "Not Sensitive",
            "Somewhat Sensitive",
            "Not Sensitive",
            "Not Sensitive",
            "Not Sensitive",
            "Very Sensitive",
            "Very Sensitive",
            "Very Sensitive",
            "Very Sensitive",
            "Very Sensitive",
            "Somewhat Sensitive",
            "Somewhat Sensitive",
            "Somewhat Sensitive",
            "Very Sensitive",
            "Not Sensitive",
            "Not Sensitive",
            "Somewhat Sensitive",
            "Somewhat Sensitive",
            "Somewhat Sensitive",
            "Not Sensitive",
            "Not Sensitive",
            "Somewhat Sensitive",
            "Not Sensitive",
            "Somewhat Sensitive",
            "Somewhat Sensitive",
            "Not Sensitive",
            "Not Sensitive",
            "Very Sensitive",
            "Very Sensitive",
            "Somewhat Sensitive",
            "Not Sensitive",
            "Somewhat Sensitive",
            "Somewhat Sensitive",
            "Not Sensitive",
            "Very Sensitive",
            "Very Sensitive",
            "Somewhat Sensitive",
            "Not Sensitive",
            "Not Sensitive",
            "Not Sensitive",
            "Not Sensitive",
            "Not Sensitive",
            "Very Sensitive",
            "Very Sensitive",
            "Very Sensitive",
            "Somewhat Sensitive",
            "Somewhat Sensitive",
            "Not Sensitive",
            "Very Sensitive",
            "Somewhat Sensitive",
            "Not Sensitive",
            "Somewhat Sensitive",
            "Very Sensitive",
            "Very Sensitive",
            "Somewhat Sensitive",
            "Very Sensitive",
            "Not Sensitive",
            "Not Sensitive",
            "Very Sensitive",
            "Very Sensitive",
            "Very Sensitive",
            "Very Sensitive",
            "Not Sensitive",
            "Very Sensitive",
            "Somewhat Sensitive",
            "Very Sensitive",
            "Somewhat Sensitive",
            "Not Sensitive",
            "Very Sensitive",
            "Somewhat Sensitive",
            "Somewhat Sensitive",
            "Not Sensitive",
            "Not Sensitive",
            "Not Sensitive",
            "Very Sensitive",
            "Very Sensitive",
            "Not Sensitive",
            "Somewhat Sensitive",
            "Not Sensitive",
            "Somewhat Sensitive",
            "Very Sensitive",
            "Not Sensitive",
            "Not Sensitive",
            "Not Sensitive",
            "Somewhat Sensitive",
            "Very Sensitive",
            "Not Sensitive",
            "Somewhat Sensitive",
            "Not Sensitive",
            "Not Sensitive",
            "Very Sensitive",
            "Somewhat Sensitive",
            "Very Sensitive",
            "Somewhat Sensitive",
            "Very Sensitive",
            "Very Sensitive",
            "Somewhat Sensitive",
            "Not Sensitive",
            "Not Sensitive",
            "Not Sensitive",
            "Very Sensitive",
            "Somewhat Sensitive",
            "Very Sensitive",
            "Somewhat Sensitive",
            "Very Sensitive",
            "Not Sensitive",
            "Very Sensitive",
            "Somewhat Sensitive",
            "Not Sensitive",
            "Very Sensitive",
            "Somewhat Sensitive",
            "Very Sensitive",
            "Not Sensitive",
            "Somewhat Sensitive",
            "Not Sensitive",
            "Somewhat Sensitive",
            "Somewhat Sensitive",
            "Not Sensitive",
            "Not Sensitive",
            "Very Sensitive",
            "Somewhat Sensitive",
            "Somewhat Sensitive",
            "Not Sensitive",
            "Not Sensitive",
            "Not Sensitive",
            "Somewhat Sensitive",
            "Very Sensitive",
            "Very Sensitive",
            "Very Sensitive",
            "Not Sensitive",
            "Not Sensitive",
            "Somewhat Sensitive",
            "Very Sensitive",
            "Not Sensitive",
            "Very Sensitive",
            "Very Sensitive",
            "Somewhat Sensitive",
            "Not Sensitive",
            "Somewhat Sensitive",
            "Very Sensitive",
            "Not Sensitive",
            "Not Sensitive",
            "Somewhat Sensitive",
            "Very Sensitive",
            "Not Sensitive",
            "Not Sensitive",
            "Very Sensitive",
            "Somewhat Sensitive",
            "Not Sensitive",
            "Not Sensitive",
            "Not Sensitive",
            "Very Sensitive",
            "Somewhat Sensitive",
            "Not Sensitive",
            "Very Sensitive",
            "Very Sensitive",
            "Somewhat Sensitive",
            "Not Sensitive"
           ]
          }
         ],
         "domain": {
          "x": [
           0,
           1
          ],
          "y": [
           0,
           1
          ]
         },
         "line": {
          "color": {
           "bdata": "AAEAAAAAAAABAQABAAEBAQEAAAEAAQEAAQEAAQAAAQEBAQABAAAAAAAAAQEBAAEBAAAAAQAAAAEAAQEAAQEAAAABAQABAAAAAQEAAQABAAEBAAAAAQEBAQAAAAEAAQEBAAABAAEBAAABAAAAAAAAAQAAAQABAQABAQABAAEBAAEBAQEBAQEBAAEBAQEBAAABAAAAAQEBAAEBAAEAAQEAAAEBAAEAAQABAQAAAQEBAAAAAAABAQEBAQABAQAAAAEAAAAAAAABAAEAAAAAAAAAAAEAAAEBAAEBAQAAAAABAQAAAQEAAQEAAAEAAAAAAAAAAAEBAQEBAQEBAAEBAQEBAAAAAAEAAAAAAAEBAAEBAAAAAQEAAQEAAAAAAAABAQEAAAAAAAEAAQAAAQEBAAABAAEBAQABAQAAAQEBAQEBAQAAAQEBAQABAQABAAAAAAEAAQABAAEBAAABAAAAAAABAAAAAQABAAEAAAEAAQAAAQEBAQABAAEBAQEBAQEBAAABAAEBAAEAAAEAAQAAAAEBAAEBAAAAAAABAQEBAQAAAAEAAQABAAEAAQAAAQEAAQAAAAAAAQABAAEAAAAAAQABAQEBAQEAAAEBAAEAAAAAAQEBAQEBAQEBAAAAAQAAAAEBAAABAQEBAAEBAQAAAAEBAQABAQAAAAABAQEBAQEAAAABAQEAAQABAAAAAAEAAQEAAAEBAQEAAQEAAQABAQEBAAAAAQEBAQEBAQABAAEBAAEAAAEAAAEBAAAAAAABAAEAAQAAAQABAQABAAEBAAEAAAABAQAAAAAAAAEBAAEAAAEBAQAAAAEBAQEAAQAAAQAAAAAAAQABAAEBAQEBAQAAAAEBAAAAAQABAAEAAAABAAAAAAEBAQEBAQABAAEAAAABAQABAQEAAAEBAQAAAAEAAAEAAAAAAAEAAQEAAQEAAQEBAQABAAAAAAEBAAEBAAABAAABAQAAAAEBAQABAQEAAQABAQABAAEAAAEBAAABAQEBAQEBAQEAAAEAAAAAAQABAQEBAAABAAEBAAABAAABAAEBAQEAAAEAAQABAAEAAQEAAQAAAAAAAQEBAQABAAABAQEAAQEBAQEBAQEAAAEAAQAAAQEAAAEAAQABAQAAAQEAAAEBAAAAAQABAQABAAEBAAEAAQABAQABAAAAAAABAQEBAAEAAQAAAQABAAABAQEAAQABAQAAAAABAQEAAQAAAAEBAQEBAAABAAABAQEBAQEBAQAAAAEBAAEBAAEAAAEBAQEAAQEAAQEAAAEAAAABAAEAAQEAAAABAAABAQEBAQAAAQAAAQABAQAAAAEBAQEBAQEBAQEBAA==",
           "dtype": "i1"
          },
          "coloraxis": "coloraxis"
         },
         "name": "",
         "type": "parcats"
        }
       ],
       "layout": {
        "coloraxis": {
         "colorbar": {
          "title": {
           "text": "income_level_numeric"
          }
         },
         "colorscale": [
          [
           0,
           "#00224e"
          ],
          [
           0.1111111111111111,
           "#123570"
          ],
          [
           0.2222222222222222,
           "#3b496c"
          ],
          [
           0.3333333333333333,
           "#575d6d"
          ],
          [
           0.4444444444444444,
           "#707173"
          ],
          [
           0.5555555555555556,
           "#8a8678"
          ],
          [
           0.6666666666666666,
           "#a59c74"
          ],
          [
           0.7777777777777778,
           "#c3b369"
          ],
          [
           0.8888888888888888,
           "#e1cc55"
          ],
          [
           1,
           "#fee838"
          ]
         ]
        },
        "legend": {
         "tracegroupgap": 0
        },
        "template": {
         "data": {
          "bar": [
           {
            "error_x": {
             "color": "#2a3f5f"
            },
            "error_y": {
             "color": "#2a3f5f"
            },
            "marker": {
             "line": {
              "color": "#E5ECF6",
              "width": 0.5
             },
             "pattern": {
              "fillmode": "overlay",
              "size": 10,
              "solidity": 0.2
             }
            },
            "type": "bar"
           }
          ],
          "barpolar": [
           {
            "marker": {
             "line": {
              "color": "#E5ECF6",
              "width": 0.5
             },
             "pattern": {
              "fillmode": "overlay",
              "size": 10,
              "solidity": 0.2
             }
            },
            "type": "barpolar"
           }
          ],
          "carpet": [
           {
            "aaxis": {
             "endlinecolor": "#2a3f5f",
             "gridcolor": "white",
             "linecolor": "white",
             "minorgridcolor": "white",
             "startlinecolor": "#2a3f5f"
            },
            "baxis": {
             "endlinecolor": "#2a3f5f",
             "gridcolor": "white",
             "linecolor": "white",
             "minorgridcolor": "white",
             "startlinecolor": "#2a3f5f"
            },
            "type": "carpet"
           }
          ],
          "choropleth": [
           {
            "colorbar": {
             "outlinewidth": 0,
             "ticks": ""
            },
            "type": "choropleth"
           }
          ],
          "contour": [
           {
            "colorbar": {
             "outlinewidth": 0,
             "ticks": ""
            },
            "colorscale": [
             [
              0,
              "#0d0887"
             ],
             [
              0.1111111111111111,
              "#46039f"
             ],
             [
              0.2222222222222222,
              "#7201a8"
             ],
             [
              0.3333333333333333,
              "#9c179e"
             ],
             [
              0.4444444444444444,
              "#bd3786"
             ],
             [
              0.5555555555555556,
              "#d8576b"
             ],
             [
              0.6666666666666666,
              "#ed7953"
             ],
             [
              0.7777777777777778,
              "#fb9f3a"
             ],
             [
              0.8888888888888888,
              "#fdca26"
             ],
             [
              1,
              "#f0f921"
             ]
            ],
            "type": "contour"
           }
          ],
          "contourcarpet": [
           {
            "colorbar": {
             "outlinewidth": 0,
             "ticks": ""
            },
            "type": "contourcarpet"
           }
          ],
          "heatmap": [
           {
            "colorbar": {
             "outlinewidth": 0,
             "ticks": ""
            },
            "colorscale": [
             [
              0,
              "#0d0887"
             ],
             [
              0.1111111111111111,
              "#46039f"
             ],
             [
              0.2222222222222222,
              "#7201a8"
             ],
             [
              0.3333333333333333,
              "#9c179e"
             ],
             [
              0.4444444444444444,
              "#bd3786"
             ],
             [
              0.5555555555555556,
              "#d8576b"
             ],
             [
              0.6666666666666666,
              "#ed7953"
             ],
             [
              0.7777777777777778,
              "#fb9f3a"
             ],
             [
              0.8888888888888888,
              "#fdca26"
             ],
             [
              1,
              "#f0f921"
             ]
            ],
            "type": "heatmap"
           }
          ],
          "histogram": [
           {
            "marker": {
             "pattern": {
              "fillmode": "overlay",
              "size": 10,
              "solidity": 0.2
             }
            },
            "type": "histogram"
           }
          ],
          "histogram2d": [
           {
            "colorbar": {
             "outlinewidth": 0,
             "ticks": ""
            },
            "colorscale": [
             [
              0,
              "#0d0887"
             ],
             [
              0.1111111111111111,
              "#46039f"
             ],
             [
              0.2222222222222222,
              "#7201a8"
             ],
             [
              0.3333333333333333,
              "#9c179e"
             ],
             [
              0.4444444444444444,
              "#bd3786"
             ],
             [
              0.5555555555555556,
              "#d8576b"
             ],
             [
              0.6666666666666666,
              "#ed7953"
             ],
             [
              0.7777777777777778,
              "#fb9f3a"
             ],
             [
              0.8888888888888888,
              "#fdca26"
             ],
             [
              1,
              "#f0f921"
             ]
            ],
            "type": "histogram2d"
           }
          ],
          "histogram2dcontour": [
           {
            "colorbar": {
             "outlinewidth": 0,
             "ticks": ""
            },
            "colorscale": [
             [
              0,
              "#0d0887"
             ],
             [
              0.1111111111111111,
              "#46039f"
             ],
             [
              0.2222222222222222,
              "#7201a8"
             ],
             [
              0.3333333333333333,
              "#9c179e"
             ],
             [
              0.4444444444444444,
              "#bd3786"
             ],
             [
              0.5555555555555556,
              "#d8576b"
             ],
             [
              0.6666666666666666,
              "#ed7953"
             ],
             [
              0.7777777777777778,
              "#fb9f3a"
             ],
             [
              0.8888888888888888,
              "#fdca26"
             ],
             [
              1,
              "#f0f921"
             ]
            ],
            "type": "histogram2dcontour"
           }
          ],
          "mesh3d": [
           {
            "colorbar": {
             "outlinewidth": 0,
             "ticks": ""
            },
            "type": "mesh3d"
           }
          ],
          "parcoords": [
           {
            "line": {
             "colorbar": {
              "outlinewidth": 0,
              "ticks": ""
             }
            },
            "type": "parcoords"
           }
          ],
          "pie": [
           {
            "automargin": true,
            "type": "pie"
           }
          ],
          "scatter": [
           {
            "fillpattern": {
             "fillmode": "overlay",
             "size": 10,
             "solidity": 0.2
            },
            "type": "scatter"
           }
          ],
          "scatter3d": [
           {
            "line": {
             "colorbar": {
              "outlinewidth": 0,
              "ticks": ""
             }
            },
            "marker": {
             "colorbar": {
              "outlinewidth": 0,
              "ticks": ""
             }
            },
            "type": "scatter3d"
           }
          ],
          "scattercarpet": [
           {
            "marker": {
             "colorbar": {
              "outlinewidth": 0,
              "ticks": ""
             }
            },
            "type": "scattercarpet"
           }
          ],
          "scattergeo": [
           {
            "marker": {
             "colorbar": {
              "outlinewidth": 0,
              "ticks": ""
             }
            },
            "type": "scattergeo"
           }
          ],
          "scattergl": [
           {
            "marker": {
             "colorbar": {
              "outlinewidth": 0,
              "ticks": ""
             }
            },
            "type": "scattergl"
           }
          ],
          "scattermap": [
           {
            "marker": {
             "colorbar": {
              "outlinewidth": 0,
              "ticks": ""
             }
            },
            "type": "scattermap"
           }
          ],
          "scattermapbox": [
           {
            "marker": {
             "colorbar": {
              "outlinewidth": 0,
              "ticks": ""
             }
            },
            "type": "scattermapbox"
           }
          ],
          "scatterpolar": [
           {
            "marker": {
             "colorbar": {
              "outlinewidth": 0,
              "ticks": ""
             }
            },
            "type": "scatterpolar"
           }
          ],
          "scatterpolargl": [
           {
            "marker": {
             "colorbar": {
              "outlinewidth": 0,
              "ticks": ""
             }
            },
            "type": "scatterpolargl"
           }
          ],
          "scatterternary": [
           {
            "marker": {
             "colorbar": {
              "outlinewidth": 0,
              "ticks": ""
             }
            },
            "type": "scatterternary"
           }
          ],
          "surface": [
           {
            "colorbar": {
             "outlinewidth": 0,
             "ticks": ""
            },
            "colorscale": [
             [
              0,
              "#0d0887"
             ],
             [
              0.1111111111111111,
              "#46039f"
             ],
             [
              0.2222222222222222,
              "#7201a8"
             ],
             [
              0.3333333333333333,
              "#9c179e"
             ],
             [
              0.4444444444444444,
              "#bd3786"
             ],
             [
              0.5555555555555556,
              "#d8576b"
             ],
             [
              0.6666666666666666,
              "#ed7953"
             ],
             [
              0.7777777777777778,
              "#fb9f3a"
             ],
             [
              0.8888888888888888,
              "#fdca26"
             ],
             [
              1,
              "#f0f921"
             ]
            ],
            "type": "surface"
           }
          ],
          "table": [
           {
            "cells": {
             "fill": {
              "color": "#EBF0F8"
             },
             "line": {
              "color": "white"
             }
            },
            "header": {
             "fill": {
              "color": "#C8D4E3"
             },
             "line": {
              "color": "white"
             }
            },
            "type": "table"
           }
          ]
         },
         "layout": {
          "annotationdefaults": {
           "arrowcolor": "#2a3f5f",
           "arrowhead": 0,
           "arrowwidth": 1
          },
          "autotypenumbers": "strict",
          "coloraxis": {
           "colorbar": {
            "outlinewidth": 0,
            "ticks": ""
           }
          },
          "colorscale": {
           "diverging": [
            [
             0,
             "#8e0152"
            ],
            [
             0.1,
             "#c51b7d"
            ],
            [
             0.2,
             "#de77ae"
            ],
            [
             0.3,
             "#f1b6da"
            ],
            [
             0.4,
             "#fde0ef"
            ],
            [
             0.5,
             "#f7f7f7"
            ],
            [
             0.6,
             "#e6f5d0"
            ],
            [
             0.7,
             "#b8e186"
            ],
            [
             0.8,
             "#7fbc41"
            ],
            [
             0.9,
             "#4d9221"
            ],
            [
             1,
             "#276419"
            ]
           ],
           "sequential": [
            [
             0,
             "#0d0887"
            ],
            [
             0.1111111111111111,
             "#46039f"
            ],
            [
             0.2222222222222222,
             "#7201a8"
            ],
            [
             0.3333333333333333,
             "#9c179e"
            ],
            [
             0.4444444444444444,
             "#bd3786"
            ],
            [
             0.5555555555555556,
             "#d8576b"
            ],
            [
             0.6666666666666666,
             "#ed7953"
            ],
            [
             0.7777777777777778,
             "#fb9f3a"
            ],
            [
             0.8888888888888888,
             "#fdca26"
            ],
            [
             1,
             "#f0f921"
            ]
           ],
           "sequentialminus": [
            [
             0,
             "#0d0887"
            ],
            [
             0.1111111111111111,
             "#46039f"
            ],
            [
             0.2222222222222222,
             "#7201a8"
            ],
            [
             0.3333333333333333,
             "#9c179e"
            ],
            [
             0.4444444444444444,
             "#bd3786"
            ],
            [
             0.5555555555555556,
             "#d8576b"
            ],
            [
             0.6666666666666666,
             "#ed7953"
            ],
            [
             0.7777777777777778,
             "#fb9f3a"
            ],
            [
             0.8888888888888888,
             "#fdca26"
            ],
            [
             1,
             "#f0f921"
            ]
           ]
          },
          "colorway": [
           "#636efa",
           "#EF553B",
           "#00cc96",
           "#ab63fa",
           "#FFA15A",
           "#19d3f3",
           "#FF6692",
           "#B6E880",
           "#FF97FF",
           "#FECB52"
          ],
          "font": {
           "color": "#2a3f5f"
          },
          "geo": {
           "bgcolor": "white",
           "lakecolor": "white",
           "landcolor": "#E5ECF6",
           "showlakes": true,
           "showland": true,
           "subunitcolor": "white"
          },
          "hoverlabel": {
           "align": "left"
          },
          "hovermode": "closest",
          "mapbox": {
           "style": "light"
          },
          "paper_bgcolor": "white",
          "plot_bgcolor": "#E5ECF6",
          "polar": {
           "angularaxis": {
            "gridcolor": "white",
            "linecolor": "white",
            "ticks": ""
           },
           "bgcolor": "#E5ECF6",
           "radialaxis": {
            "gridcolor": "white",
            "linecolor": "white",
            "ticks": ""
           }
          },
          "scene": {
           "xaxis": {
            "backgroundcolor": "#E5ECF6",
            "gridcolor": "white",
            "gridwidth": 2,
            "linecolor": "white",
            "showbackground": true,
            "ticks": "",
            "zerolinecolor": "white"
           },
           "yaxis": {
            "backgroundcolor": "#E5ECF6",
            "gridcolor": "white",
            "gridwidth": 2,
            "linecolor": "white",
            "showbackground": true,
            "ticks": "",
            "zerolinecolor": "white"
           },
           "zaxis": {
            "backgroundcolor": "#E5ECF6",
            "gridcolor": "white",
            "gridwidth": 2,
            "linecolor": "white",
            "showbackground": true,
            "ticks": "",
            "zerolinecolor": "white"
           }
          },
          "shapedefaults": {
           "line": {
            "color": "#2a3f5f"
           }
          },
          "ternary": {
           "aaxis": {
            "gridcolor": "white",
            "linecolor": "white",
            "ticks": ""
           },
           "baxis": {
            "gridcolor": "white",
            "linecolor": "white",
            "ticks": ""
           },
           "bgcolor": "#E5ECF6",
           "caxis": {
            "gridcolor": "white",
            "linecolor": "white",
            "ticks": ""
           }
          },
          "title": {
           "x": 0.05
          },
          "xaxis": {
           "automargin": true,
           "gridcolor": "white",
           "linecolor": "white",
           "ticks": "",
           "title": {
            "standoff": 15
           },
           "zerolinecolor": "white",
           "zerolinewidth": 2
          },
          "yaxis": {
           "automargin": true,
           "gridcolor": "white",
           "linecolor": "white",
           "ticks": "",
           "title": {
            "standoff": 15
           },
           "zerolinecolor": "white",
           "zerolinewidth": 2
          }
         }
        },
        "title": {
         "text": "Customer Behavior by Income Level and Discount Sensitivity"
        }
       }
      }
     },
     "metadata": {},
     "output_type": "display_data"
    }
   ],
   "source": [
    "# Customer Behavior by Income Level and Discount Sensitivity\n",
    "income_mapping = {'Middle':0, 'High':1}\n",
    "df['income_level_numeric'] = df['Income_Level'].map(income_mapping)\n",
    "px.parallel_categories(df,dimensions=['Income_Level','Discount_Sensitivity'],\n",
    "                        color='income_level_numeric', color_continuous_scale='Cividis',\n",
    "                        labels={'Income_Level':'Income Level', 'Discount_Sensitivity':'Discount Sensitivity',}, \n",
    "                          title='Customer Behavior by Income Level and Discount Sensitivity')\n"
   ]
  },
  {
   "cell_type": "code",
   "execution_count": null,
   "metadata": {},
   "outputs": [],
   "source": [
    "from joypy import joyplot"
   ]
  },
  {
   "cell_type": "code",
   "execution_count": null,
   "metadata": {},
   "outputs": [
    {
     "data": {
      "image/png": "[encoded data removed]",
      "text/plain": [
       "<Figure size 640x480 with 4 Axes>"
      ]
     },
     "metadata": {},
     "output_type": "display_data"
    }
   ],
   "source": [
    "# Purchase Amount Distribution by Social Media Influence\n",
    "from matplotlib import cm\n",
    "joyplot(data=df, by='Social_Media_Influence', column='Purchase_Amount', colormap=cm.cividis, fade=True)\n",
    "plt.xlabel('Purchase Amount')\n",
    "plt.title('Purchase Amount Distribution by Social Media Influence')\n",
    "plt.grid()\n",
    "plt.tight_layout()"
   ]
  }
 ],
 "metadata": {
  "kernelspec": {
   "display_name": "Python 3",
   "language": "python",
   "name": "python3"
  },
  "language_info": {
   "codemirror_mode": {
    "name": "ipython",
    "version": 3
   },
   "file_extension": ".py",
   "mimetype": "text/x-python",
   "name": "python",
   "nbconvert_exporter": "python",
   "pygments_lexer": "ipython3",
   "version": "3.13.1"
  }
 },
 "nbformat": 4,
 "nbformat_minor": 2
}
